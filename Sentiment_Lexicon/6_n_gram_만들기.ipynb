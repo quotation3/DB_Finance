{
  "nbformat": 4,
  "nbformat_minor": 0,
  "metadata": {
    "colab": {
      "name": "6.n_gram_만들기_only_topic.ipynb",
      "provenance": [],
      "collapsed_sections": [],
      "include_colab_link": true
    },
    "kernelspec": {
      "name": "python3",
      "display_name": "Python 3"
    }
  },
  "cells": [
    {
      "cell_type": "markdown",
      "metadata": {
        "id": "view-in-github",
        "colab_type": "text"
      },
      "source": [
        "<a href=\"https://colab.research.google.com/github/quotation3/DB_Finance/blob/main/Sentiment_Lexicon/6_n_gram_%EB%A7%8C%EB%93%A4%EA%B8%B0.ipynb\" target=\"_parent\"><img src=\"https://colab.research.google.com/assets/colab-badge.svg\" alt=\"Open In Colab\"/></a>"
      ]
    },
    {
      "cell_type": "markdown",
      "metadata": {
        "id": "4VrTwLqXCMwH"
      },
      "source": [
        "### Threshold ±1.5기준으로 라벨링"
      ]
    },
    {
      "cell_type": "code",
      "metadata": {
        "id": "10jryMpJFK7h",
        "colab": {
          "base_uri": "https://localhost:8080/"
        },
        "outputId": "491d0155-5cc9-477e-8198-7bb9f742e45c"
      },
      "source": [
        "from google.colab import drive\n",
        "drive.mount('/content/drive')"
      ],
      "execution_count": null,
      "outputs": [
        {
          "output_type": "stream",
          "text": [
            "Mounted at /content/drive\n"
          ],
          "name": "stdout"
        }
      ]
    },
    {
      "cell_type": "code",
      "metadata": {
        "id": "76p3PWcOxny9"
      },
      "source": [
        "import pandas as pd\r\n",
        "from tqdm import tqdm"
      ],
      "execution_count": null,
      "outputs": []
    },
    {
      "cell_type": "code",
      "metadata": {
        "colab": {
          "base_uri": "https://localhost:8080/",
          "height": 1000
        },
        "id": "2vhDl6hllge3",
        "outputId": "7b172191-9760-4713-ca31-ff0d6deb4001"
      },
      "source": [
        "news = pd.read_csv('/content/drive/MyDrive/DB_Finance/data/lg_chemical_only_topic.csv',lineterminator='\\n')\r\n",
        "news"
      ],
      "execution_count": null,
      "outputs": [
        {
          "output_type": "execute_result",
          "data": {
            "text/html": [
              "<div>\n",
              "<style scoped>\n",
              "    .dataframe tbody tr th:only-of-type {\n",
              "        vertical-align: middle;\n",
              "    }\n",
              "\n",
              "    .dataframe tbody tr th {\n",
              "        vertical-align: top;\n",
              "    }\n",
              "\n",
              "    .dataframe thead th {\n",
              "        text-align: right;\n",
              "    }\n",
              "</style>\n",
              "<table border=\"1\" class=\"dataframe\">\n",
              "  <thead>\n",
              "    <tr style=\"text-align: right;\">\n",
              "      <th></th>\n",
              "      <th>Unnamed: 0</th>\n",
              "      <th>date</th>\n",
              "      <th>title</th>\n",
              "      <th>content</th>\n",
              "      <th>change</th>\n",
              "      <th>have_topic</th>\n",
              "      <th>nouns</th>\n",
              "    </tr>\n",
              "  </thead>\n",
              "  <tbody>\n",
              "    <tr>\n",
              "      <th>0</th>\n",
              "      <td>0</td>\n",
              "      <td>2017-01-02</td>\n",
              "      <td>中, 한국산 배터리 탑재차 보조금 제외…LG화학·삼성SDI '날벼락'</td>\n",
              "      <td>中, 한국산 배터리 탑재차 보조금 제외…LG화학·삼성SDI '날벼락' 중국 정부가 ...</td>\n",
              "      <td>-3.07</td>\n",
              "      <td>1</td>\n",
              "      <td>['中', '한국', '배터리', '탑', '보조금', '제외', '화학', '삼성...</td>\n",
              "    </tr>\n",
              "    <tr>\n",
              "      <th>1</th>\n",
              "      <td>1</td>\n",
              "      <td>2017-01-02</td>\n",
              "      <td>[리더십 4.0시대]2016년 1년간 분석한 '4차 산업혁명' 리더 경영인은 누굴까</td>\n",
              "      <td>[리더십 4.0시대]2016년 1년간 분석한 '4차 산업혁명' 리더 경영인은 누굴까...</td>\n",
              "      <td>-3.07</td>\n",
              "      <td>1</td>\n",
              "      <td>['리더십', '시대', '년', '년', '간', '분석', '차', '산업', ...</td>\n",
              "    </tr>\n",
              "    <tr>\n",
              "      <th>2</th>\n",
              "      <td>2</td>\n",
              "      <td>2017-01-02</td>\n",
              "      <td>구본무 회장, \"창립 70년 맞은 올해 새롭게 시작하자\"</td>\n",
              "      <td>구본무 회장, \"창립 70년 맞은 올해 새롭게 시작하자\" [구 회장, LG 그룹 신...</td>\n",
              "      <td>-3.07</td>\n",
              "      <td>1</td>\n",
              "      <td>['구본무', '회장', '창립', '년', '올해', '시작', '회장', '그룹...</td>\n",
              "    </tr>\n",
              "    <tr>\n",
              "      <th>3</th>\n",
              "      <td>3</td>\n",
              "      <td>2017-01-02</td>\n",
              "      <td>한국산 ‘車 배터리’ 中서 설 자리 잃나…장착 차량 보조금도 제외</td>\n",
              "      <td>한국산 ‘車 배터리’ 中서 설 자리 잃나…장착 차량 보조금도 제외 중국의 한국산 전...</td>\n",
              "      <td>-3.07</td>\n",
              "      <td>1</td>\n",
              "      <td>['한국', '車', '배터리', '中', '설', '자리', '장착', '차량',...</td>\n",
              "    </tr>\n",
              "    <tr>\n",
              "      <th>4</th>\n",
              "      <td>4</td>\n",
              "      <td>2017-01-02</td>\n",
              "      <td>LG, 1회 충전으로 24시간 사용 노트북 시판</td>\n",
              "      <td>LG, 1회 충전으로 24시간 사용 노트북 시판[동아일보]　LG전자는 한 번 충전해...</td>\n",
              "      <td>-3.07</td>\n",
              "      <td>1</td>\n",
              "      <td>['회', '충전', '시간', '사용', '노트북', '시판', '동아일보', '...</td>\n",
              "    </tr>\n",
              "    <tr>\n",
              "      <th>...</th>\n",
              "      <td>...</td>\n",
              "      <td>...</td>\n",
              "      <td>...</td>\n",
              "      <td>...</td>\n",
              "      <td>...</td>\n",
              "      <td>...</td>\n",
              "      <td>...</td>\n",
              "    </tr>\n",
              "    <tr>\n",
              "      <th>7455</th>\n",
              "      <td>7455</td>\n",
              "      <td>2019-12-30</td>\n",
              "      <td>‘화학놀이터’·‘화학캠프’로 과학교육 기부</td>\n",
              "      <td>‘화학놀이터’·‘화학캠프’로 과학교육 기부 [사회공헌 특집]LG화학은 유엔이 정한 ...</td>\n",
              "      <td>2.25</td>\n",
              "      <td>1</td>\n",
              "      <td>['화학', '놀이터', '화학', '캠프', '과학', '교육', '기부', '사...</td>\n",
              "    </tr>\n",
              "    <tr>\n",
              "      <th>7456</th>\n",
              "      <td>7456</td>\n",
              "      <td>2019-12-30</td>\n",
              "      <td>'中 배터리 1위' CATL, 시가총액 38조원 돌파</td>\n",
              "      <td>'中 배터리 1위' CATL, 시가총액 38조원 돌파세계 최대 배터리 제조사인 중국...</td>\n",
              "      <td>2.25</td>\n",
              "      <td>1</td>\n",
              "      <td>['中', '배터리', '위', '시가총액', '조', '원', '돌파', '세계'...</td>\n",
              "    </tr>\n",
              "    <tr>\n",
              "      <th>7457</th>\n",
              "      <td>7457</td>\n",
              "      <td>2019-12-30</td>\n",
              "      <td>LG전자, 폴란드 브로츠와프에 배터리 분리막 공장 증설</td>\n",
              "      <td>LG전자, 폴란드 브로츠와프에 배터리 분리막 공장 증설LG전자가 폴란드 브로츠와프에...</td>\n",
              "      <td>2.25</td>\n",
              "      <td>1</td>\n",
              "      <td>['전자', '폴란드', '브로츠와프', '배터리', '분리', '막', '공장',...</td>\n",
              "    </tr>\n",
              "    <tr>\n",
              "      <th>7458</th>\n",
              "      <td>7458</td>\n",
              "      <td>2019-12-30</td>\n",
              "      <td>[2019 결산-산업 ⑩] 소송에다 ESS 화재까지…다사다난 배터리업계</td>\n",
              "      <td>[2019 결산-산업 ⑩] 소송에다 ESS 화재까지…다사다난 배터리업계 국내 배터리...</td>\n",
              "      <td>2.25</td>\n",
              "      <td>1</td>\n",
              "      <td>['결산', '산업', '소송', '화재', '다사다난', '배터리', '업계', ...</td>\n",
              "    </tr>\n",
              "    <tr>\n",
              "      <th>7459</th>\n",
              "      <td>7459</td>\n",
              "      <td>2019-12-30</td>\n",
              "      <td>‘어떻게 살 것인가’ 남은 이들에게 메시지 남기고 떠나다</td>\n",
              "      <td>‘어떻게 살 것인가’ 남은 이들에게 메시지 남기고 떠나다올 한 해 국내 정치권에선 ...</td>\n",
              "      <td>2.25</td>\n",
              "      <td>1</td>\n",
              "      <td>['것', '남', '이', '메시지', '해', '국내', '정치', '김대중',...</td>\n",
              "    </tr>\n",
              "  </tbody>\n",
              "</table>\n",
              "<p>7460 rows × 7 columns</p>\n",
              "</div>"
            ],
            "text/plain": [
              "      Unnamed: 0  ...                                              nouns\n",
              "0              0  ...  ['中', '한국', '배터리', '탑', '보조금', '제외', '화학', '삼성...\n",
              "1              1  ...  ['리더십', '시대', '년', '년', '간', '분석', '차', '산업', ...\n",
              "2              2  ...  ['구본무', '회장', '창립', '년', '올해', '시작', '회장', '그룹...\n",
              "3              3  ...  ['한국', '車', '배터리', '中', '설', '자리', '장착', '차량',...\n",
              "4              4  ...  ['회', '충전', '시간', '사용', '노트북', '시판', '동아일보', '...\n",
              "...          ...  ...                                                ...\n",
              "7455        7455  ...  ['화학', '놀이터', '화학', '캠프', '과학', '교육', '기부', '사...\n",
              "7456        7456  ...  ['中', '배터리', '위', '시가총액', '조', '원', '돌파', '세계'...\n",
              "7457        7457  ...  ['전자', '폴란드', '브로츠와프', '배터리', '분리', '막', '공장',...\n",
              "7458        7458  ...  ['결산', '산업', '소송', '화재', '다사다난', '배터리', '업계', ...\n",
              "7459        7459  ...  ['것', '남', '이', '메시지', '해', '국내', '정치', '김대중',...\n",
              "\n",
              "[7460 rows x 7 columns]"
            ]
          },
          "metadata": {
            "tags": []
          },
          "execution_count": 5
        }
      ]
    },
    {
      "cell_type": "code",
      "metadata": {
        "id": "JEQNhxVzKeC6"
      },
      "source": [
        "news = news[['date','title','content','change']]"
      ],
      "execution_count": null,
      "outputs": []
    },
    {
      "cell_type": "code",
      "metadata": {
        "colab": {
          "base_uri": "https://localhost:8080/"
        },
        "id": "MCoDMB5vKrGi",
        "outputId": "37a9b4f8-55bb-47fc-a4aa-a19232c64969"
      },
      "source": [
        "news['date'] = pd.to_datetime(news['date'])"
      ],
      "execution_count": null,
      "outputs": [
        {
          "output_type": "stream",
          "text": [
            "/usr/local/lib/python3.7/dist-packages/ipykernel_launcher.py:1: SettingWithCopyWarning: \n",
            "A value is trying to be set on a copy of a slice from a DataFrame.\n",
            "Try using .loc[row_indexer,col_indexer] = value instead\n",
            "\n",
            "See the caveats in the documentation: https://pandas.pydata.org/pandas-docs/stable/user_guide/indexing.html#returning-a-view-versus-a-copy\n",
            "  \"\"\"Entry point for launching an IPython kernel.\n"
          ],
          "name": "stderr"
        }
      ]
    },
    {
      "cell_type": "code",
      "metadata": {
        "colab": {
          "base_uri": "https://localhost:8080/",
          "height": 589
        },
        "id": "EZ9KuE_GDLA4",
        "outputId": "09fca559-6f42-40c4-81cb-d8fa827c351d"
      },
      "source": [
        "news[news['change']>= 1.5]"
      ],
      "execution_count": null,
      "outputs": [
        {
          "output_type": "execute_result",
          "data": {
            "text/html": [
              "<div>\n",
              "<style scoped>\n",
              "    .dataframe tbody tr th:only-of-type {\n",
              "        vertical-align: middle;\n",
              "    }\n",
              "\n",
              "    .dataframe tbody tr th {\n",
              "        vertical-align: top;\n",
              "    }\n",
              "\n",
              "    .dataframe thead th {\n",
              "        text-align: right;\n",
              "    }\n",
              "</style>\n",
              "<table border=\"1\" class=\"dataframe\">\n",
              "  <thead>\n",
              "    <tr style=\"text-align: right;\">\n",
              "      <th></th>\n",
              "      <th>date</th>\n",
              "      <th>title</th>\n",
              "      <th>content</th>\n",
              "      <th>change</th>\n",
              "    </tr>\n",
              "  </thead>\n",
              "  <tbody>\n",
              "    <tr>\n",
              "      <th>20</th>\n",
              "      <td>2017-01-03</td>\n",
              "      <td>[CES 2017]“Car 쇼라고 불러다오”...가전쇼 주인공 등극한 미래 車</td>\n",
              "      <td>[CES 2017]“Car 쇼라고 불러다오”...가전쇼 주인공 등극한 미래 車`20...</td>\n",
              "      <td>3.56</td>\n",
              "    </tr>\n",
              "    <tr>\n",
              "      <th>21</th>\n",
              "      <td>2017-01-03</td>\n",
              "      <td>두산밥캣, 中 소재 종속회사 간 흡수합병 外</td>\n",
              "      <td>두산밥캣, 中 소재 종속회사 간 흡수합병 外【서울=뉴시스】 ▲두산밥캣(241560)...</td>\n",
              "      <td>3.56</td>\n",
              "    </tr>\n",
              "    <tr>\n",
              "      <th>22</th>\n",
              "      <td>2017-01-03</td>\n",
              "      <td>1월2일</td>\n",
              "      <td>1월2일▲이엔쓰리=이준·한윤석 전 사내이사 혐의없음으로 결론 ▲한신공영=자회사 드림...</td>\n",
              "      <td>3.56</td>\n",
              "    </tr>\n",
              "    <tr>\n",
              "      <th>23</th>\n",
              "      <td>2017-01-03</td>\n",
              "      <td>中 전방위 사드보복.. 전기차배터리·항공株 직격탄</td>\n",
              "      <td>中 전방위 사드보복.. 전기차배터리·항공株 직격탄</td>\n",
              "      <td>3.56</td>\n",
              "    </tr>\n",
              "    <tr>\n",
              "      <th>24</th>\n",
              "      <td>2017-01-03</td>\n",
              "      <td>[2017 에너지 리더]② 강남훈 에너지공단 이사장 \"기후변화 대응은 '기회'…에너...</td>\n",
              "      <td>[2017 에너지 리더]② 강남훈 에너지공단 이사장 \"기후변화 대응은 '기회'…에너...</td>\n",
              "      <td>3.56</td>\n",
              "    </tr>\n",
              "    <tr>\n",
              "      <th>...</th>\n",
              "      <td>...</td>\n",
              "      <td>...</td>\n",
              "      <td>...</td>\n",
              "      <td>...</td>\n",
              "    </tr>\n",
              "    <tr>\n",
              "      <th>7455</th>\n",
              "      <td>2019-12-30</td>\n",
              "      <td>‘화학놀이터’·‘화학캠프’로 과학교육 기부</td>\n",
              "      <td>‘화학놀이터’·‘화학캠프’로 과학교육 기부 [사회공헌 특집]LG화학은 유엔이 정한 ...</td>\n",
              "      <td>2.25</td>\n",
              "    </tr>\n",
              "    <tr>\n",
              "      <th>7456</th>\n",
              "      <td>2019-12-30</td>\n",
              "      <td>'中 배터리 1위' CATL, 시가총액 38조원 돌파</td>\n",
              "      <td>'中 배터리 1위' CATL, 시가총액 38조원 돌파세계 최대 배터리 제조사인 중국...</td>\n",
              "      <td>2.25</td>\n",
              "    </tr>\n",
              "    <tr>\n",
              "      <th>7457</th>\n",
              "      <td>2019-12-30</td>\n",
              "      <td>LG전자, 폴란드 브로츠와프에 배터리 분리막 공장 증설</td>\n",
              "      <td>LG전자, 폴란드 브로츠와프에 배터리 분리막 공장 증설LG전자가 폴란드 브로츠와프에...</td>\n",
              "      <td>2.25</td>\n",
              "    </tr>\n",
              "    <tr>\n",
              "      <th>7458</th>\n",
              "      <td>2019-12-30</td>\n",
              "      <td>[2019 결산-산업 ⑩] 소송에다 ESS 화재까지…다사다난 배터리업계</td>\n",
              "      <td>[2019 결산-산업 ⑩] 소송에다 ESS 화재까지…다사다난 배터리업계 국내 배터리...</td>\n",
              "      <td>2.25</td>\n",
              "    </tr>\n",
              "    <tr>\n",
              "      <th>7459</th>\n",
              "      <td>2019-12-30</td>\n",
              "      <td>‘어떻게 살 것인가’ 남은 이들에게 메시지 남기고 떠나다</td>\n",
              "      <td>‘어떻게 살 것인가’ 남은 이들에게 메시지 남기고 떠나다올 한 해 국내 정치권에선 ...</td>\n",
              "      <td>2.25</td>\n",
              "    </tr>\n",
              "  </tbody>\n",
              "</table>\n",
              "<p>1436 rows × 4 columns</p>\n",
              "</div>"
            ],
            "text/plain": [
              "           date  ... change\n",
              "20   2017-01-03  ...   3.56\n",
              "21   2017-01-03  ...   3.56\n",
              "22   2017-01-03  ...   3.56\n",
              "23   2017-01-03  ...   3.56\n",
              "24   2017-01-03  ...   3.56\n",
              "...         ...  ...    ...\n",
              "7455 2019-12-30  ...   2.25\n",
              "7456 2019-12-30  ...   2.25\n",
              "7457 2019-12-30  ...   2.25\n",
              "7458 2019-12-30  ...   2.25\n",
              "7459 2019-12-30  ...   2.25\n",
              "\n",
              "[1436 rows x 4 columns]"
            ]
          },
          "metadata": {
            "tags": []
          },
          "execution_count": 8
        }
      ]
    },
    {
      "cell_type": "code",
      "metadata": {
        "colab": {
          "base_uri": "https://localhost:8080/",
          "height": 589
        },
        "id": "Aunc1XtxDXXb",
        "outputId": "3c22cf7f-1897-49b7-edf8-d882fc8df5e2"
      },
      "source": [
        "news[news['change']<=-1.5]"
      ],
      "execution_count": null,
      "outputs": [
        {
          "output_type": "execute_result",
          "data": {
            "text/html": [
              "<div>\n",
              "<style scoped>\n",
              "    .dataframe tbody tr th:only-of-type {\n",
              "        vertical-align: middle;\n",
              "    }\n",
              "\n",
              "    .dataframe tbody tr th {\n",
              "        vertical-align: top;\n",
              "    }\n",
              "\n",
              "    .dataframe thead th {\n",
              "        text-align: right;\n",
              "    }\n",
              "</style>\n",
              "<table border=\"1\" class=\"dataframe\">\n",
              "  <thead>\n",
              "    <tr style=\"text-align: right;\">\n",
              "      <th></th>\n",
              "      <th>date</th>\n",
              "      <th>title</th>\n",
              "      <th>content</th>\n",
              "      <th>change</th>\n",
              "    </tr>\n",
              "  </thead>\n",
              "  <tbody>\n",
              "    <tr>\n",
              "      <th>0</th>\n",
              "      <td>2017-01-02</td>\n",
              "      <td>中, 한국산 배터리 탑재차 보조금 제외…LG화학·삼성SDI '날벼락'</td>\n",
              "      <td>中, 한국산 배터리 탑재차 보조금 제외…LG화학·삼성SDI '날벼락' 중국 정부가 ...</td>\n",
              "      <td>-3.07</td>\n",
              "    </tr>\n",
              "    <tr>\n",
              "      <th>1</th>\n",
              "      <td>2017-01-02</td>\n",
              "      <td>[리더십 4.0시대]2016년 1년간 분석한 '4차 산업혁명' 리더 경영인은 누굴까</td>\n",
              "      <td>[리더십 4.0시대]2016년 1년간 분석한 '4차 산업혁명' 리더 경영인은 누굴까...</td>\n",
              "      <td>-3.07</td>\n",
              "    </tr>\n",
              "    <tr>\n",
              "      <th>2</th>\n",
              "      <td>2017-01-02</td>\n",
              "      <td>구본무 회장, \"창립 70년 맞은 올해 새롭게 시작하자\"</td>\n",
              "      <td>구본무 회장, \"창립 70년 맞은 올해 새롭게 시작하자\" [구 회장, LG 그룹 신...</td>\n",
              "      <td>-3.07</td>\n",
              "    </tr>\n",
              "    <tr>\n",
              "      <th>3</th>\n",
              "      <td>2017-01-02</td>\n",
              "      <td>한국산 ‘車 배터리’ 中서 설 자리 잃나…장착 차량 보조금도 제외</td>\n",
              "      <td>한국산 ‘車 배터리’ 中서 설 자리 잃나…장착 차량 보조금도 제외 중국의 한국산 전...</td>\n",
              "      <td>-3.07</td>\n",
              "    </tr>\n",
              "    <tr>\n",
              "      <th>4</th>\n",
              "      <td>2017-01-02</td>\n",
              "      <td>LG, 1회 충전으로 24시간 사용 노트북 시판</td>\n",
              "      <td>LG, 1회 충전으로 24시간 사용 노트북 시판[동아일보]　LG전자는 한 번 충전해...</td>\n",
              "      <td>-3.07</td>\n",
              "    </tr>\n",
              "    <tr>\n",
              "      <th>...</th>\n",
              "      <td>...</td>\n",
              "      <td>...</td>\n",
              "      <td>...</td>\n",
              "      <td>...</td>\n",
              "    </tr>\n",
              "    <tr>\n",
              "      <th>7229</th>\n",
              "      <td>2019-12-04</td>\n",
              "      <td>LG화학, 'SK 배터리소송' 관련 '핵심고객' 獨 폴크스바겐과도 갈등</td>\n",
              "      <td>LG화학, 'SK 배터리소송' 관련 '핵심고객' 獨 폴크스바겐과도 갈등이 전기차용 ...</td>\n",
              "      <td>-4.20</td>\n",
              "    </tr>\n",
              "    <tr>\n",
              "      <th>7230</th>\n",
              "      <td>2019-12-04</td>\n",
              "      <td>“기존 연봉 4배”…한국 고급 인력 대놓고 빼가는 중국</td>\n",
              "      <td>“기존 연봉 4배”…한국 고급 인력 대놓고 빼가는 중국중국 배터리·반도체·항공업체들...</td>\n",
              "      <td>-4.20</td>\n",
              "    </tr>\n",
              "    <tr>\n",
              "      <th>7231</th>\n",
              "      <td>2019-12-04</td>\n",
              "      <td>LG화학, 'SK 배터리소송' 관련 '핵심고객' 폭스바겐과도 갈등</td>\n",
              "      <td>LG화학, 'SK 배터리소송' 관련 '핵심고객' 폭스바겐과도 갈등美ITC에 폭스바겐...</td>\n",
              "      <td>-4.20</td>\n",
              "    </tr>\n",
              "    <tr>\n",
              "      <th>7232</th>\n",
              "      <td>2019-12-04</td>\n",
              "      <td>GS그룹 ‘형제승계’… 막내 허태수 신임회장 체제로</td>\n",
              "      <td>GS그룹 ‘형제승계’… 막내 허태수 신임회장 체제로GS그룹 허창수(71) 회장이 1...</td>\n",
              "      <td>-4.20</td>\n",
              "    </tr>\n",
              "    <tr>\n",
              "      <th>7233</th>\n",
              "      <td>2019-12-04</td>\n",
              "      <td>‘제3 노조’ ‘하청 노조’ 다양해지는 대기업 노조…“노조의 시대 변화”</td>\n",
              "      <td>‘제3 노조’ ‘하청 노조’ 다양해지는 대기업 노조…“노조의 시대 변화”최근 주요 ...</td>\n",
              "      <td>-4.20</td>\n",
              "    </tr>\n",
              "  </tbody>\n",
              "</table>\n",
              "<p>1448 rows × 4 columns</p>\n",
              "</div>"
            ],
            "text/plain": [
              "           date  ... change\n",
              "0    2017-01-02  ...  -3.07\n",
              "1    2017-01-02  ...  -3.07\n",
              "2    2017-01-02  ...  -3.07\n",
              "3    2017-01-02  ...  -3.07\n",
              "4    2017-01-02  ...  -3.07\n",
              "...         ...  ...    ...\n",
              "7229 2019-12-04  ...  -4.20\n",
              "7230 2019-12-04  ...  -4.20\n",
              "7231 2019-12-04  ...  -4.20\n",
              "7232 2019-12-04  ...  -4.20\n",
              "7233 2019-12-04  ...  -4.20\n",
              "\n",
              "[1448 rows x 4 columns]"
            ]
          },
          "metadata": {
            "tags": []
          },
          "execution_count": 9
        }
      ]
    },
    {
      "cell_type": "code",
      "metadata": {
        "id": "StrOkZNED372",
        "colab": {
          "base_uri": "https://localhost:8080/"
        },
        "outputId": "5ae024a3-52d6-418e-fcd0-a2f21d1fce20"
      },
      "source": [
        "news['label']=''"
      ],
      "execution_count": null,
      "outputs": [
        {
          "output_type": "stream",
          "text": [
            "/usr/local/lib/python3.7/dist-packages/ipykernel_launcher.py:1: SettingWithCopyWarning: \n",
            "A value is trying to be set on a copy of a slice from a DataFrame.\n",
            "Try using .loc[row_indexer,col_indexer] = value instead\n",
            "\n",
            "See the caveats in the documentation: https://pandas.pydata.org/pandas-docs/stable/user_guide/indexing.html#returning-a-view-versus-a-copy\n",
            "  \"\"\"Entry point for launching an IPython kernel.\n"
          ],
          "name": "stderr"
        }
      ]
    },
    {
      "cell_type": "code",
      "metadata": {
        "id": "WQliuBXZDz_R"
      },
      "source": [
        "for i in range(len(news)):\r\n",
        "    if news['change'][i]>=1.5:\r\n",
        "        news['label'][i] = 1\r\n",
        "    elif news['change'][i]<=-1.5:\r\n",
        "        news['label'][i] = 0"
      ],
      "execution_count": null,
      "outputs": []
    },
    {
      "cell_type": "code",
      "metadata": {
        "colab": {
          "base_uri": "https://localhost:8080/",
          "height": 589
        },
        "id": "hV8RG17dEGqa",
        "outputId": "297f8191-6b17-447a-dd7f-8ddc78ce856b"
      },
      "source": [
        "news = news[(news['label']==1) | (news['label']==0)]\r\n",
        "news.reset_index(inplace=True, drop=True)\r\n",
        "news"
      ],
      "execution_count": null,
      "outputs": [
        {
          "output_type": "execute_result",
          "data": {
            "text/html": [
              "<div>\n",
              "<style scoped>\n",
              "    .dataframe tbody tr th:only-of-type {\n",
              "        vertical-align: middle;\n",
              "    }\n",
              "\n",
              "    .dataframe tbody tr th {\n",
              "        vertical-align: top;\n",
              "    }\n",
              "\n",
              "    .dataframe thead th {\n",
              "        text-align: right;\n",
              "    }\n",
              "</style>\n",
              "<table border=\"1\" class=\"dataframe\">\n",
              "  <thead>\n",
              "    <tr style=\"text-align: right;\">\n",
              "      <th></th>\n",
              "      <th>date</th>\n",
              "      <th>title</th>\n",
              "      <th>content</th>\n",
              "      <th>change</th>\n",
              "      <th>label</th>\n",
              "    </tr>\n",
              "  </thead>\n",
              "  <tbody>\n",
              "    <tr>\n",
              "      <th>0</th>\n",
              "      <td>2017-01-02</td>\n",
              "      <td>中, 한국산 배터리 탑재차 보조금 제외…LG화학·삼성SDI '날벼락'</td>\n",
              "      <td>中, 한국산 배터리 탑재차 보조금 제외…LG화학·삼성SDI '날벼락' 중국 정부가 ...</td>\n",
              "      <td>-3.07</td>\n",
              "      <td>0</td>\n",
              "    </tr>\n",
              "    <tr>\n",
              "      <th>1</th>\n",
              "      <td>2017-01-02</td>\n",
              "      <td>[리더십 4.0시대]2016년 1년간 분석한 '4차 산업혁명' 리더 경영인은 누굴까</td>\n",
              "      <td>[리더십 4.0시대]2016년 1년간 분석한 '4차 산업혁명' 리더 경영인은 누굴까...</td>\n",
              "      <td>-3.07</td>\n",
              "      <td>0</td>\n",
              "    </tr>\n",
              "    <tr>\n",
              "      <th>2</th>\n",
              "      <td>2017-01-02</td>\n",
              "      <td>구본무 회장, \"창립 70년 맞은 올해 새롭게 시작하자\"</td>\n",
              "      <td>구본무 회장, \"창립 70년 맞은 올해 새롭게 시작하자\" [구 회장, LG 그룹 신...</td>\n",
              "      <td>-3.07</td>\n",
              "      <td>0</td>\n",
              "    </tr>\n",
              "    <tr>\n",
              "      <th>3</th>\n",
              "      <td>2017-01-02</td>\n",
              "      <td>한국산 ‘車 배터리’ 中서 설 자리 잃나…장착 차량 보조금도 제외</td>\n",
              "      <td>한국산 ‘車 배터리’ 中서 설 자리 잃나…장착 차량 보조금도 제외 중국의 한국산 전...</td>\n",
              "      <td>-3.07</td>\n",
              "      <td>0</td>\n",
              "    </tr>\n",
              "    <tr>\n",
              "      <th>4</th>\n",
              "      <td>2017-01-02</td>\n",
              "      <td>LG, 1회 충전으로 24시간 사용 노트북 시판</td>\n",
              "      <td>LG, 1회 충전으로 24시간 사용 노트북 시판[동아일보]　LG전자는 한 번 충전해...</td>\n",
              "      <td>-3.07</td>\n",
              "      <td>0</td>\n",
              "    </tr>\n",
              "    <tr>\n",
              "      <th>...</th>\n",
              "      <td>...</td>\n",
              "      <td>...</td>\n",
              "      <td>...</td>\n",
              "      <td>...</td>\n",
              "      <td>...</td>\n",
              "    </tr>\n",
              "    <tr>\n",
              "      <th>2879</th>\n",
              "      <td>2019-12-30</td>\n",
              "      <td>‘화학놀이터’·‘화학캠프’로 과학교육 기부</td>\n",
              "      <td>‘화학놀이터’·‘화학캠프’로 과학교육 기부 [사회공헌 특집]LG화학은 유엔이 정한 ...</td>\n",
              "      <td>2.25</td>\n",
              "      <td>1</td>\n",
              "    </tr>\n",
              "    <tr>\n",
              "      <th>2880</th>\n",
              "      <td>2019-12-30</td>\n",
              "      <td>'中 배터리 1위' CATL, 시가총액 38조원 돌파</td>\n",
              "      <td>'中 배터리 1위' CATL, 시가총액 38조원 돌파세계 최대 배터리 제조사인 중국...</td>\n",
              "      <td>2.25</td>\n",
              "      <td>1</td>\n",
              "    </tr>\n",
              "    <tr>\n",
              "      <th>2881</th>\n",
              "      <td>2019-12-30</td>\n",
              "      <td>LG전자, 폴란드 브로츠와프에 배터리 분리막 공장 증설</td>\n",
              "      <td>LG전자, 폴란드 브로츠와프에 배터리 분리막 공장 증설LG전자가 폴란드 브로츠와프에...</td>\n",
              "      <td>2.25</td>\n",
              "      <td>1</td>\n",
              "    </tr>\n",
              "    <tr>\n",
              "      <th>2882</th>\n",
              "      <td>2019-12-30</td>\n",
              "      <td>[2019 결산-산업 ⑩] 소송에다 ESS 화재까지…다사다난 배터리업계</td>\n",
              "      <td>[2019 결산-산업 ⑩] 소송에다 ESS 화재까지…다사다난 배터리업계 국내 배터리...</td>\n",
              "      <td>2.25</td>\n",
              "      <td>1</td>\n",
              "    </tr>\n",
              "    <tr>\n",
              "      <th>2883</th>\n",
              "      <td>2019-12-30</td>\n",
              "      <td>‘어떻게 살 것인가’ 남은 이들에게 메시지 남기고 떠나다</td>\n",
              "      <td>‘어떻게 살 것인가’ 남은 이들에게 메시지 남기고 떠나다올 한 해 국내 정치권에선 ...</td>\n",
              "      <td>2.25</td>\n",
              "      <td>1</td>\n",
              "    </tr>\n",
              "  </tbody>\n",
              "</table>\n",
              "<p>2884 rows × 5 columns</p>\n",
              "</div>"
            ],
            "text/plain": [
              "           date                                           title  ... change  label\n",
              "0    2017-01-02          中, 한국산 배터리 탑재차 보조금 제외…LG화학·삼성SDI '날벼락'  ...  -3.07      0\n",
              "1    2017-01-02  [리더십 4.0시대]2016년 1년간 분석한 '4차 산업혁명' 리더 경영인은 누굴까  ...  -3.07      0\n",
              "2    2017-01-02                 구본무 회장, \"창립 70년 맞은 올해 새롭게 시작하자\"  ...  -3.07      0\n",
              "3    2017-01-02            한국산 ‘車 배터리’ 中서 설 자리 잃나…장착 차량 보조금도 제외  ...  -3.07      0\n",
              "4    2017-01-02                      LG, 1회 충전으로 24시간 사용 노트북 시판  ...  -3.07      0\n",
              "...         ...                                             ...  ...    ...    ...\n",
              "2879 2019-12-30                        ‘화학놀이터’·‘화학캠프’로 과학교육 기부   ...   2.25      1\n",
              "2880 2019-12-30                   '中 배터리 1위' CATL, 시가총액 38조원 돌파  ...   2.25      1\n",
              "2881 2019-12-30                  LG전자, 폴란드 브로츠와프에 배터리 분리막 공장 증설  ...   2.25      1\n",
              "2882 2019-12-30         [2019 결산-산업 ⑩] 소송에다 ESS 화재까지…다사다난 배터리업계  ...   2.25      1\n",
              "2883 2019-12-30                 ‘어떻게 살 것인가’ 남은 이들에게 메시지 남기고 떠나다  ...   2.25      1\n",
              "\n",
              "[2884 rows x 5 columns]"
            ]
          },
          "metadata": {
            "tags": []
          },
          "execution_count": 12
        }
      ]
    },
    {
      "cell_type": "code",
      "metadata": {
        "colab": {
          "base_uri": "https://localhost:8080/"
        },
        "id": "73cj2dWccL-c",
        "outputId": "3cce0fa8-e740-4c59-dcfe-94dbe1a76dc2"
      },
      "source": [
        "len(news['date'].unique())"
      ],
      "execution_count": null,
      "outputs": [
        {
          "output_type": "execute_result",
          "data": {
            "text/plain": [
              "277"
            ]
          },
          "metadata": {
            "tags": []
          },
          "execution_count": 20
        }
      ]
    },
    {
      "cell_type": "code",
      "metadata": {
        "id": "Vjz0pnruL-pW"
      },
      "source": [
        "news['text']=news['title']+news['content']"
      ],
      "execution_count": null,
      "outputs": []
    },
    {
      "cell_type": "code",
      "metadata": {
        "id": "fkoDE4Poh1zk"
      },
      "source": [
        "news.dropna(inplace=True)\r\n",
        "news.reset_index(inplace=True, drop=True)"
      ],
      "execution_count": null,
      "outputs": []
    },
    {
      "cell_type": "markdown",
      "metadata": {
        "id": "ziIpTnvBH-i8"
      },
      "source": [
        "### Tokenize"
      ]
    },
    {
      "cell_type": "code",
      "metadata": {
        "id": "4CFE9NkZzlMS"
      },
      "source": [
        "! git clone https://github.com/SOMJANG/Mecab-ko-for-Google-Colab.git\r\n",
        "! bash install_mecab-ko_on_colab190912.sh\r\n",
        "!apt-get update\r\n",
        "!apt-get install g++ openjdk-8-jdk \r\n",
        "!pip3 install konlpy JPype1-py3\r\n",
        "!bash <(curl -s https://raw.githubusercontent.com/konlpy/konlpy/master/scripts/mecab.sh)"
      ],
      "execution_count": null,
      "outputs": []
    },
    {
      "cell_type": "code",
      "metadata": {
        "id": "Pg_6u20g3Fx5"
      },
      "source": [
        "news['nouns']=''"
      ],
      "execution_count": null,
      "outputs": []
    },
    {
      "cell_type": "code",
      "metadata": {
        "colab": {
          "base_uri": "https://localhost:8080/"
        },
        "id": "0sXBA6MU2g7w",
        "outputId": "087a3658-72d0-47d2-f00e-d49c50d0467e"
      },
      "source": [
        "from konlpy.tag import Mecab\r\n",
        "mecab = Mecab()\r\n",
        "\r\n",
        "for i in range(len(news)):\r\n",
        "    try:\r\n",
        "        news['nouns'][i] = mecab.nouns(news['text'][i])\r\n",
        "    except:\r\n",
        "        continue"
      ],
      "execution_count": null,
      "outputs": [
        {
          "output_type": "stream",
          "text": [
            "/usr/local/lib/python3.7/dist-packages/ipykernel_launcher.py:7: SettingWithCopyWarning: \n",
            "A value is trying to be set on a copy of a slice from a DataFrame\n",
            "\n",
            "See the caveats in the documentation: https://pandas.pydata.org/pandas-docs/stable/user_guide/indexing.html#returning-a-view-versus-a-copy\n",
            "  import sys\n"
          ],
          "name": "stderr"
        },
        {
          "output_type": "stream",
          "text": [
            "unigram의 개수는 789518 개 입니다\n"
          ],
          "name": "stdout"
        }
      ]
    },
    {
      "cell_type": "code",
      "metadata": {
        "id": "52foZnI38r4B"
      },
      "source": [
        "for i in range(len(news)):\r\n",
        "    for word in news['nouns'][i]:\r\n",
        "        if len(word) == 1:\r\n",
        "            news['nouns'][i].remove(word)"
      ],
      "execution_count": null,
      "outputs": []
    },
    {
      "cell_type": "code",
      "metadata": {
        "colab": {
          "base_uri": "https://localhost:8080/",
          "height": 1000
        },
        "id": "jwfbm15eWPTH",
        "outputId": "90a452a3-f678-477b-aa8a-ed3b67751f60"
      },
      "source": [
        "news"
      ],
      "execution_count": null,
      "outputs": [
        {
          "output_type": "execute_result",
          "data": {
            "text/html": [
              "<div>\n",
              "<style scoped>\n",
              "    .dataframe tbody tr th:only-of-type {\n",
              "        vertical-align: middle;\n",
              "    }\n",
              "\n",
              "    .dataframe tbody tr th {\n",
              "        vertical-align: top;\n",
              "    }\n",
              "\n",
              "    .dataframe thead th {\n",
              "        text-align: right;\n",
              "    }\n",
              "</style>\n",
              "<table border=\"1\" class=\"dataframe\">\n",
              "  <thead>\n",
              "    <tr style=\"text-align: right;\">\n",
              "      <th></th>\n",
              "      <th>date</th>\n",
              "      <th>title</th>\n",
              "      <th>content</th>\n",
              "      <th>change</th>\n",
              "      <th>label</th>\n",
              "      <th>text</th>\n",
              "      <th>nouns</th>\n",
              "    </tr>\n",
              "  </thead>\n",
              "  <tbody>\n",
              "    <tr>\n",
              "      <th>0</th>\n",
              "      <td>2017-01-02</td>\n",
              "      <td>中, 한국산 배터리 탑재차 보조금 제외…LG화학·삼성SDI '날벼락'</td>\n",
              "      <td>中, 한국산 배터리 탑재차 보조금 제외…LG화학·삼성SDI '날벼락' 중국 정부가 ...</td>\n",
              "      <td>-3.07</td>\n",
              "      <td>0</td>\n",
              "      <td>中, 한국산 배터리 탑재차 보조금 제외…LG화학·삼성SDI '날벼락'中, 한국산 배...</td>\n",
              "      <td>[한국, 배터리, 보조금, 제외, 화학, 삼성, 날벼락, 한국, 배터리, 보조금, ...</td>\n",
              "    </tr>\n",
              "    <tr>\n",
              "      <th>1</th>\n",
              "      <td>2017-01-02</td>\n",
              "      <td>[리더십 4.0시대]2016년 1년간 분석한 '4차 산업혁명' 리더 경영인은 누굴까</td>\n",
              "      <td>[리더십 4.0시대]2016년 1년간 분석한 '4차 산업혁명' 리더 경영인은 누굴까...</td>\n",
              "      <td>-3.07</td>\n",
              "      <td>0</td>\n",
              "      <td>[리더십 4.0시대]2016년 1년간 분석한 '4차 산업혁명' 리더 경영인은 누굴까...</td>\n",
              "      <td>[리더십, 시대, 분석, 산업, 혁명, 리더, 경영인, 누굴까, 리더십, 시대, 년...</td>\n",
              "    </tr>\n",
              "    <tr>\n",
              "      <th>2</th>\n",
              "      <td>2017-01-02</td>\n",
              "      <td>구본무 회장, \"창립 70년 맞은 올해 새롭게 시작하자\"</td>\n",
              "      <td>구본무 회장, \"창립 70년 맞은 올해 새롭게 시작하자\" [구 회장, LG 그룹 신...</td>\n",
              "      <td>-3.07</td>\n",
              "      <td>0</td>\n",
              "      <td>구본무 회장, \"창립 70년 맞은 올해 새롭게 시작하자\"구본무 회장, \"창립 70년...</td>\n",
              "      <td>[구본무, 회장, 창립, 올해, 시작, 구본무, 회장, 창립, 올해, 시작, 회장,...</td>\n",
              "    </tr>\n",
              "    <tr>\n",
              "      <th>3</th>\n",
              "      <td>2017-01-02</td>\n",
              "      <td>한국산 ‘車 배터리’ 中서 설 자리 잃나…장착 차량 보조금도 제외</td>\n",
              "      <td>한국산 ‘車 배터리’ 中서 설 자리 잃나…장착 차량 보조금도 제외 중국의 한국산 전...</td>\n",
              "      <td>-3.07</td>\n",
              "      <td>0</td>\n",
              "      <td>한국산 ‘車 배터리’ 中서 설 자리 잃나…장착 차량 보조금도 제외한국산 ‘車 배터리...</td>\n",
              "      <td>[한국, 배터리, 설, 자리, 장착, 차량, 보조금, 제외, 국산, 배터리, 설, ...</td>\n",
              "    </tr>\n",
              "    <tr>\n",
              "      <th>4</th>\n",
              "      <td>2017-01-02</td>\n",
              "      <td>LG, 1회 충전으로 24시간 사용 노트북 시판</td>\n",
              "      <td>LG, 1회 충전으로 24시간 사용 노트북 시판[동아일보]　LG전자는 한 번 충전해...</td>\n",
              "      <td>-3.07</td>\n",
              "      <td>0</td>\n",
              "      <td>LG, 1회 충전으로 24시간 사용 노트북 시판LG, 1회 충전으로 24시간 사용 ...</td>\n",
              "      <td>[충전, 시간, 사용, 노트북, 시판, 충전, 시간, 사용, 노트북, 시판, 동아일...</td>\n",
              "    </tr>\n",
              "    <tr>\n",
              "      <th>...</th>\n",
              "      <td>...</td>\n",
              "      <td>...</td>\n",
              "      <td>...</td>\n",
              "      <td>...</td>\n",
              "      <td>...</td>\n",
              "      <td>...</td>\n",
              "      <td>...</td>\n",
              "    </tr>\n",
              "    <tr>\n",
              "      <th>2878</th>\n",
              "      <td>2019-12-30</td>\n",
              "      <td>‘화학놀이터’·‘화학캠프’로 과학교육 기부</td>\n",
              "      <td>‘화학놀이터’·‘화학캠프’로 과학교육 기부 [사회공헌 특집]LG화학은 유엔이 정한 ...</td>\n",
              "      <td>2.25</td>\n",
              "      <td>1</td>\n",
              "      <td>‘화학놀이터’·‘화학캠프’로 과학교육 기부 ‘화학놀이터’·‘화학캠프’로 과학교육 기...</td>\n",
              "      <td>[화학, 놀이터, 화학, 캠프, 과학, 교육, 기부, 화학, 놀이터, 화학, 캠프,...</td>\n",
              "    </tr>\n",
              "    <tr>\n",
              "      <th>2879</th>\n",
              "      <td>2019-12-30</td>\n",
              "      <td>'中 배터리 1위' CATL, 시가총액 38조원 돌파</td>\n",
              "      <td>'中 배터리 1위' CATL, 시가총액 38조원 돌파세계 최대 배터리 제조사인 중국...</td>\n",
              "      <td>2.25</td>\n",
              "      <td>1</td>\n",
              "      <td>'中 배터리 1위' CATL, 시가총액 38조원 돌파'中 배터리 1위' CATL, ...</td>\n",
              "      <td>[배터리, 시가총액, 돌파, 배터리, 시가총액, 돌파, 세계, 최대, 배터리, 제조...</td>\n",
              "    </tr>\n",
              "    <tr>\n",
              "      <th>2880</th>\n",
              "      <td>2019-12-30</td>\n",
              "      <td>LG전자, 폴란드 브로츠와프에 배터리 분리막 공장 증설</td>\n",
              "      <td>LG전자, 폴란드 브로츠와프에 배터리 분리막 공장 증설LG전자가 폴란드 브로츠와프에...</td>\n",
              "      <td>2.25</td>\n",
              "      <td>1</td>\n",
              "      <td>LG전자, 폴란드 브로츠와프에 배터리 분리막 공장 증설LG전자, 폴란드 브로츠와프에...</td>\n",
              "      <td>[전자, 폴란드, 브로츠와프, 배터리, 분리, 공장, 증설, 전자, 폴란드, 브로츠...</td>\n",
              "    </tr>\n",
              "    <tr>\n",
              "      <th>2881</th>\n",
              "      <td>2019-12-30</td>\n",
              "      <td>[2019 결산-산업 ⑩] 소송에다 ESS 화재까지…다사다난 배터리업계</td>\n",
              "      <td>[2019 결산-산업 ⑩] 소송에다 ESS 화재까지…다사다난 배터리업계 국내 배터리...</td>\n",
              "      <td>2.25</td>\n",
              "      <td>1</td>\n",
              "      <td>[2019 결산-산업 ⑩] 소송에다 ESS 화재까지…다사다난 배터리업계[2019 결...</td>\n",
              "      <td>[결산, 산업, 소송, 화재, 다사다난, 배터리, 업계, 결산, 산업, 소송, 화재...</td>\n",
              "    </tr>\n",
              "    <tr>\n",
              "      <th>2882</th>\n",
              "      <td>2019-12-30</td>\n",
              "      <td>‘어떻게 살 것인가’ 남은 이들에게 메시지 남기고 떠나다</td>\n",
              "      <td>‘어떻게 살 것인가’ 남은 이들에게 메시지 남기고 떠나다올 한 해 국내 정치권에선 ...</td>\n",
              "      <td>2.25</td>\n",
              "      <td>1</td>\n",
              "      <td>‘어떻게 살 것인가’ 남은 이들에게 메시지 남기고 떠나다‘어떻게 살 것인가’ 남은 ...</td>\n",
              "      <td>[남, 메시지, 남, 메시지, 국내, 정치, 김대중, 대통령, 동지, 가족, 세상,...</td>\n",
              "    </tr>\n",
              "  </tbody>\n",
              "</table>\n",
              "<p>2883 rows × 7 columns</p>\n",
              "</div>"
            ],
            "text/plain": [
              "           date  ...                                              nouns\n",
              "0    2017-01-02  ...  [한국, 배터리, 보조금, 제외, 화학, 삼성, 날벼락, 한국, 배터리, 보조금, ...\n",
              "1    2017-01-02  ...  [리더십, 시대, 분석, 산업, 혁명, 리더, 경영인, 누굴까, 리더십, 시대, 년...\n",
              "2    2017-01-02  ...  [구본무, 회장, 창립, 올해, 시작, 구본무, 회장, 창립, 올해, 시작, 회장,...\n",
              "3    2017-01-02  ...  [한국, 배터리, 설, 자리, 장착, 차량, 보조금, 제외, 국산, 배터리, 설, ...\n",
              "4    2017-01-02  ...  [충전, 시간, 사용, 노트북, 시판, 충전, 시간, 사용, 노트북, 시판, 동아일...\n",
              "...         ...  ...                                                ...\n",
              "2878 2019-12-30  ...  [화학, 놀이터, 화학, 캠프, 과학, 교육, 기부, 화학, 놀이터, 화학, 캠프,...\n",
              "2879 2019-12-30  ...  [배터리, 시가총액, 돌파, 배터리, 시가총액, 돌파, 세계, 최대, 배터리, 제조...\n",
              "2880 2019-12-30  ...  [전자, 폴란드, 브로츠와프, 배터리, 분리, 공장, 증설, 전자, 폴란드, 브로츠...\n",
              "2881 2019-12-30  ...  [결산, 산업, 소송, 화재, 다사다난, 배터리, 업계, 결산, 산업, 소송, 화재...\n",
              "2882 2019-12-30  ...  [남, 메시지, 남, 메시지, 국내, 정치, 김대중, 대통령, 동지, 가족, 세상,...\n",
              "\n",
              "[2883 rows x 7 columns]"
            ]
          },
          "metadata": {
            "tags": []
          },
          "execution_count": 22
        }
      ]
    },
    {
      "cell_type": "code",
      "metadata": {
        "colab": {
          "base_uri": "https://localhost:8080/"
        },
        "id": "iCBOMPmgc_PZ",
        "outputId": "f92d28ef-b9a0-4b3e-9191-50482b719ba8"
      },
      "source": [
        "uni_len = 0\r\n",
        "for i in range(len(news)):\r\n",
        "    uni_len+=len(news['nouns'][i])\r\n",
        "print('unigram의 갯수는',uni_len,'개 입니다')"
      ],
      "execution_count": null,
      "outputs": [
        {
          "output_type": "stream",
          "text": [
            "unigram의 갯수는 681012 개 입니다\n"
          ],
          "name": "stdout"
        }
      ]
    },
    {
      "cell_type": "code",
      "metadata": {
        "id": "BKwyckSg9Ul3"
      },
      "source": [
        "news = news[['date','nouns','label']]"
      ],
      "execution_count": null,
      "outputs": []
    },
    {
      "cell_type": "code",
      "metadata": {
        "colab": {
          "base_uri": "https://localhost:8080/",
          "height": 419
        },
        "id": "JTNh668khD7j",
        "outputId": "3f9169bd-3b28-4368-fcb7-46466e687efe"
      },
      "source": [
        "news"
      ],
      "execution_count": null,
      "outputs": [
        {
          "output_type": "execute_result",
          "data": {
            "text/html": [
              "<div>\n",
              "<style scoped>\n",
              "    .dataframe tbody tr th:only-of-type {\n",
              "        vertical-align: middle;\n",
              "    }\n",
              "\n",
              "    .dataframe tbody tr th {\n",
              "        vertical-align: top;\n",
              "    }\n",
              "\n",
              "    .dataframe thead th {\n",
              "        text-align: right;\n",
              "    }\n",
              "</style>\n",
              "<table border=\"1\" class=\"dataframe\">\n",
              "  <thead>\n",
              "    <tr style=\"text-align: right;\">\n",
              "      <th></th>\n",
              "      <th>date</th>\n",
              "      <th>nouns</th>\n",
              "      <th>label</th>\n",
              "    </tr>\n",
              "  </thead>\n",
              "  <tbody>\n",
              "    <tr>\n",
              "      <th>0</th>\n",
              "      <td>2017-01-02</td>\n",
              "      <td>[한국, 배터리, 보조금, 제외, 화학, 삼성, 날벼락, 한국, 배터리, 보조금, ...</td>\n",
              "      <td>0</td>\n",
              "    </tr>\n",
              "    <tr>\n",
              "      <th>1</th>\n",
              "      <td>2017-01-02</td>\n",
              "      <td>[리더십, 시대, 분석, 산업, 혁명, 리더, 경영인, 누굴까, 리더십, 시대, 년...</td>\n",
              "      <td>0</td>\n",
              "    </tr>\n",
              "    <tr>\n",
              "      <th>2</th>\n",
              "      <td>2017-01-02</td>\n",
              "      <td>[구본무, 회장, 창립, 올해, 시작, 구본무, 회장, 창립, 올해, 시작, 회장,...</td>\n",
              "      <td>0</td>\n",
              "    </tr>\n",
              "    <tr>\n",
              "      <th>3</th>\n",
              "      <td>2017-01-02</td>\n",
              "      <td>[한국, 배터리, 설, 자리, 장착, 차량, 보조금, 제외, 국산, 배터리, 설, ...</td>\n",
              "      <td>0</td>\n",
              "    </tr>\n",
              "    <tr>\n",
              "      <th>4</th>\n",
              "      <td>2017-01-02</td>\n",
              "      <td>[충전, 시간, 사용, 노트북, 시판, 충전, 시간, 사용, 노트북, 시판, 동아일...</td>\n",
              "      <td>0</td>\n",
              "    </tr>\n",
              "    <tr>\n",
              "      <th>...</th>\n",
              "      <td>...</td>\n",
              "      <td>...</td>\n",
              "      <td>...</td>\n",
              "    </tr>\n",
              "    <tr>\n",
              "      <th>2878</th>\n",
              "      <td>2019-12-30</td>\n",
              "      <td>[화학, 놀이터, 화학, 캠프, 과학, 교육, 기부, 화학, 놀이터, 화학, 캠프,...</td>\n",
              "      <td>1</td>\n",
              "    </tr>\n",
              "    <tr>\n",
              "      <th>2879</th>\n",
              "      <td>2019-12-30</td>\n",
              "      <td>[배터리, 시가총액, 돌파, 배터리, 시가총액, 돌파, 세계, 최대, 배터리, 제조...</td>\n",
              "      <td>1</td>\n",
              "    </tr>\n",
              "    <tr>\n",
              "      <th>2880</th>\n",
              "      <td>2019-12-30</td>\n",
              "      <td>[전자, 폴란드, 브로츠와프, 배터리, 분리, 공장, 증설, 전자, 폴란드, 브로츠...</td>\n",
              "      <td>1</td>\n",
              "    </tr>\n",
              "    <tr>\n",
              "      <th>2881</th>\n",
              "      <td>2019-12-30</td>\n",
              "      <td>[결산, 산업, 소송, 화재, 다사다난, 배터리, 업계, 결산, 산업, 소송, 화재...</td>\n",
              "      <td>1</td>\n",
              "    </tr>\n",
              "    <tr>\n",
              "      <th>2882</th>\n",
              "      <td>2019-12-30</td>\n",
              "      <td>[남, 메시지, 남, 메시지, 국내, 정치, 김대중, 대통령, 동지, 가족, 세상,...</td>\n",
              "      <td>1</td>\n",
              "    </tr>\n",
              "  </tbody>\n",
              "</table>\n",
              "<p>2883 rows × 3 columns</p>\n",
              "</div>"
            ],
            "text/plain": [
              "           date                                              nouns label\n",
              "0    2017-01-02  [한국, 배터리, 보조금, 제외, 화학, 삼성, 날벼락, 한국, 배터리, 보조금, ...     0\n",
              "1    2017-01-02  [리더십, 시대, 분석, 산업, 혁명, 리더, 경영인, 누굴까, 리더십, 시대, 년...     0\n",
              "2    2017-01-02  [구본무, 회장, 창립, 올해, 시작, 구본무, 회장, 창립, 올해, 시작, 회장,...     0\n",
              "3    2017-01-02  [한국, 배터리, 설, 자리, 장착, 차량, 보조금, 제외, 국산, 배터리, 설, ...     0\n",
              "4    2017-01-02  [충전, 시간, 사용, 노트북, 시판, 충전, 시간, 사용, 노트북, 시판, 동아일...     0\n",
              "...         ...                                                ...   ...\n",
              "2878 2019-12-30  [화학, 놀이터, 화학, 캠프, 과학, 교육, 기부, 화학, 놀이터, 화학, 캠프,...     1\n",
              "2879 2019-12-30  [배터리, 시가총액, 돌파, 배터리, 시가총액, 돌파, 세계, 최대, 배터리, 제조...     1\n",
              "2880 2019-12-30  [전자, 폴란드, 브로츠와프, 배터리, 분리, 공장, 증설, 전자, 폴란드, 브로츠...     1\n",
              "2881 2019-12-30  [결산, 산업, 소송, 화재, 다사다난, 배터리, 업계, 결산, 산업, 소송, 화재...     1\n",
              "2882 2019-12-30  [남, 메시지, 남, 메시지, 국내, 정치, 김대중, 대통령, 동지, 가족, 세상,...     1\n",
              "\n",
              "[2883 rows x 3 columns]"
            ]
          },
          "metadata": {
            "tags": []
          },
          "execution_count": 25
        }
      ]
    },
    {
      "cell_type": "markdown",
      "metadata": {
        "id": "KLdKMmlWCEx-"
      },
      "source": [
        "### n-gram 만들기"
      ]
    },
    {
      "cell_type": "code",
      "metadata": {
        "id": "Eq9MUDcu_c4U"
      },
      "source": [
        "from nltk import ngrams"
      ],
      "execution_count": null,
      "outputs": []
    },
    {
      "cell_type": "code",
      "metadata": {
        "id": "eD0AJPm4BiBH"
      },
      "source": [
        "def make_ngrams(lis,n):\r\n",
        "    ngram_lis = []\r\n",
        "    tmp=list(ngrams(lis, n))\r\n",
        "    for i in range(len(tmp)):\r\n",
        "        ngram_lis.append(';'.join(tmp[i]))\r\n",
        "    return ngram_lis"
      ],
      "execution_count": null,
      "outputs": []
    },
    {
      "cell_type": "code",
      "metadata": {
        "id": "s0sA9UJWCQkr"
      },
      "source": [
        "news['bigram'] = ''\r\n",
        "news['trigram'] = ''\r\n",
        "news['fourgram'] = ''\r\n",
        "news['fivegram'] = ''"
      ],
      "execution_count": null,
      "outputs": []
    },
    {
      "cell_type": "code",
      "metadata": {
        "colab": {
          "base_uri": "https://localhost:8080/"
        },
        "id": "BG5cty9vCcpU",
        "outputId": "bcbf14fd-46b5-4372-ea26-98d3d8f3fb53"
      },
      "source": [
        "bi_len = 0\r\n",
        "tri_len = 0\r\n",
        "four_len = 0\r\n",
        "five_len = 0\r\n",
        "\r\n",
        "for i in range(len(news)):\r\n",
        "    news['bigram'][i] = make_ngrams(news['nouns'][i],2)\r\n",
        "    news['trigram'][i] = make_ngrams(news['nouns'][i],3)\r\n",
        "    news['fourgram'][i] = make_ngrams(news['nouns'][i],4)\r\n",
        "    news['fivegram'][i] = make_ngrams(news['nouns'][i],5)\r\n",
        "    bi_len += len(news['bigram'][i])\r\n",
        "    tri_len += len(news['trigram'][i])\r\n",
        "    four_len += len(news['fourgram'][i])\r\n",
        "    five_len += len(news['fivegram'][i])\r\n",
        "\r\n",
        "print('bigram의 갯수는',bi_len,'개 입니다')\r\n",
        "print('trigram의 갯수는',tri_len,'개 입니다')\r\n",
        "print('fourgram의 갯수는',four_len,'개 입니다')\r\n",
        "print('fivegram의 갯수는',five_len,'개 입니다')"
      ],
      "execution_count": null,
      "outputs": [
        {
          "output_type": "stream",
          "text": [
            "/usr/local/lib/python3.7/dist-packages/ipykernel_launcher.py:7: SettingWithCopyWarning: \n",
            "A value is trying to be set on a copy of a slice from a DataFrame\n",
            "\n",
            "See the caveats in the documentation: https://pandas.pydata.org/pandas-docs/stable/user_guide/indexing.html#returning-a-view-versus-a-copy\n",
            "  import sys\n",
            "/usr/local/lib/python3.7/dist-packages/ipykernel_launcher.py:8: SettingWithCopyWarning: \n",
            "A value is trying to be set on a copy of a slice from a DataFrame\n",
            "\n",
            "See the caveats in the documentation: https://pandas.pydata.org/pandas-docs/stable/user_guide/indexing.html#returning-a-view-versus-a-copy\n",
            "  \n",
            "/usr/local/lib/python3.7/dist-packages/ipykernel_launcher.py:9: SettingWithCopyWarning: \n",
            "A value is trying to be set on a copy of a slice from a DataFrame\n",
            "\n",
            "See the caveats in the documentation: https://pandas.pydata.org/pandas-docs/stable/user_guide/indexing.html#returning-a-view-versus-a-copy\n",
            "  if __name__ == '__main__':\n",
            "/usr/local/lib/python3.7/dist-packages/ipykernel_launcher.py:10: SettingWithCopyWarning: \n",
            "A value is trying to be set on a copy of a slice from a DataFrame\n",
            "\n",
            "See the caveats in the documentation: https://pandas.pydata.org/pandas-docs/stable/user_guide/indexing.html#returning-a-view-versus-a-copy\n",
            "  # Remove the CWD from sys.path while we load stuff.\n"
          ],
          "name": "stderr"
        },
        {
          "output_type": "stream",
          "text": [
            "bigram의 갯수는 678129 개 입니다\n",
            "trigram의 갯수는 675246 개 입니다\n",
            "fourgram의 갯수는 672363 개 입니다\n",
            "fivegram의 갯수는 669480 개 입니다\n"
          ],
          "name": "stdout"
        }
      ]
    },
    {
      "cell_type": "code",
      "metadata": {
        "id": "gCc--rbxYcw7",
        "colab": {
          "base_uri": "https://localhost:8080/"
        },
        "outputId": "74a6aafb-551b-421c-ed59-44d377d27998"
      },
      "source": [
        "news['ngram'] = ''\r\n",
        "for i in range(len(news)):\r\n",
        "    try:\r\n",
        "        news['ngram'][i] = news['nouns'][i] + news['bigram'][i]+ news['trigram'][i]+ news['fourgram'][i]+ news['fivegram'][i]\r\n",
        "    except:\r\n",
        "        pass"
      ],
      "execution_count": null,
      "outputs": [
        {
          "output_type": "stream",
          "text": [
            "/usr/local/lib/python3.7/dist-packages/ipykernel_launcher.py:4: SettingWithCopyWarning: \n",
            "A value is trying to be set on a copy of a slice from a DataFrame\n",
            "\n",
            "See the caveats in the documentation: https://pandas.pydata.org/pandas-docs/stable/user_guide/indexing.html#returning-a-view-versus-a-copy\n",
            "  after removing the cwd from sys.path.\n"
          ],
          "name": "stderr"
        }
      ]
    },
    {
      "cell_type": "code",
      "metadata": {
        "id": "OQjwLJ5NYf2O"
      },
      "source": [
        "news = news[['date','ngram','label']]"
      ],
      "execution_count": null,
      "outputs": []
    },
    {
      "cell_type": "code",
      "metadata": {
        "id": "X6R9TXoJ4iZY"
      },
      "source": [
        "news.to_csv('/content/drive/MyDrive/DB_Finance/data/ngram_news_only_topic.csv', index=False)"
      ],
      "execution_count": null,
      "outputs": []
    }
  ]
}