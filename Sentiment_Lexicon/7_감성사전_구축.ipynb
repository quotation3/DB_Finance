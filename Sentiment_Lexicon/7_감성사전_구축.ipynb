{
  "nbformat": 4,
  "nbformat_minor": 0,
  "metadata": {
    "colab": {
      "name": "7.감성사전_구축_only_topic.ipynb",
      "provenance": [],
      "collapsed_sections": [],
      "include_colab_link": true
    },
    "kernelspec": {
      "name": "python3",
      "display_name": "Python 3"
    }
  },
  "cells": [
    {
      "cell_type": "markdown",
      "metadata": {
        "id": "view-in-github",
        "colab_type": "text"
      },
      "source": [
        "<a href=\"https://colab.research.google.com/github/quotation3/DB_Finance/blob/main/Sentiment_Lexicon/7_%EA%B0%90%EC%84%B1%EC%82%AC%EC%A0%84_%EA%B5%AC%EC%B6%95.ipynb\" target=\"_parent\"><img src=\"https://colab.research.google.com/assets/colab-badge.svg\" alt=\"Open In Colab\"/></a>"
      ]
    },
    {
      "cell_type": "markdown",
      "metadata": {
        "id": "mUek2pJGf1ng"
      },
      "source": [
        "### ngram 전처리"
      ]
    },
    {
      "cell_type": "code",
      "metadata": {
        "id": "pkxfTVZQI4Hj"
      },
      "source": [
        "from sklearn.model_selection import train_test_split\r\n",
        "from sklearn.pipeline import Pipeline\r\n",
        "from sklearn.feature_extraction.text import CountVectorizer\r\n",
        "from sklearn.naive_bayes import MultinomialNB\r\n",
        "from tqdm import tqdm\r\n",
        "\r\n",
        "import numpy as np\r\n",
        "import pandas as pd\r\n",
        "import csv"
      ],
      "execution_count": null,
      "outputs": []
    },
    {
      "cell_type": "code",
      "metadata": {
        "colab": {
          "base_uri": "https://localhost:8080/",
          "height": 419
        },
        "id": "tQzggcCJIICs",
        "outputId": "70ec87da-5863-48b7-e98d-0bbe13721535"
      },
      "source": [
        "news = pd.read_csv('/content/drive/MyDrive/DB_Finance/data/ngram_news_only_topic.csv',lineterminator='\\n')\r\n",
        "news"
      ],
      "execution_count": null,
      "outputs": [
        {
          "output_type": "execute_result",
          "data": {
            "text/html": [
              "<div>\n",
              "<style scoped>\n",
              "    .dataframe tbody tr th:only-of-type {\n",
              "        vertical-align: middle;\n",
              "    }\n",
              "\n",
              "    .dataframe tbody tr th {\n",
              "        vertical-align: top;\n",
              "    }\n",
              "\n",
              "    .dataframe thead th {\n",
              "        text-align: right;\n",
              "    }\n",
              "</style>\n",
              "<table border=\"1\" class=\"dataframe\">\n",
              "  <thead>\n",
              "    <tr style=\"text-align: right;\">\n",
              "      <th></th>\n",
              "      <th>date</th>\n",
              "      <th>ngram</th>\n",
              "      <th>label</th>\n",
              "    </tr>\n",
              "  </thead>\n",
              "  <tbody>\n",
              "    <tr>\n",
              "      <th>0</th>\n",
              "      <td>2017-01-02</td>\n",
              "      <td>['한국', '배터리', '보조금', '제외', '화학', '삼성', '날벼락', ...</td>\n",
              "      <td>0</td>\n",
              "    </tr>\n",
              "    <tr>\n",
              "      <th>1</th>\n",
              "      <td>2017-01-02</td>\n",
              "      <td>['리더십', '시대', '분석', '산업', '혁명', '리더', '경영인', '...</td>\n",
              "      <td>0</td>\n",
              "    </tr>\n",
              "    <tr>\n",
              "      <th>2</th>\n",
              "      <td>2017-01-02</td>\n",
              "      <td>['구본무', '회장', '창립', '올해', '시작', '구본무', '회장', '...</td>\n",
              "      <td>0</td>\n",
              "    </tr>\n",
              "    <tr>\n",
              "      <th>3</th>\n",
              "      <td>2017-01-02</td>\n",
              "      <td>['한국', '배터리', '설', '자리', '장착', '차량', '보조금', '제...</td>\n",
              "      <td>0</td>\n",
              "    </tr>\n",
              "    <tr>\n",
              "      <th>4</th>\n",
              "      <td>2017-01-02</td>\n",
              "      <td>['충전', '시간', '사용', '노트북', '시판', '충전', '시간', '사...</td>\n",
              "      <td>0</td>\n",
              "    </tr>\n",
              "    <tr>\n",
              "      <th>...</th>\n",
              "      <td>...</td>\n",
              "      <td>...</td>\n",
              "      <td>...</td>\n",
              "    </tr>\n",
              "    <tr>\n",
              "      <th>2878</th>\n",
              "      <td>2019-12-30</td>\n",
              "      <td>['화학', '놀이터', '화학', '캠프', '과학', '교육', '기부', '화...</td>\n",
              "      <td>1</td>\n",
              "    </tr>\n",
              "    <tr>\n",
              "      <th>2879</th>\n",
              "      <td>2019-12-30</td>\n",
              "      <td>['배터리', '시가총액', '돌파', '배터리', '시가총액', '돌파', '세계...</td>\n",
              "      <td>1</td>\n",
              "    </tr>\n",
              "    <tr>\n",
              "      <th>2880</th>\n",
              "      <td>2019-12-30</td>\n",
              "      <td>['전자', '폴란드', '브로츠와프', '배터리', '분리', '공장', '증설'...</td>\n",
              "      <td>1</td>\n",
              "    </tr>\n",
              "    <tr>\n",
              "      <th>2881</th>\n",
              "      <td>2019-12-30</td>\n",
              "      <td>['결산', '산업', '소송', '화재', '다사다난', '배터리', '업계', ...</td>\n",
              "      <td>1</td>\n",
              "    </tr>\n",
              "    <tr>\n",
              "      <th>2882</th>\n",
              "      <td>2019-12-30</td>\n",
              "      <td>['남', '메시지', '남', '메시지', '국내', '정치', '김대중', '대...</td>\n",
              "      <td>1</td>\n",
              "    </tr>\n",
              "  </tbody>\n",
              "</table>\n",
              "<p>2883 rows × 3 columns</p>\n",
              "</div>"
            ],
            "text/plain": [
              "            date                                              ngram  label\n",
              "0     2017-01-02  ['한국', '배터리', '보조금', '제외', '화학', '삼성', '날벼락', ...      0\n",
              "1     2017-01-02  ['리더십', '시대', '분석', '산업', '혁명', '리더', '경영인', '...      0\n",
              "2     2017-01-02  ['구본무', '회장', '창립', '올해', '시작', '구본무', '회장', '...      0\n",
              "3     2017-01-02  ['한국', '배터리', '설', '자리', '장착', '차량', '보조금', '제...      0\n",
              "4     2017-01-02  ['충전', '시간', '사용', '노트북', '시판', '충전', '시간', '사...      0\n",
              "...          ...                                                ...    ...\n",
              "2878  2019-12-30  ['화학', '놀이터', '화학', '캠프', '과학', '교육', '기부', '화...      1\n",
              "2879  2019-12-30  ['배터리', '시가총액', '돌파', '배터리', '시가총액', '돌파', '세계...      1\n",
              "2880  2019-12-30  ['전자', '폴란드', '브로츠와프', '배터리', '분리', '공장', '증설'...      1\n",
              "2881  2019-12-30  ['결산', '산업', '소송', '화재', '다사다난', '배터리', '업계', ...      1\n",
              "2882  2019-12-30  ['남', '메시지', '남', '메시지', '국내', '정치', '김대중', '대...      1\n",
              "\n",
              "[2883 rows x 3 columns]"
            ]
          },
          "metadata": {
            "tags": []
          },
          "execution_count": 24
        }
      ]
    },
    {
      "cell_type": "code",
      "metadata": {
        "id": "qhCX4IxMJ-ze",
        "colab": {
          "base_uri": "https://localhost:8080/"
        },
        "outputId": "3822e1a9-d5a5-40e3-bc72-9bded5da6142"
      },
      "source": [
        "for i in range(len(news)):\r\n",
        "    try:\r\n",
        "        news['ngram'][i] = ''.join(news['ngram'][i].replace('[','').replace(']','').replace(\"'\",''))\r\n",
        "    except:\r\n",
        "        pass"
      ],
      "execution_count": null,
      "outputs": [
        {
          "output_type": "stream",
          "text": [
            "/usr/local/lib/python3.7/dist-packages/ipykernel_launcher.py:3: SettingWithCopyWarning: \n",
            "A value is trying to be set on a copy of a slice from a DataFrame\n",
            "\n",
            "See the caveats in the documentation: https://pandas.pydata.org/pandas-docs/stable/user_guide/indexing.html#returning-a-view-versus-a-copy\n",
            "  This is separate from the ipykernel package so we can avoid doing imports until\n"
          ],
          "name": "stderr"
        }
      ]
    },
    {
      "cell_type": "code",
      "metadata": {
        "colab": {
          "base_uri": "https://localhost:8080/",
          "height": 419
        },
        "id": "Jp4Y6u1UaOyi",
        "outputId": "0dacb71c-df4c-4857-9467-8de47bb89dc7"
      },
      "source": [
        "news"
      ],
      "execution_count": null,
      "outputs": [
        {
          "output_type": "execute_result",
          "data": {
            "text/html": [
              "<div>\n",
              "<style scoped>\n",
              "    .dataframe tbody tr th:only-of-type {\n",
              "        vertical-align: middle;\n",
              "    }\n",
              "\n",
              "    .dataframe tbody tr th {\n",
              "        vertical-align: top;\n",
              "    }\n",
              "\n",
              "    .dataframe thead th {\n",
              "        text-align: right;\n",
              "    }\n",
              "</style>\n",
              "<table border=\"1\" class=\"dataframe\">\n",
              "  <thead>\n",
              "    <tr style=\"text-align: right;\">\n",
              "      <th></th>\n",
              "      <th>date</th>\n",
              "      <th>ngram</th>\n",
              "      <th>label</th>\n",
              "    </tr>\n",
              "  </thead>\n",
              "  <tbody>\n",
              "    <tr>\n",
              "      <th>0</th>\n",
              "      <td>2017-01-02</td>\n",
              "      <td>한국, 배터리, 보조금, 제외, 화학, 삼성, 날벼락, 한국, 배터리, 보조금, 제...</td>\n",
              "      <td>0</td>\n",
              "    </tr>\n",
              "    <tr>\n",
              "      <th>1</th>\n",
              "      <td>2017-01-02</td>\n",
              "      <td>리더십, 시대, 분석, 산업, 혁명, 리더, 경영인, 누굴까, 리더십, 시대, 년,...</td>\n",
              "      <td>0</td>\n",
              "    </tr>\n",
              "    <tr>\n",
              "      <th>2</th>\n",
              "      <td>2017-01-02</td>\n",
              "      <td>구본무, 회장, 창립, 올해, 시작, 구본무, 회장, 창립, 올해, 시작, 회장, ...</td>\n",
              "      <td>0</td>\n",
              "    </tr>\n",
              "    <tr>\n",
              "      <th>3</th>\n",
              "      <td>2017-01-02</td>\n",
              "      <td>한국, 배터리, 설, 자리, 장착, 차량, 보조금, 제외, 국산, 배터리, 설, 자...</td>\n",
              "      <td>0</td>\n",
              "    </tr>\n",
              "    <tr>\n",
              "      <th>4</th>\n",
              "      <td>2017-01-02</td>\n",
              "      <td>충전, 시간, 사용, 노트북, 시판, 충전, 시간, 사용, 노트북, 시판, 동아일보...</td>\n",
              "      <td>0</td>\n",
              "    </tr>\n",
              "    <tr>\n",
              "      <th>...</th>\n",
              "      <td>...</td>\n",
              "      <td>...</td>\n",
              "      <td>...</td>\n",
              "    </tr>\n",
              "    <tr>\n",
              "      <th>2878</th>\n",
              "      <td>2019-12-30</td>\n",
              "      <td>화학, 놀이터, 화학, 캠프, 과학, 교육, 기부, 화학, 놀이터, 화학, 캠프, ...</td>\n",
              "      <td>1</td>\n",
              "    </tr>\n",
              "    <tr>\n",
              "      <th>2879</th>\n",
              "      <td>2019-12-30</td>\n",
              "      <td>배터리, 시가총액, 돌파, 배터리, 시가총액, 돌파, 세계, 최대, 배터리, 제조사...</td>\n",
              "      <td>1</td>\n",
              "    </tr>\n",
              "    <tr>\n",
              "      <th>2880</th>\n",
              "      <td>2019-12-30</td>\n",
              "      <td>전자, 폴란드, 브로츠와프, 배터리, 분리, 공장, 증설, 전자, 폴란드, 브로츠와...</td>\n",
              "      <td>1</td>\n",
              "    </tr>\n",
              "    <tr>\n",
              "      <th>2881</th>\n",
              "      <td>2019-12-30</td>\n",
              "      <td>결산, 산업, 소송, 화재, 다사다난, 배터리, 업계, 결산, 산업, 소송, 화재,...</td>\n",
              "      <td>1</td>\n",
              "    </tr>\n",
              "    <tr>\n",
              "      <th>2882</th>\n",
              "      <td>2019-12-30</td>\n",
              "      <td>남, 메시지, 남, 메시지, 국내, 정치, 김대중, 대통령, 동지, 가족, 세상, ...</td>\n",
              "      <td>1</td>\n",
              "    </tr>\n",
              "  </tbody>\n",
              "</table>\n",
              "<p>2883 rows × 3 columns</p>\n",
              "</div>"
            ],
            "text/plain": [
              "            date                                              ngram  label\n",
              "0     2017-01-02  한국, 배터리, 보조금, 제외, 화학, 삼성, 날벼락, 한국, 배터리, 보조금, 제...      0\n",
              "1     2017-01-02  리더십, 시대, 분석, 산업, 혁명, 리더, 경영인, 누굴까, 리더십, 시대, 년,...      0\n",
              "2     2017-01-02  구본무, 회장, 창립, 올해, 시작, 구본무, 회장, 창립, 올해, 시작, 회장, ...      0\n",
              "3     2017-01-02  한국, 배터리, 설, 자리, 장착, 차량, 보조금, 제외, 국산, 배터리, 설, 자...      0\n",
              "4     2017-01-02  충전, 시간, 사용, 노트북, 시판, 충전, 시간, 사용, 노트북, 시판, 동아일보...      0\n",
              "...          ...                                                ...    ...\n",
              "2878  2019-12-30  화학, 놀이터, 화학, 캠프, 과학, 교육, 기부, 화학, 놀이터, 화학, 캠프, ...      1\n",
              "2879  2019-12-30  배터리, 시가총액, 돌파, 배터리, 시가총액, 돌파, 세계, 최대, 배터리, 제조사...      1\n",
              "2880  2019-12-30  전자, 폴란드, 브로츠와프, 배터리, 분리, 공장, 증설, 전자, 폴란드, 브로츠와...      1\n",
              "2881  2019-12-30  결산, 산업, 소송, 화재, 다사다난, 배터리, 업계, 결산, 산업, 소송, 화재,...      1\n",
              "2882  2019-12-30  남, 메시지, 남, 메시지, 국내, 정치, 김대중, 대통령, 동지, 가족, 세상, ...      1\n",
              "\n",
              "[2883 rows x 3 columns]"
            ]
          },
          "metadata": {
            "tags": []
          },
          "execution_count": 27
        }
      ]
    },
    {
      "cell_type": "markdown",
      "metadata": {
        "id": "7gYT4WRRfyZ7"
      },
      "source": [
        "### NBC모델로 n-gram 감성지수 도출"
      ]
    },
    {
      "cell_type": "code",
      "metadata": {
        "id": "2ZS-39T5uosy"
      },
      "source": [
        "def my_tokenizer(x):\r\n",
        "    return x.split(\",\")"
      ],
      "execution_count": null,
      "outputs": []
    },
    {
      "cell_type": "code",
      "metadata": {
        "id": "1-gGahOfurn8"
      },
      "source": [
        "text_clf = Pipeline([('vect', CountVectorizer(ngram_range=(1,1), min_df = 10, tokenizer = my_tokenizer)),\r\n",
        "                      ('clf', MultinomialNB(alpha=0.001))])\r\n",
        "vect = text_clf.named_steps['vect']\r\n",
        "clf = text_clf.named_steps['clf']"
      ],
      "execution_count": null,
      "outputs": []
    },
    {
      "cell_type": "code",
      "metadata": {
        "colab": {
          "base_uri": "https://localhost:8080/"
        },
        "id": "745l_NYLvAmH",
        "outputId": "2fa8b00d-6341-4b93-db8f-68279a27a665"
      },
      "source": [
        "accuracy = np.zeros(30)\r\n",
        "posterior_list = []\r\n",
        "\r\n",
        "for i in tqdm(range(30)):\r\n",
        "    X_train, X_test, y_train, y_test = train_test_split(news['ngram'], news['label'], random_state = i, train_size = 0.9, shuffle=True)\r\n",
        "    text_clf.fit(X_train, y_train)\r\n",
        "    posterior_list.append(np.vstack([np.array(vect.get_feature_names()), np.exp(clf.feature_log_prob_)]))\r\n",
        "    pred = text_clf.predict(X_test)\r\n",
        "    accuracy[i] = np.sum(pred == y_test)"
      ],
      "execution_count": null,
      "outputs": [
        {
          "output_type": "stream",
          "text": [
            "100%|██████████| 30/30 [06:21<00:00, 12.72s/it]\n"
          ],
          "name": "stderr"
        }
      ]
    },
    {
      "cell_type": "code",
      "metadata": {
        "colab": {
          "base_uri": "https://localhost:8080/"
        },
        "id": "v2tTAcxQvOS9",
        "outputId": "2535e0cc-b45b-4a3c-a532-c5f70c74324f"
      },
      "source": [
        "clf.classes_"
      ],
      "execution_count": null,
      "outputs": [
        {
          "output_type": "execute_result",
          "data": {
            "text/plain": [
              "array([0, 1])"
            ]
          },
          "metadata": {
            "tags": []
          },
          "execution_count": 31
        }
      ]
    },
    {
      "cell_type": "code",
      "metadata": {
        "id": "dONLdpw3vP5-"
      },
      "source": [
        "pd.DataFrame(posterior_list)"
      ],
      "execution_count": null,
      "outputs": []
    },
    {
      "cell_type": "code",
      "metadata": {
        "id": "IolrT_H4xUuP"
      },
      "source": [
        "cv = CountVectorizer(ngram_range=(1,1), min_df = 10, tokenizer = my_tokenizer)"
      ],
      "execution_count": null,
      "outputs": []
    },
    {
      "cell_type": "code",
      "metadata": {
        "id": "mSFeIuZYxfz4"
      },
      "source": [
        "X = cv.fit_transform(news['ngram'])"
      ],
      "execution_count": null,
      "outputs": []
    },
    {
      "cell_type": "code",
      "metadata": {
        "colab": {
          "base_uri": "https://localhost:8080/"
        },
        "id": "gJB4M6BaxkCS",
        "outputId": "36633ba5-11b6-4fa1-c23c-f20d435433e1"
      },
      "source": [
        "ngram_list = cv.get_feature_names()\r\n",
        "len(ngram_list)"
      ],
      "execution_count": null,
      "outputs": [
        {
          "output_type": "execute_result",
          "data": {
            "text/plain": [
              "13126"
            ]
          },
          "metadata": {
            "tags": []
          },
          "execution_count": 35
        }
      ]
    },
    {
      "cell_type": "code",
      "metadata": {
        "colab": {
          "base_uri": "https://localhost:8080/"
        },
        "id": "llRyuibcxn3n",
        "outputId": "b8a11af2-0b3e-4999-ea67-a72e260002b7"
      },
      "source": [
        "polarity_scores = np.zeros((30, len(ngram_list)))\r\n",
        "\r\n",
        "for i, itr in tqdm(enumerate(posterior_list)):\r\n",
        "    for idx, n_gram in enumerate(itr[0]):\r\n",
        "        tmp_n = ngram_list.index(n_gram)\r\n",
        "        p_score = float(itr[2][idx])/float(itr[1][idx])\r\n",
        "        polarity_scores[i][tmp_n] = p_score\r\n",
        "        \r\n",
        "polarity_scores.shape"
      ],
      "execution_count": null,
      "outputs": [
        {
          "output_type": "stream",
          "text": [
            "30it [01:34,  3.16s/it]\n"
          ],
          "name": "stderr"
        },
        {
          "output_type": "execute_result",
          "data": {
            "text/plain": [
              "(30, 13126)"
            ]
          },
          "metadata": {
            "tags": []
          },
          "execution_count": 36
        }
      ]
    },
    {
      "cell_type": "code",
      "metadata": {
        "id": "j_SluWYbyd5K"
      },
      "source": [
        "for i, v in enumerate(polarity_scores):\r\n",
        "    for j, w in enumerate(v):\r\n",
        "         if polarity_scores[i][j] == 0:\r\n",
        "             polarity_scores[i][j] = None"
      ],
      "execution_count": null,
      "outputs": []
    },
    {
      "cell_type": "code",
      "metadata": {
        "id": "b0F6pvXlyiKw"
      },
      "source": [
        "df_p_scores = pd.DataFrame(polarity_scores)\r\n",
        "df_p_scores = df_p_scores.fillna(df_p_scores.mean())"
      ],
      "execution_count": null,
      "outputs": []
    },
    {
      "cell_type": "code",
      "metadata": {
        "colab": {
          "base_uri": "https://localhost:8080/"
        },
        "id": "f7Zo425Mykkd",
        "outputId": "56d6d645-97da-4c58-b5d7-eded37460c4d"
      },
      "source": [
        "df_p_scores.T.isnull().sum()"
      ],
      "execution_count": null,
      "outputs": [
        {
          "output_type": "execute_result",
          "data": {
            "text/plain": [
              "0     0\n",
              "1     0\n",
              "2     0\n",
              "3     0\n",
              "4     0\n",
              "5     0\n",
              "6     0\n",
              "7     0\n",
              "8     0\n",
              "9     0\n",
              "10    0\n",
              "11    0\n",
              "12    0\n",
              "13    0\n",
              "14    0\n",
              "15    0\n",
              "16    0\n",
              "17    0\n",
              "18    0\n",
              "19    0\n",
              "20    0\n",
              "21    0\n",
              "22    0\n",
              "23    0\n",
              "24    0\n",
              "25    0\n",
              "26    0\n",
              "27    0\n",
              "28    0\n",
              "29    0\n",
              "dtype: int64"
            ]
          },
          "metadata": {
            "tags": []
          },
          "execution_count": 39
        }
      ]
    },
    {
      "cell_type": "code",
      "metadata": {
        "id": "us2Xamimym6m"
      },
      "source": [
        "avg_polarity_scores = list(df_p_scores.mean())"
      ],
      "execution_count": null,
      "outputs": []
    },
    {
      "cell_type": "code",
      "metadata": {
        "colab": {
          "base_uri": "https://localhost:8080/",
          "height": 419
        },
        "id": "xuJiqIScyoyC",
        "outputId": "2a11f038-5310-4176-8edb-da85ed13d749"
      },
      "source": [
        "ps = pd.DataFrame(avg_polarity_scores, index=ngram_list)\r\n",
        "ps"
      ],
      "execution_count": null,
      "outputs": [
        {
          "output_type": "execute_result",
          "data": {
            "text/html": [
              "<div>\n",
              "<style scoped>\n",
              "    .dataframe tbody tr th:only-of-type {\n",
              "        vertical-align: middle;\n",
              "    }\n",
              "\n",
              "    .dataframe tbody tr th {\n",
              "        vertical-align: top;\n",
              "    }\n",
              "\n",
              "    .dataframe thead th {\n",
              "        text-align: right;\n",
              "    }\n",
              "</style>\n",
              "<table border=\"1\" class=\"dataframe\">\n",
              "  <thead>\n",
              "    <tr style=\"text-align: right;\">\n",
              "      <th></th>\n",
              "      <th>0</th>\n",
              "    </tr>\n",
              "  </thead>\n",
              "  <tbody>\n",
              "    <tr>\n",
              "      <th>中</th>\n",
              "      <td>0.928444</td>\n",
              "    </tr>\n",
              "    <tr>\n",
              "      <th>新</th>\n",
              "      <td>0.966789</td>\n",
              "    </tr>\n",
              "    <tr>\n",
              "      <th>日</th>\n",
              "      <td>1.186878</td>\n",
              "    </tr>\n",
              "    <tr>\n",
              "      <th>美</th>\n",
              "      <td>0.859467</td>\n",
              "    </tr>\n",
              "    <tr>\n",
              "      <th>非</th>\n",
              "      <td>0.546174</td>\n",
              "    </tr>\n",
              "    <tr>\n",
              "      <th>...</th>\n",
              "      <td>...</td>\n",
              "    </tr>\n",
              "    <tr>\n",
              "      <th>포스코</th>\n",
              "      <td>0.525595</td>\n",
              "    </tr>\n",
              "    <tr>\n",
              "      <th>한국</th>\n",
              "      <td>0.981991</td>\n",
              "    </tr>\n",
              "    <tr>\n",
              "      <th>현대차</th>\n",
              "      <td>0.949639</td>\n",
              "    </tr>\n",
              "    <tr>\n",
              "      <th>화재</th>\n",
              "      <td>1.261666</td>\n",
              "    </tr>\n",
              "    <tr>\n",
              "      <th>화학</th>\n",
              "      <td>1.622288</td>\n",
              "    </tr>\n",
              "  </tbody>\n",
              "</table>\n",
              "<p>13126 rows × 1 columns</p>\n",
              "</div>"
            ],
            "text/plain": [
              "            0\n",
              " 中   0.928444\n",
              " 新   0.966789\n",
              " 日   1.186878\n",
              " 美   0.859467\n",
              " 非   0.546174\n",
              "..        ...\n",
              "포스코  0.525595\n",
              "한국   0.981991\n",
              "현대차  0.949639\n",
              "화재   1.261666\n",
              "화학   1.622288\n",
              "\n",
              "[13126 rows x 1 columns]"
            ]
          },
          "metadata": {
            "tags": []
          },
          "execution_count": 41
        }
      ]
    },
    {
      "cell_type": "code",
      "metadata": {
        "colab": {
          "base_uri": "https://localhost:8080/",
          "height": 419
        },
        "id": "HWIkD87Fyvjr",
        "outputId": "f5f51884-2418-4aee-8706-a96d240db34e"
      },
      "source": [
        "ps_filter = ps[ps[0].apply(lambda x: x > 1.2 or x < 0.8)]\r\n",
        "ps_filter"
      ],
      "execution_count": null,
      "outputs": [
        {
          "output_type": "execute_result",
          "data": {
            "text/html": [
              "<div>\n",
              "<style scoped>\n",
              "    .dataframe tbody tr th:only-of-type {\n",
              "        vertical-align: middle;\n",
              "    }\n",
              "\n",
              "    .dataframe tbody tr th {\n",
              "        vertical-align: top;\n",
              "    }\n",
              "\n",
              "    .dataframe thead th {\n",
              "        text-align: right;\n",
              "    }\n",
              "</style>\n",
              "<table border=\"1\" class=\"dataframe\">\n",
              "  <thead>\n",
              "    <tr style=\"text-align: right;\">\n",
              "      <th></th>\n",
              "      <th>0</th>\n",
              "    </tr>\n",
              "  </thead>\n",
              "  <tbody>\n",
              "    <tr>\n",
              "      <th>非</th>\n",
              "      <td>0.546174</td>\n",
              "    </tr>\n",
              "    <tr>\n",
              "      <th>韓</th>\n",
              "      <td>0.656229</td>\n",
              "    </tr>\n",
              "    <tr>\n",
              "      <th>가격</th>\n",
              "      <td>1.275462</td>\n",
              "    </tr>\n",
              "    <tr>\n",
              "      <th>가격;강세</th>\n",
              "      <td>4.842620</td>\n",
              "    </tr>\n",
              "    <tr>\n",
              "      <th>가격;경쟁력</th>\n",
              "      <td>1.585847</td>\n",
              "    </tr>\n",
              "    <tr>\n",
              "      <th>...</th>\n",
              "      <td>...</td>\n",
              "    </tr>\n",
              "    <tr>\n",
              "      <th>중국</th>\n",
              "      <td>1.384565</td>\n",
              "    </tr>\n",
              "    <tr>\n",
              "      <th>차세대</th>\n",
              "      <td>1.213854</td>\n",
              "    </tr>\n",
              "    <tr>\n",
              "      <th>포스코</th>\n",
              "      <td>0.525595</td>\n",
              "    </tr>\n",
              "    <tr>\n",
              "      <th>화재</th>\n",
              "      <td>1.261666</td>\n",
              "    </tr>\n",
              "    <tr>\n",
              "      <th>화학</th>\n",
              "      <td>1.622288</td>\n",
              "    </tr>\n",
              "  </tbody>\n",
              "</table>\n",
              "<p>9955 rows × 1 columns</p>\n",
              "</div>"
            ],
            "text/plain": [
              "                0\n",
              " 非       0.546174\n",
              " 韓       0.656229\n",
              " 가격      1.275462\n",
              " 가격;강세   4.842620\n",
              " 가격;경쟁력  1.585847\n",
              "...           ...\n",
              "중국       1.384565\n",
              "차세대      1.213854\n",
              "포스코      0.525595\n",
              "화재       1.261666\n",
              "화학       1.622288\n",
              "\n",
              "[9955 rows x 1 columns]"
            ]
          },
          "metadata": {
            "tags": []
          },
          "execution_count": 42
        }
      ]
    },
    {
      "cell_type": "code",
      "metadata": {
        "id": "QiqrR8B-Eg1V"
      },
      "source": [
        "ps_filter.reset_index(inplace=True)"
      ],
      "execution_count": null,
      "outputs": []
    },
    {
      "cell_type": "code",
      "metadata": {
        "id": "j4TJULyqy318"
      },
      "source": [
        "ps_filter.to_csv('/content/drive/MyDrive/DB_Finance/data/polarity_score_only_topic.csv', encoding = 'utf-8', index=False)"
      ],
      "execution_count": null,
      "outputs": []
    }
  ]
}