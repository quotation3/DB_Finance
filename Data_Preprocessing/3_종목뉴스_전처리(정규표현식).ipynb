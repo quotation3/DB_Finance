{
  "nbformat": 4,
  "nbformat_minor": 0,
  "metadata": {
    "colab": {
      "name": "3.종목뉴스_전처리.ipynb",
      "provenance": [],
      "collapsed_sections": [],
      "include_colab_link": true
    },
    "kernelspec": {
      "name": "python3",
      "display_name": "Python 3"
    }
  },
  "cells": [
    {
      "cell_type": "markdown",
      "metadata": {
        "id": "view-in-github",
        "colab_type": "text"
      },
      "source": [
        "<a href=\"https://colab.research.google.com/github/quotation3/DB_Finance/blob/main/Data_Preprocessing/3_%EC%A2%85%EB%AA%A9%EB%89%B4%EC%8A%A4_%EC%A0%84%EC%B2%98%EB%A6%AC(%EC%A0%95%EA%B7%9C%ED%91%9C%ED%98%84%EC%8B%9D).ipynb\" target=\"_parent\"><img src=\"https://colab.research.google.com/assets/colab-badge.svg\" alt=\"Open In Colab\"/></a>"
      ]
    },
    {
      "cell_type": "markdown",
      "metadata": {
        "id": "JeDNoARgoQG8"
      },
      "source": [
        "### 정규 표현식 적용"
      ]
    },
    {
      "cell_type": "code",
      "metadata": {
        "id": "Sxd6lOhDnTSj"
      },
      "source": [
        "import pandas as pd\r\n",
        "import re"
      ],
      "execution_count": null,
      "outputs": []
    },
    {
      "cell_type": "code",
      "metadata": {
        "id": "DXHJ3h1_nZKt"
      },
      "source": [
        "news_2019 = pd.read_json('/content/drive/MyDrive/DB_Finance/data/lg_chemical.json')\r\n",
        "news_2018 = pd.read_json('/content/drive/MyDrive/DB_Finance/data/lg_chemical_2018.json')"
      ],
      "execution_count": null,
      "outputs": []
    },
    {
      "cell_type": "code",
      "metadata": {
        "id": "7ggX2nSqoHFU"
      },
      "source": [
        "news = pd.concat([news_2018,news_2019], axis=0)"
      ],
      "execution_count": null,
      "outputs": []
    },
    {
      "cell_type": "code",
      "metadata": {
        "id": "NO1MsDozQNLc"
      },
      "source": [
        "news.reset_index(drop=True, inplace=True)"
      ],
      "execution_count": null,
      "outputs": []
    },
    {
      "cell_type": "code",
      "metadata": {
        "colab": {
          "base_uri": "https://localhost:8080/",
          "height": 287
        },
        "id": "KLVAj3eSCxYS",
        "outputId": "d9e07a1b-b9f1-46cd-d6a3-6ed360edd7f6"
      },
      "source": [
        "news['content'][12]"
      ],
      "execution_count": null,
      "outputs": [
        {
          "output_type": "execute_result",
          "data": {
            "application/vnd.google.colaboratory.intrinsic+json": {
              "type": "string"
            },
            "text/plain": [
              "'[머니투데이 오동희 기자, 홍정표 기자] [삼성 LG 현대차 등 電車군단 내수와 수출 회복 혼신…화학 정유 철강 등도 신성장동력 확보 총력]힘겨운 병신년(丙申年)을 보낸 재계가 2017년 정유년(丁酉年)에도 국내외적으로 적지 않은 난관에 봉착할 것으로 예상돼, 올해도 위기극복의 한 해가 될 것으로 예상된다.재계는 국제통화기금(IMF)이나 2008년 글로벌 금융위기 등 다양한 위기 상황에서도 위기극복 DNA를 기반으로 위기를 극복한 만큼, 올 한해도 다시 한번 이 힘을 발휘해 한국 경제의 버팀목 역할을 해나가겠다는 의지다.1일 재계에 따르면 삼성, 현대기아차, SK, LG, GS, 포스코, 현대중공업, 한화 그룹 등 주요 기업들은 수출 부진과 내수침체에, 미국 트럼프 신정부의 출범, 미·중·러간 패권다툼, 국내 대선의 소용돌이 속에서도 기존 사업의 경쟁력 제고와 신성장동력 발굴을 통해 실적개선에 힘을 쏟겠다는 의지를 다지고 있다.삼성·LG와 현대차 등 전차(전자와 자동차 업종) 군단은 새해에도 위축되는 내수시장과 수출 감소 등을 극복하기 위해 해법 찾기에 나선다.삼성의 경우 빠른 특검의 마무리와 함께 주력 계열사인 삼성전자의 경우 지난해 갤럭시S7의 소손 문제로 초유의 단말기 단종사태의 극복이 올 한해 최대 과제 중 하나다. 삼성전자 관계자는 \"지난해 단종된 갤럭시S7 후속 모델의 안정적인 공급을 통해 다시 한번 도약하는 계기가 되기를 기대한다\"고 말했다. LG전자도 안정적 수익처인 가전과 신성장동력으로 육성하고 있는 VC(자동차 전장) 부문 외에 적자를 기록하고 있는 MC부문의 수익성 제고가 최대 숙제다. LG전자 관계자는 \"지난해 초 구본무 회장의 신년사에서 사업구조 고도화를 주문했고, 그 성과로 LG전자 시그니처 프리미엄 브랜드가 시장에서 호응을 얻으며 가전 부문에서 7% 이상 영업이익률을 올렸다\"며 \"VC부문과 LG화학도 고부가가치 실현에 성공했다\"고 자평했다. 올해는 여기에 더해 MC 부문의 경쟁력 제고를 통해 안정적인 수익기반을 확보하겠다는 전략이다.현대기아차그룹의 경우 지난해 내부 시장에서의 점유율 하락과 아프리카와 중동, 동유럽과 중남미 등 신흥국가의 극심한 경제침체로 당초목표인 813만대를 밑도는 실적을 올려 올 한해는 반등의 기회를 모색해야 하는 상황이다.현대차 그룹 관계자는 \"새해에는 지난해 침체됐던 분위기를 다시 끌어올려 글로벌 판매 800만대를 넘어서는 재도약의 기회를 만들기 위해 노력할 것\"이라고 말했다. 현대기아차그룹은 올해에도 자율주행차 시대 등에 대비한 기술개발에도 총력을 기울여 미래성장동력 확보에 나설 방침이다.SK그룹은 지난해 말 수펙스추구협의회 의장을 비롯해 주력계열사 CEO를 모두 바꾼 만큼 올해 혁신 기반의 신규 사업 발굴 및 실행을 계획하고 있다. 인수합병을 통해 사업을 확장하고, 4차 산업혁명이라 불리는 새로운 분야에서 신기술 및 서비스 개발에 박차를 가할 예정이다.  정유/화학부문은 사업구조 혁신과 글로벌 성장이란 당면 과제를 안고 중국, 미국 등에서 유수 업체들과의 사업제휴 및 M&A로 사업확장에 총력을 다할 계획이다. 정보통신은 글로벌 ICT(정보통신기술) 산업 변화에 대비해 과감히 사업구조를 혁신하고, 이동통신, IoT(사물인터넷), 미디어, 플랫폼, 반도체 등 새로운 ICT 융합을 통해 혁신과 변화를 주도해 나갈 방침이다. 최근 대규모 투자계획을 발표한 반도체 역시 4차 산업혁명 시대를 선제적으로 대응하기 위해 기술 개발과 시설 투자를 지속할 예정이다. GS그룹은 올해 수익기반 다변화 및 사업포트폴리오 고도화에 전력할 방침이다. 경영환경이 불확실할수록 과감한 투자를 통해 수익 기반을 다변화해야 된다는 허창수 회장의 경영철학이 반영된 것이다. 포스코는 새해에도 고수익/고급강 판매를 지속적으로 확대하고, 재무구조를 더욱 건전화해 전 세계 경기 침체와 중국의 철강 공급 과잉에 따른 장기 불황을 적극 극복해나갈 계획이다. 구조혁신을 통한 철강본원 경쟁력 강화에 더욱 매진한다는 것이다. 현재 약 50% 수준인 고수익 고급강인 WP(월드프리미엄)제품 판매 비율을 내년 말까지 전체 판매량의 약 55%까지 끌어올리고, 대표적인 고부가가치제품인 자동차강판 개발 및 판매 확대에도 주력할 계획이다. 지난해 강도 높은 경영개선계획의 이행을 통해 체질개선과 흑자전환에 성공한 현대중공업은 ‘제2의 창업’ 수준의 변화와 혁신으로 재도약의 기틀을 다진다는 계획이다. 현대중공업은 올해 사업별 독립회사 경영체제로 전환한다. 최근 기술/ICT기획팀을 기획실 내에 신설해 그룹의 기술경영 컨트롤타워 역할을 수행하게 했다. 이와 함께 경기도 성남시에 ‘그룹 통합R&D센터’ 설립을 추진하고 있다. 한화그룹은 기업의 본원적인 경쟁력을 강화하고, 잘 할 수 있는 사업 부문의 핵심역량을 글로벌 수준으로 더욱 끌어올릴 예정이다. 방위사업분야는 수출로 무게 중심을 옮겨 글로벌 방산시장 공략을 본격화하고, 지속적인 투자와 연구개발로 자주국방 등 국익에 일조할 방침이다. 두산그룹은 성장사업 기회는 지속적으로 모색하되, 이보다 앞서 2년여 간에 걸친 재무구조개선작업에 이어 \\'근본적인 수익구조 개선을 통한 재무건전성 강화\\'를 우선과제로 삼기로 했다. 이를 위해 기존 사업이 시장을 선도할 수 있도록 근원적 경쟁력을 키우는데 초점을 맞출 계획이다. 조현준 신임 회장의 3세 경영체제를 맞은 효성그룹은 기존 중전기기, ATM(현금자동입출금기) 등 핵심 제품 이외에도 ESS(에너지저장장치), HVDC(고압직류송전) 등 신에너지 사업을 비롯해 탄소섬유, 폴리케톤과 같은 신소재 산업 육성에도 적극 나설 방침이다. 코오롱그룹은 현재 추진 중인 사업의 경쟁력을 강화하고 신규 및 증설 설비에 원활한 투자 등 내실 강화와 함께 미래 먹거리 사업 발굴에 중점을 둘 계획이다.지난해 현대상선과 현대증권이 계열사에서 제외되면서 규모가 축소된 현대그룹은 새로운 사업 진출을 모색하고 있다. 올해 대선 이후 남북 관계가 회복될 것을 대비해 대북사업을 다시 점검하는 한편, 투자회사 신설도 신중히 검토하고 있다. 오동희 기자 hunter@, 홍정표 기자 jphong@mt.co.kr'"
            ]
          },
          "metadata": {
            "tags": []
          },
          "execution_count": 24
        }
      ]
    },
    {
      "cell_type": "code",
      "metadata": {
        "colab": {
          "base_uri": "https://localhost:8080/"
        },
        "id": "i73yokiJNf16",
        "outputId": "1c1e6f62-9894-4d63-f22a-45500c96ff84"
      },
      "source": [
        "stop_words = ['코스피', '지수','코스닥','매수','매도','증권','부고']\r\n",
        "lis = []\r\n",
        "for i in range(len(news)):\r\n",
        "    for j in stop_words:\r\n",
        "        if j in news['content'][i]:\r\n",
        "            lis.append(i)\r\n",
        "len(set(lis))"
      ],
      "execution_count": null,
      "outputs": [
        {
          "output_type": "execute_result",
          "data": {
            "text/plain": [
              "18659"
            ]
          },
          "metadata": {
            "tags": []
          },
          "execution_count": 15
        }
      ]
    },
    {
      "cell_type": "code",
      "metadata": {
        "id": "qAOT_X8Zns_n"
      },
      "source": [
        "news = news[['date','title','content','media']]"
      ],
      "execution_count": null,
      "outputs": []
    },
    {
      "cell_type": "code",
      "metadata": {
        "colab": {
          "base_uri": "https://localhost:8080/"
        },
        "id": "3-ngQ6mUpoZ7",
        "outputId": "2962326a-f543-474d-f225-31dc04666644"
      },
      "source": [
        "news['media'].unique()"
      ],
      "execution_count": null,
      "outputs": [
        {
          "output_type": "execute_result",
          "data": {
            "text/plain": [
              "80"
            ]
          },
          "metadata": {
            "tags": []
          },
          "execution_count": 6
        }
      ]
    },
    {
      "cell_type": "code",
      "metadata": {
        "id": "m6SPna6JprqA"
      },
      "source": [
        "news_list = ['조선비즈','머니투데이','뉴시스','한국경제','전자신문','서울경제','이데일리','디지털데일리','매일경제','아이뉴스24','문화일보','연합뉴스','아시아경제','뉴스1','머니S',\\\r\n",
        "             '파이낸셜뉴스','헤럴드경제','조선일보','데일리안','동아일보','세계일보','노컷뉴스','ZDNet Korea','서울신문', '국민일보','더팩트'\\\r\n",
        "            '한국일보','한경비즈니스','경향신문','매일신문','한겨레','프레시안','매경이코노미','부산일보','오마이뉴스','한국경제TV']"
      ],
      "execution_count": null,
      "outputs": []
    },
    {
      "cell_type": "code",
      "metadata": {
        "colab": {
          "base_uri": "https://localhost:8080/"
        },
        "id": "KYl1MPVFM1eb",
        "outputId": "dcdca2d3-44b7-4a4d-f2d8-c197710eeb24"
      },
      "source": [
        "len(news_list)"
      ],
      "execution_count": null,
      "outputs": [
        {
          "output_type": "execute_result",
          "data": {
            "text/plain": [
              "35"
            ]
          },
          "metadata": {
            "tags": []
          },
          "execution_count": 8
        }
      ]
    },
    {
      "cell_type": "code",
      "metadata": {
        "id": "oFxV6xjFpr1y"
      },
      "source": [
        "news = news[news['media'].isin(news_list)]"
      ],
      "execution_count": null,
      "outputs": []
    },
    {
      "cell_type": "code",
      "metadata": {
        "id": "2lCHcKPApr56"
      },
      "source": [
        "news.reset_index(drop=True,inplace=True)"
      ],
      "execution_count": null,
      "outputs": []
    },
    {
      "cell_type": "code",
      "metadata": {
        "colab": {
          "base_uri": "https://localhost:8080/",
          "height": 419
        },
        "id": "eHH3_2qCpr-y",
        "outputId": "7627883b-24e3-47ab-809b-5561b6f9166a"
      },
      "source": [
        "news"
      ],
      "execution_count": null,
      "outputs": [
        {
          "output_type": "execute_result",
          "data": {
            "text/html": [
              "<div>\n",
              "<style scoped>\n",
              "    .dataframe tbody tr th:only-of-type {\n",
              "        vertical-align: middle;\n",
              "    }\n",
              "\n",
              "    .dataframe tbody tr th {\n",
              "        vertical-align: top;\n",
              "    }\n",
              "\n",
              "    .dataframe thead th {\n",
              "        text-align: right;\n",
              "    }\n",
              "</style>\n",
              "<table border=\"1\" class=\"dataframe\">\n",
              "  <thead>\n",
              "    <tr style=\"text-align: right;\">\n",
              "      <th></th>\n",
              "      <th>date</th>\n",
              "      <th>title</th>\n",
              "      <th>content</th>\n",
              "      <th>media</th>\n",
              "    </tr>\n",
              "  </thead>\n",
              "  <tbody>\n",
              "    <tr>\n",
              "      <th>0</th>\n",
              "      <td>2017.01.01. 오후 6:57</td>\n",
              "      <td>中, 한국산 배터리 탑재차 보조금 제외…LG화학·삼성SDI '날벼락'</td>\n",
              "      <td>(서울=뉴스1) 강현창 기자 = 중국 정부가 한국산 배터리를 장착한 전기차만 보조금...</td>\n",
              "      <td>뉴스1</td>\n",
              "    </tr>\n",
              "    <tr>\n",
              "      <th>1</th>\n",
              "      <td>2017.01.01. 오후 12:02</td>\n",
              "      <td>LG '올데이그램' 한 번 충전으로 24시간 거뜬</td>\n",
              "      <td>무게에 이어 배터리 혁신으로 휴대의 혁신 완성배터리 용량 1.7배 늘리면서도 무게는...</td>\n",
              "      <td>서울경제</td>\n",
              "    </tr>\n",
              "    <tr>\n",
              "      <th>2</th>\n",
              "      <td>2017.01.01. 오후 6:03</td>\n",
              "      <td>대창모터스, 美에 실버용 저속 전기차 첫 수출</td>\n",
              "      <td>중소기업이 만든 저속 전기자동차가 미국 시장에 수출된다. 미국 내 실버 수요자가 늘...</td>\n",
              "      <td>전자신문</td>\n",
              "    </tr>\n",
              "    <tr>\n",
              "      <th>3</th>\n",
              "      <td>2017.01.01. 오후 3:01</td>\n",
              "      <td>코스피 '톱10' 격변… 네이버·SK하이닉스↑, 아모레·LG화학↓</td>\n",
              "      <td>지난 한 해 유가증권시장(코스피) 시가총액 톱10 종목에 지각변동이 일어났다. SK...</td>\n",
              "      <td>노컷뉴스</td>\n",
              "    </tr>\n",
              "    <tr>\n",
              "      <th>4</th>\n",
              "      <td>2017.01.01. 오전 6:07</td>\n",
              "      <td>2016년 증시 어김없이 개미 지옥…평균 26.6% 손실</td>\n",
              "      <td>개인투자자 순매수 상위 10종목 중 9개 '손실' 기관 28.7% 고수익 실현…外人...</td>\n",
              "      <td>뉴시스</td>\n",
              "    </tr>\n",
              "    <tr>\n",
              "      <th>...</th>\n",
              "      <td>...</td>\n",
              "      <td>...</td>\n",
              "      <td>...</td>\n",
              "      <td>...</td>\n",
              "    </tr>\n",
              "    <tr>\n",
              "      <th>26565</th>\n",
              "      <td>2019.12.31. 오전 10:41</td>\n",
              "      <td>올해 10대그룹 시총 136조 늘었다…삼성은 30%↑, 롯데는 22%↓</td>\n",
              "      <td>[헤럴드경제=김현경 기자] 올해 국내 증시에서 10대그룹의 시가총액은 지난해 대비 ...</td>\n",
              "      <td>헤럴드경제</td>\n",
              "    </tr>\n",
              "    <tr>\n",
              "      <th>26566</th>\n",
              "      <td>2019.12.31. 오전 11:09</td>\n",
              "      <td>연말·연시 재계 인사 트렌드 들여다보니… 세대교체·쇄신 바람, 안정보다 변화 선택</td>\n",
              "      <td>안정보다는 변화와 혁신이었다. 2020년 재계의 임원 인사를 관통하는 트렌드는 ‘변...</td>\n",
              "      <td>매일경제</td>\n",
              "    </tr>\n",
              "    <tr>\n",
              "      <th>26567</th>\n",
              "      <td>2019.12.31. 오전 9:02</td>\n",
              "      <td>HDC현대산업개발 ‘청주 가경 아이파크 4단지’ 내달 7일부터 계약 시작</td>\n",
              "      <td>[헤럴드경제] 많은 수요자들에게 선택을 받으며 뜨거운 인기를 보였던 HDC현대산업개...</td>\n",
              "      <td>헤럴드경제</td>\n",
              "    </tr>\n",
              "    <tr>\n",
              "      <th>26568</th>\n",
              "      <td>2019.12.31. 오전 9:59</td>\n",
              "      <td>[특징주 2019] 삼성·NAVER는 웃고 SK는 씁쓸…시총 서열 `희비교차`</td>\n",
              "      <td>올해 국내 증시는 글로벌 변수에 따라 불안정성이 크게 대두된 한 해 였지만 유가증권...</td>\n",
              "      <td>매일경제</td>\n",
              "    </tr>\n",
              "    <tr>\n",
              "      <th>26569</th>\n",
              "      <td>2019.12.31. 오후 4:35</td>\n",
              "      <td>바이오가 일자리창출 효자…고용 증가율 제조업의 8배</td>\n",
              "      <td>한국 경제가 저(低)성장 늪에 빠져 허우적대는 가운데 의약품 산업이 수출 견인과 국...</td>\n",
              "      <td>매일경제</td>\n",
              "    </tr>\n",
              "  </tbody>\n",
              "</table>\n",
              "<p>26570 rows × 4 columns</p>\n",
              "</div>"
            ],
            "text/plain": [
              "                       date  ...  media\n",
              "0       2017.01.01. 오후 6:57  ...    뉴스1\n",
              "1      2017.01.01. 오후 12:02  ...   서울경제\n",
              "2       2017.01.01. 오후 6:03  ...   전자신문\n",
              "3       2017.01.01. 오후 3:01  ...   노컷뉴스\n",
              "4       2017.01.01. 오전 6:07  ...    뉴시스\n",
              "...                     ...  ...    ...\n",
              "26565  2019.12.31. 오전 10:41  ...  헤럴드경제\n",
              "26566  2019.12.31. 오전 11:09  ...   매일경제\n",
              "26567   2019.12.31. 오전 9:02  ...  헤럴드경제\n",
              "26568   2019.12.31. 오전 9:59  ...   매일경제\n",
              "26569   2019.12.31. 오후 4:35  ...   매일경제\n",
              "\n",
              "[26570 rows x 4 columns]"
            ]
          },
          "metadata": {
            "tags": []
          },
          "execution_count": 96
        }
      ]
    },
    {
      "cell_type": "code",
      "metadata": {
        "id": "zpGbCqsGpsFD"
      },
      "source": [
        "# list_1 : 앞부분에 [  기자 ]  등 내용 제거\r\n",
        "list_1 = ['한국경제TV','머니투데이','서울경제','이데일리','디지털데일리','아이뉴스24','아시아경제','헤럴드경제','디지털타임스','서울신문','한경비즈니스', '프레시안','오마이뉴스']"
      ],
      "execution_count": null,
      "outputs": []
    },
    {
      "cell_type": "code",
      "metadata": {
        "id": "vt0Nzo4BpsKd"
      },
      "source": [
        "for i in news.index:\r\n",
        "    cont = news.loc[i,'content']\r\n",
        "    md = news.loc[i, 'media']\r\n",
        "    if md in list_1:\r\n",
        "        cont = re.sub('[\\\\[]+[ㄱ-힣\\s=A-Z\\\\)\\\\(\\d]+[\\\\]]', '', cont)  # [ ooo 기자 \r\n",
        "        cont = re.sub('[\\\\[]+[ㄱ-힣\\s,]+[기자][\\\\]]', '',cont) #  ooo 기자] :머니투데이 괄호 두개라서\r\n",
        "        news.loc[i,'content']=cont "
      ],
      "execution_count": null,
      "outputs": []
    },
    {
      "cell_type": "code",
      "metadata": {
        "id": "7J0xQX8VpsPR"
      },
      "source": [
        "#list_2 : 뒷부분 000 기자 이후 삭제\r\n",
        "list_2 = ['머니투데이','서울경제','서울신문','세계일보','경향신문']"
      ],
      "execution_count": null,
      "outputs": []
    },
    {
      "cell_type": "code",
      "metadata": {
        "id": "blEojTelpsTf"
      },
      "source": [
        "for i in news.index:\r\n",
        "    cont = news.loc[i,'content']\r\n",
        "    md = news.loc[i, 'media']\r\n",
        "    if md in list_2:\r\n",
        "        cont = re.sub(\"[ㄱ-힣]{2,3} [기][자][ㄱ-힣\\w\\s\\\\'@.,ⓒ\\\\[\\\\]&\\\\)\\\\(]+\",'', cont) # ooo 기자 이후 삭제\r\n",
        "        cont = re.sub(\"[<][ㄱ-힣\\\\',\\\\>ⓒ\\s]+\",'', cont) #머니투데이 <저작권... 이후 삭제\r\n",
        "        cont = re.sub(\"[/][ㄱ-힣]{2,3}[기자]+[\\s\\w@ⓒ\\\\'.,ㄱ-힣]+\",'',cont) #서울경제 /ooo기자 이후 삭제\r\n",
        "        cont = re.sub(\"[\\\\/][ㄱ-힣·]+[기자]+[\\s@.ㄱ-힣\\w]+\",'', cont) #서울경제 /ooo·ooo 기자 이후 삭제\r\n",
        "        cont = re.sub(\"[/][ㄱ-힣]{2,3} [인턴기자]+[\\s\\w@ⓒ\\\\'.,ㄱ-힣]+\",'', cont) #서울경제 /ooo 인턴기자 이후 삭제\r\n",
        "        cont = re.sub(\"[/][ㄱ-힣]{2,3} [선임기자]+[\\s\\w@ⓒ\\\\'.,ㄱ-힣]+\",'', cont) #서울경제 /ooo 인턴기자 이후 삭제\r\n",
        "        cont = re.sub(\"[▶][ㄱ-힣ⓒ\\s\\\\[\\\\],'.\\w\\\\)\\\\(]+\",'', cont) #서울신문 ▶ 이후 삭제\r\n",
        "        cont = re.sub(\"[ⓒ][ㄱ-힣,\\s\\w\\\\)\\\\(.]+\",'', cont) #세계일보,경향신문 ⓒ이후 삭제\r\n",
        "        news.loc[i,'content']=cont"
      ],
      "execution_count": null,
      "outputs": []
    },
    {
      "cell_type": "code",
      "metadata": {
        "id": "wgma6HpppsZb"
      },
      "source": [
        "# list 3\r\n",
        "list_3 = ['한겨레']"
      ],
      "execution_count": null,
      "outputs": []
    },
    {
      "cell_type": "code",
      "metadata": {
        "id": "13chaskYpse9"
      },
      "source": [
        "for i in news.index:\r\n",
        "    cont = news.loc[i,'content']\r\n",
        "    md = news.loc[i, 'media']\r\n",
        "    if md in list_3:\r\n",
        "        cont = re.sub(\"[ㄱ-힣]{2,3} [선임기자]+ [\\w\\s.@\\\\]\\\\[:ⓒㄱ-힣]+\",'', cont) \r\n",
        "        cont = re.sub(\"[\\\\]\\\\[ⓒ]+\",'', cont) \r\n",
        "        cont = re.sub(\"[\\\\[\\\\]\\\\-Copyrights&chosun.com,-]+\",'', cont) \r\n",
        "        cont = re.sub(\"한겨레신문 : 무단전재 및 재배포 금지\",'', cont)\r\n",
        "        news.loc[i,'content']=cont"
      ],
      "execution_count": null,
      "outputs": []
    },
    {
      "cell_type": "code",
      "metadata": {
        "id": "2VxEI3EDpsjZ"
      },
      "source": [
        "#list_4\r\n",
        "list_4 = ['뉴스1']"
      ],
      "execution_count": null,
      "outputs": []
    },
    {
      "cell_type": "code",
      "metadata": {
        "id": "_6Z-REpPpsnv"
      },
      "source": [
        "for i in news.index:\r\n",
        "    cont = news.loc[i,'content']\r\n",
        "    md = news.loc[i, 'media']\r\n",
        "    if md in list_4:\r\n",
        "        cont = re.sub('[[\\\\(][ㄱ-힣]+[=]{1}[뉴스]+[1][\\\\)]','',cont) # 뉴스 1 앞부분 (지역이름=뉴스1)\r\n",
        "        cont = re.sub('[ㄱ-힣]{2,3} [기자]+[ =]+','',cont) # 뉴스1 앞부분 기자이름\r\n",
        "        cont = re.sub('[a-zA-Z\\d]+[@news.kr]+','',cont) #뉴스1, 이메일 제거\r\n",
        "        news.loc[i,'content']=cont"
      ],
      "execution_count": null,
      "outputs": []
    },
    {
      "cell_type": "code",
      "metadata": {
        "id": "MNFy9K8rpssV"
      },
      "source": [
        "#list_5\r\n",
        "list_5 = ['한국경제TV']"
      ],
      "execution_count": null,
      "outputs": []
    },
    {
      "cell_type": "code",
      "metadata": {
        "id": "XyOveohIpsxS"
      },
      "source": [
        "for i in news.index:\r\n",
        "    cont = news.loc[i,'content']\r\n",
        "    md = news.loc[i, 'media']\r\n",
        "    if md in list_5:\r\n",
        "        cont = re.sub('[\\\\<앵커\\\\>]','',cont)  #<앵커> 제거\r\n",
        "        cont = re.sub('[ㄱ-힣]{2,4}[기][자]','',cont)\r\n",
        "        cont = re.sub('[ⓒ][ㄱ-힣\\w\\s,]+','',cont)\r\n",
        "        cont = re.sub('[\\\\[][한국경제TV]{6}[ㄱ-힣 ]+[\\\\]]','',cont) #[한국경제TV 알파고 분석뉴스]\r\n",
        "        cont = re.sub('[한국경제TV]{6}[ ㄱ-힣@\\w.]+','',cont) # 한국경제TV 송민화입니다.송민화 기자 mhsong@wowtv.co.kr\r\n",
        "        news.loc[i,'content']=cont"
      ],
      "execution_count": null,
      "outputs": []
    },
    {
      "cell_type": "code",
      "metadata": {
        "id": "E0q19Milps2b"
      },
      "source": [
        "#list_6\r\n",
        "list_6 = ['조선비즈']"
      ],
      "execution_count": null,
      "outputs": []
    },
    {
      "cell_type": "code",
      "metadata": {
        "id": "xdn3vJq5ps65"
      },
      "source": [
        "for i in news.index:\r\n",
        "    cont = news.loc[i,'content']\r\n",
        "    md = news.loc[i, 'media']\r\n",
        "    if md in list_6:\r\n",
        "        cont = re.sub('[\\\\[][ㄱ-힣]{2,4}[기자 ]+[\\w.\\\\]@]+','',cont)\r\n",
        "        cont = re.sub(\"[\\\\※][\\s\\wㄱ-힣\\\\]\\\\[\\\\-.,:\\\\)\\\\(\\\\']+\",'',cont)\r\n",
        "        news.loc[i,'content']=cont"
      ],
      "execution_count": null,
      "outputs": []
    },
    {
      "cell_type": "code",
      "metadata": {
        "id": "FViNE3E0qKAs"
      },
      "source": [
        "#list_7\r\n",
        "list_7 = ['뉴시스','더팩트']"
      ],
      "execution_count": null,
      "outputs": []
    },
    {
      "cell_type": "code",
      "metadata": {
        "id": "4EhRKTJXqKHi"
      },
      "source": [
        "for i in news.index:\r\n",
        "    cont = news.loc[i,'content']\r\n",
        "    md = news.loc[i, 'media']\r\n",
        "    if md in list_7:\r\n",
        "        cont = re.sub('[\\\\【][ㄱ-힣() ]+[=][A].[P].[\\\\/].[뉴시스]{3}[\\\\】]+[ㄱ-힣 ]+[=]','',cont) # 뉴시스 앞부분 제거 【부산=뉴시스】 ㅇㅇㅇ 기자 = \r\n",
        "        cont = re.sub('[【][ㄱ-힣]+[=][뉴시스]+[】][ ㄱ-힣]+[=]','',cont)#【서울=뉴시[ ㄱ-힣]+[=]스,'',cont】ㅇㅇㅇ 기자 = \r\n",
        "        cont = re.sub('[\\\\[][ㄱ-힣]+[=][ㄱ-힣]+[\\\\]][ ㄱ-힣]+[=]','',cont) #[오산=뉴시스] 이병희 기자 =\r\n",
        "        cont = re.sub('[\\d\\w]+[@][\\w.]+','',cont)#뉴시스 이메일 제거 mhsong@wowtv.co.kr\r\n",
        "        cont = re.sub('[\\\\[][ㄱ-힣| ]+[\\\\]]','',cont) # 더팩트 앞부분 제거\r\n",
        "        cont = re.sub('[\\\\<][ㄱ-힣\\s\\w.ⓒ-]+[\\\\>]','',cont)  #뉴시스 뒷부분 제거\r\n",
        "        cont = re.sub('[\\w]+[@][\\w.]+[\\w\\sㄱ-힣ⓒ&.]+','',cont)  #더팩트 뒷부분 제거\r\n",
        "        news.loc[i,'content']=cont"
      ],
      "execution_count": null,
      "outputs": []
    },
    {
      "cell_type": "code",
      "metadata": {
        "id": "8toX_oSzqKNL"
      },
      "source": [
        "#list_8\r\n",
        "list_8 = ['연합뉴스']"
      ],
      "execution_count": null,
      "outputs": []
    },
    {
      "cell_type": "code",
      "metadata": {
        "id": "HppemsfNqKRb"
      },
      "source": [
        "for i in news.index:\r\n",
        "    cont = news.loc[i,'content']\r\n",
        "    md = news.loc[i, 'media']\r\n",
        "    if md in list_8:\r\n",
        "        cont = re.sub('[\\\\(][ㄱ-힣=]+[\\\\)] [ㄱ-힣 ]+[=]','',cont)  # 앞부분 제거\r\n",
        "        cont = re.sub('[\\w]+[@][\\w.]+','',cont) #뒷부분 제거\r\n",
        "        news.loc[i,'content']=cont"
      ],
      "execution_count": null,
      "outputs": []
    },
    {
      "cell_type": "code",
      "metadata": {
        "id": "qQi0xn1SqKVO"
      },
      "source": [
        "#list_9\r\n",
        "list_9 = ['머니S','아시아경제']"
      ],
      "execution_count": null,
      "outputs": []
    },
    {
      "cell_type": "code",
      "metadata": {
        "id": "JqCINR0oqKYl"
      },
      "source": [
        "for i in news.index:\r\n",
        "    cont = news.loc[i,'content']\r\n",
        "    md = news.loc[i, 'media']\r\n",
        "    if md in list_9:\r\n",
        "        cont = re.sub('[ㄱ-힣]+ [기][자]','',cont) # 아시아 경제 뒷부분(ooo 기자)\r\n",
        "        cont = re.sub(\"[\\w]+[@][\\w.]+\",'',cont) #아시아 경제 뒷부분(이메일)\r\n",
        "        cont = re.sub('[\\\\<][ⓒㄱ-힣,\\s]+[\\\\>]','',cont) # 아시아 경제 뒷부분\r\n",
        "        cont = re.sub(\"[\\\\<][ㄱ-힣ⓒ',\\w\\s]+[\\\\>]\",'',cont)# 머니s 뒷부분\r\n",
        "        news.loc[i,'content']=cont"
      ],
      "execution_count": null,
      "outputs": []
    },
    {
      "cell_type": "code",
      "metadata": {
        "id": "A0OKg_cwqKcC"
      },
      "source": [
        "#list_10\r\n",
        "list_10 = ['프레시안','국민일보','헤럴드경제','파이낸셜뉴스','한국경제TV']"
      ],
      "execution_count": null,
      "outputs": []
    },
    {
      "cell_type": "code",
      "metadata": {
        "id": "7sq9QsP9qKfs"
      },
      "source": [
        "for i in news.index:\r\n",
        "    cont = news.loc[i,'content']\r\n",
        "    md = news.loc[i, 'media']\r\n",
        "    if md in list_10:\r\n",
        "        cont = re.sub('[ⓒ][\\sㄱ-힣-,.\\w&]+','',cont) #ⓒ  이후 삭제\r\n",
        "        cont = re.sub('[\\w]+[@][-.\\w\\s\\\\)\\\\(=]+','',cont) # 이메일삭제\r\n",
        "        cont = re.sub('[※][\\sㄱ-힣]+','',cont) # ※저작권자\r\n",
        "        cont = re.sub('[ㄱ-힣]{2,4} [기][자]','',cont)\r\n",
        "        cont = re.sub('[Copyrights]+','',cont)\r\n",
        "        cont = re.sub('[ㄱ-힣]{2,4} [인][턴][기][자][\\w]','',cont)\r\n",
        "        cont = re.sub('[【][ㄱ-힣=\\\\)\\\\( ]+[】]','',cont) #파이낸셜 앞부분\r\n",
        "        cont = re.sub('[GdNew]+[ ae]+','',cont) # 국민일보 뒷부분 남은 것 제거\r\n",
        "        cont = re.sub('[.][m][_][l][\\\\}\\\\{ㄱ-힣:%\\\\]\\\\[;:\\w.\\d\\s]+','',cont) # 한국경제 뒷부분 제거\r\n",
        "        cont = re.sub('[m][a][x][-][\\\\}\\\\{ㄱ-힣:%\\\\]\\\\[;:\\w.\\d\\s]+','',cont) # 한국경제 뒷부분 제거\r\n",
        "        cont = re.sub('[\\\\[][\\\\]]','',cont) # 뒷부분 [] 제거\r\n",
        "        cont = re.sub('[고][은][빛]','',cont)\r\n",
        "        cont = re.sub('[이][송][렬]+','',cont)\r\n",
        "        cont = re.sub('[한][민][수]+','',cont)\r\n",
        "        news.loc[i,'content']=cont"
      ],
      "execution_count": null,
      "outputs": []
    },
    {
      "cell_type": "code",
      "metadata": {
        "id": "DnG5eV53qWnf"
      },
      "source": [
        "#list_11\r\n",
        "list_11 = ['아이뉴스24']"
      ],
      "execution_count": null,
      "outputs": []
    },
    {
      "cell_type": "code",
      "metadata": {
        "id": "hpqhm5MtqWye"
      },
      "source": [
        "for i in news.index:\r\n",
        "    cont = news.loc[i,'content']\r\n",
        "    md = news.loc[i, 'media']\r\n",
        "    if md in list_11:\r\n",
        "        cont = re.sub('[\\\\[][ⓒ][ㄱ-힣\\d\\\\]\\s]+','',cont) #아이뉴스24 뒷부분 제거\r\n",
        "        news.loc[i,'content']=cont"
      ],
      "execution_count": null,
      "outputs": []
    },
    {
      "cell_type": "code",
      "metadata": {
        "id": "JkOzuKWAqW8y"
      },
      "source": [
        "#list_12\r\n",
        "list_12 = ['디지털데일리','문화일보','ZDNet Korea','경향신문','전자신문']"
      ],
      "execution_count": null,
      "outputs": []
    },
    {
      "cell_type": "code",
      "metadata": {
        "id": "biqtyTAhqXIX"
      },
      "source": [
        "for i in news.index:\r\n",
        "    cont = news.loc[i,'content']\r\n",
        "    md = news.loc[i, 'media']\r\n",
        "    if md in list_12:\r\n",
        "        cont = re.sub('[ㄱ-힣]{2,4}[ ㄱ-힣\\\\/]+[기][자]','',cont) # 뒷부분 기자이름 삭제\r\n",
        "        cont = re.sub('[\\w]+[@][.\\w]+','',cont) #뒷부분 이메일 삭제\r\n",
        "        cont = re.sub(\"[\\\\[][C][o][p][y][\\sⓒ\\wㄱ-힣'\\\\)\\\\(.\\\\]]+\",'',cont) # 문화일보 뒷부분 삭제\r\n",
        "        cont = re.sub('[로][봇][ ][E][T][ AIETㄱ-힣]+','',cont) #전자신문 뒷부분 삭제\r\n",
        "        cont = re.sub('[▶]+[©ㄱ-힣\\\\)\\\\(\\w.,\\s]+','',cont) # 경향신문 뒷부분 삭제\r\n",
        "        cont = re.sub('[<][>][\\sㄱ-힣©\\\\)\\\\(\\\\>\\\\<\\\\-]+','',cont)\r\n",
        "        news.loc[i,'content']=cont"
      ],
      "execution_count": null,
      "outputs": []
    },
    {
      "cell_type": "code",
      "metadata": {
        "id": "Kh1vcZGdqXT_"
      },
      "source": [
        "#list_13\r\n",
        "list_13 = ['매일경제','조선일보','데일리안','한국일보','매경이코노미']"
      ],
      "execution_count": null,
      "outputs": []
    },
    {
      "cell_type": "code",
      "metadata": {
        "id": "755XQ3InqKje"
      },
      "source": [
        "for i in news.index:\r\n",
        "    cont = news.loc[i,'content']\r\n",
        "    md = news.loc[i, 'media']\r\n",
        "    if md in list_13:\r\n",
        "        cont = re.sub('[데][일][리][안][\\s\\\\-ㄱ-힣\\\\)\\\\(\\dⓒ,\\w@.]+','',cont) #데일리안 뒷부분 제거\r\n",
        "        cont = re.sub('[ㄱ-힣]{2,3}[ ][기][자]','',cont) # ooo 기자 삭제\r\n",
        "        cont = re.sub('[ㄱ-힣]{3}[기][자]','',cont) #ooo기자 삭제\r\n",
        "        cont = re.sub('[\\\\[][디][지][털][뉴][스][ㄱ-힣 ]+[\\\\]]','',cont)\r\n",
        "        cont = re.sub('[\\\\[][ㄱ-힣]{0,5}[\\s\\\\=\\\\/\\\\]\\\\[\\\\&매일경제.,\\\\)\\\\(팀장ⓒ\\w]+','',cont) # 매일경제뒷부분 제거\r\n",
        "        cont = re.sub('[-] [Copy]+[\\w\\sⓒ&,.ㄱ-힣]+[-]','',cont) # 조선일보 뒷부분 제거\r\n",
        "        cont = re.sub('[\\w]+[@][\\w.]+','',cont) # 이메일 제거\r\n",
        "        cont = re.sub('[@][\\w~\\d.ㄱ-힣\\\\)\\\\]\\s]','',cont)# 이메일(매일경제)\r\n",
        "        cont = re.sub('[k][.][c][o][.][\\w\\\\]~\\d.ㄱ-힣\\s]','',cont)\r\n",
        "        news.loc[i,'content']=cont"
      ],
      "execution_count": null,
      "outputs": []
    },
    {
      "cell_type": "code",
      "metadata": {
        "id": "IDCqDcaYqecT"
      },
      "source": [
        "#list_14\r\n",
        "list_14 = ['이데일리','디지털타임스','동아일보','한경비즈니스','오마이뉴스','노컷뉴스','매일신문']"
      ],
      "execution_count": null,
      "outputs": []
    },
    {
      "cell_type": "code",
      "metadata": {
        "id": "qrXg8AaTqenB"
      },
      "source": [
        "for i in news.index:\r\n",
        "    cont = news.loc[i,'content']\r\n",
        "    md = news.loc[i, 'media']\r\n",
        "    if md in list_14:\r\n",
        "        cont = re.sub('[ㄱ-힣]{3}[ ][\\\\(][\\w@.]+[\\\\)][네][이][버][\\sㄱ-힣\\\\!,~]+','',cont) # 이데일리 뒷부분\r\n",
        "        cont = re.sub('[ㄱ-힣]{3}[ ][\\\\(][\\w@.]+[\\\\)][이][데][일][리][\\sㄱ-힣\\\\!~,‘’]+','',cont) # 이데일리 뒷부분\r\n",
        "        cont = re.sub(\"[‘][이][데][일][리][’][\\sㄱ-힣,~!]+\",'',cont) # 이데일리 뒷부분\r\n",
        "        cont = re.sub(\"[ㄱ-힣]{3}[ ][\\\\(][\\w]+[@][\\w.]+[\\\\)]\",'',cont) # 이데일리 뒷부분\r\n",
        "        cont = re.sub('[ⓒ][ ][동아일보]+[ㄱ-힣\\w&.,\\s]+','',cont) # 동아일보 뒷부분\r\n",
        "        cont = re.sub('[\\w]+[@][\\w.]+[저][작][ㄱ-힣\\w\\s©]+','',cont) # 노컷뉴스 뒷부분\r\n",
        "        cont = re.sub('[ㄱ-힣]{3}[ ].[기][자][ ][\\w]+[@][\\w.]+','',cont) # ooo 기자 이메일 삭제\r\n",
        "        cont = re.sub('[\\\\[][ㄱ-힣\\s]+[기][자][\\s@.\\w]+[\\\\]]','',cont) # 매일신문 앞부분\r\n",
        "        cont = re.sub('[ⓒ][매일신문]+[\\s\\w.\\\\-]+','',cont) # 매일신문 뒷부분 제거\r\n",
        "        cont = re.sub('[ㄱ-힣]{3}[기][자][\\s\\w@.\\\\/]+','',cont) #디지털타임스 뒷부분 제거\r\n",
        "        cont = re.sub('[\\\\[][본][ ][기][사][는][\\sㄱ-힣\\d.~\\\\]\\\\[\\\\)\\\\(]+','',cont) # 한경비즈니스 뒷부분 제거\r\n",
        "        cont = re.sub('[ㄱ-힣]{3}[ ][기][자]','',cont)\r\n",
        "        cont = re.sub('[\\w]+[@][\\w.]+','',cont)\r\n",
        "        cont = re.sub('[사][진][\\s][한][국][경][제][ㄱ-힣\\\\·]+','',cont)\r\n",
        "        cont = re.sub('[이][데][일][리][\\sㄱ-힣,!~]+','',cont)  #이데일리 뒷부분\r\n",
        "        cont = re.sub('[인][스][타][ ][친][추][\\sㄱ-힣,!~]+','',cont) # 이데일리 뒷부분\r\n",
        "        cont = re.sub('[당첨자]{3}[ ][2222]{4}[ㄱ-힣!\\d,\\s]+','',cont) #이데일리 뒷부분\r\n",
        "        cont = re.sub('[저작권자]{4}[\\\\(][c][\\\\)][ㄱ-힣\\\\)\\\\(,.\\\\>\\\\<\\s]+','',cont) # 오마이뉴스 뒷부분\r\n",
        "        cont = re.sub('[매일신문]{4}','',cont)\r\n",
        "        news.loc[i,'content']=cont"
      ],
      "execution_count": null,
      "outputs": []
    },
    {
      "cell_type": "code",
      "metadata": {
        "id": "rCnt1GNfqiPm"
      },
      "source": [
        "#list_15\r\n",
        "list_15 = ['ZDNet Korea']"
      ],
      "execution_count": null,
      "outputs": []
    },
    {
      "cell_type": "code",
      "metadata": {
        "id": "xa64Lb0iqiZy"
      },
      "source": [
        "for i in news.index:\r\n",
        "    cont = news.loc[i,'content']\r\n",
        "    md = news.loc[i, 'media']\r\n",
        "    if md in list_15:\r\n",
        "        cont = re.sub('[\\\\[][ㄱ-힣\\s+]','',cont)\r\n",
        "        news.loc[i,'content']=cont"
      ],
      "execution_count": null,
      "outputs": []
    },
    {
      "cell_type": "code",
      "metadata": {
        "id": "Bk9o_Td1ps_R"
      },
      "source": [
        "#list_16\r\n",
        "list_16 = ['부산일보']"
      ],
      "execution_count": null,
      "outputs": []
    },
    {
      "cell_type": "code",
      "metadata": {
        "id": "LsabMMW7ql1W"
      },
      "source": [
        "for i in news.index:\r\n",
        "    cont = news.loc[i,'content']\r\n",
        "    md = news.loc[i, 'media']\r\n",
        "    if md in list_16:\r\n",
        "        cont = re.sub('[ㄱ-힣]{3} [기][자]','',cont)\r\n",
        "        cont = re.sub('[\\w]+[@][\\w.]+','',cont)\r\n",
        "        news.loc[i,'content']=cont"
      ],
      "execution_count": null,
      "outputs": []
    },
    {
      "cell_type": "code",
      "metadata": {
        "id": "FyBC6MHrql6p"
      },
      "source": [
        "for i in news.index:\r\n",
        "    cont = news.loc[i,'content']\r\n",
        "    md = news.loc[i, 'media']"
      ],
      "execution_count": null,
      "outputs": []
    },
    {
      "cell_type": "code",
      "metadata": {
        "colab": {
          "base_uri": "https://localhost:8080/",
          "height": 419
        },
        "id": "EgBxuOL1qmAa",
        "outputId": "916adad3-4820-4b59-8ebe-d2fcaa30fb70"
      },
      "source": [
        "news"
      ],
      "execution_count": null,
      "outputs": [
        {
          "output_type": "execute_result",
          "data": {
            "text/html": [
              "<div>\n",
              "<style scoped>\n",
              "    .dataframe tbody tr th:only-of-type {\n",
              "        vertical-align: middle;\n",
              "    }\n",
              "\n",
              "    .dataframe tbody tr th {\n",
              "        vertical-align: top;\n",
              "    }\n",
              "\n",
              "    .dataframe thead th {\n",
              "        text-align: right;\n",
              "    }\n",
              "</style>\n",
              "<table border=\"1\" class=\"dataframe\">\n",
              "  <thead>\n",
              "    <tr style=\"text-align: right;\">\n",
              "      <th></th>\n",
              "      <th>date</th>\n",
              "      <th>title</th>\n",
              "      <th>content</th>\n",
              "      <th>media</th>\n",
              "    </tr>\n",
              "  </thead>\n",
              "  <tbody>\n",
              "    <tr>\n",
              "      <th>0</th>\n",
              "      <td>2017.01.01. 오후 6:57</td>\n",
              "      <td>中, 한국산 배터리 탑재차 보조금 제외…LG화학·삼성SDI '날벼락'</td>\n",
              "      <td>중국 정부가 한국산 배터리를 장착한 전기차만 보조금 대상에서 제외했다.1일 배터리...</td>\n",
              "      <td>뉴스1</td>\n",
              "    </tr>\n",
              "    <tr>\n",
              "      <th>1</th>\n",
              "      <td>2017.01.01. 오후 12:02</td>\n",
              "      <td>LG '올데이그램' 한 번 충전으로 24시간 거뜬</td>\n",
              "      <td>무게에 이어 배터리 혁신으로 휴대의 혁신 완성배터리 용량 1.7배 늘리면서도 무게는...</td>\n",
              "      <td>서울경제</td>\n",
              "    </tr>\n",
              "    <tr>\n",
              "      <th>2</th>\n",
              "      <td>2017.01.01. 오후 6:03</td>\n",
              "      <td>대창모터스, 美에 실버용 저속 전기차 첫 수출</td>\n",
              "      <td>동차가 미국 시장에 수출된다. 미국 내 실버 수요자가 늘고 있어 앞으로 물량이 늘어...</td>\n",
              "      <td>전자신문</td>\n",
              "    </tr>\n",
              "    <tr>\n",
              "      <th>3</th>\n",
              "      <td>2017.01.01. 오후 3:01</td>\n",
              "      <td>코스피 '톱10' 격변… 네이버·SK하이닉스↑, 아모레·LG화학↓</td>\n",
              "      <td>지난 한 해 유가증권시장(코스피) 시가총액 톱10 종목에 지각변동이 일어났다. SK...</td>\n",
              "      <td>노컷뉴스</td>\n",
              "    </tr>\n",
              "    <tr>\n",
              "      <th>4</th>\n",
              "      <td>2017.01.01. 오전 6:07</td>\n",
              "      <td>2016년 증시 어김없이 개미 지옥…평균 26.6% 손실</td>\n",
              "      <td>개인투자자 순매수 상위 10종목 중 9개 '손실' 기관 28.7% 고수익 실현…外人...</td>\n",
              "      <td>뉴시스</td>\n",
              "    </tr>\n",
              "    <tr>\n",
              "      <th>...</th>\n",
              "      <td>...</td>\n",
              "      <td>...</td>\n",
              "      <td>...</td>\n",
              "      <td>...</td>\n",
              "    </tr>\n",
              "    <tr>\n",
              "      <th>26565</th>\n",
              "      <td>2019.12.31. 오전 10:41</td>\n",
              "      <td>올해 10대그룹 시총 136조 늘었다…삼성은 30%↑, 롯데는 22%↓</td>\n",
              "      <td>올해 국내 증시에서 10대그룹의 시가총액은 지난해 대비 큰 폭으로 출렁였다. 삼성...</td>\n",
              "      <td>헤럴드경제</td>\n",
              "    </tr>\n",
              "    <tr>\n",
              "      <th>26566</th>\n",
              "      <td>2019.12.31. 오전 11:09</td>\n",
              "      <td>연말·연시 재계 인사 트렌드 들여다보니… 세대교체·쇄신 바람, 안정보다 변화 선택</td>\n",
              "      <td>안정보다는 변화와 혁신이었다. 2020년 재계의 임원 인사를 관통하는 트렌드는 ‘변...</td>\n",
              "      <td>매일경제</td>\n",
              "    </tr>\n",
              "    <tr>\n",
              "      <th>26567</th>\n",
              "      <td>2019.12.31. 오전 9:02</td>\n",
              "      <td>HDC현대산업개발 ‘청주 가경 아이파크 4단지’ 내달 7일부터 계약 시작</td>\n",
              "      <td>많은 수요자들에게 선택을 받으며 뜨거운 인기를 보였던 HD현대산업개발의 ‘청주 가...</td>\n",
              "      <td>헤럴드경제</td>\n",
              "    </tr>\n",
              "    <tr>\n",
              "      <th>26568</th>\n",
              "      <td>2019.12.31. 오전 9:59</td>\n",
              "      <td>[특징주 2019] 삼성·NAVER는 웃고 SK는 씁쓸…시총 서열 `희비교차`</td>\n",
              "      <td>올해 국내 증시는 글로벌 변수에 따라 불안정성이 크게 대두된 한 해 였지만 유가증권...</td>\n",
              "      <td>매일경제</td>\n",
              "    </tr>\n",
              "    <tr>\n",
              "      <th>26569</th>\n",
              "      <td>2019.12.31. 오후 4:35</td>\n",
              "      <td>바이오가 일자리창출 효자…고용 증가율 제조업의 8배</td>\n",
              "      <td>한국 경제가 저(低)성장 늪에 빠져 허우적대는 가운데 의약품 산업이 수출 견인과 국...</td>\n",
              "      <td>매일경제</td>\n",
              "    </tr>\n",
              "  </tbody>\n",
              "</table>\n",
              "<p>26570 rows × 4 columns</p>\n",
              "</div>"
            ],
            "text/plain": [
              "                       date  ...  media\n",
              "0       2017.01.01. 오후 6:57  ...    뉴스1\n",
              "1      2017.01.01. 오후 12:02  ...   서울경제\n",
              "2       2017.01.01. 오후 6:03  ...   전자신문\n",
              "3       2017.01.01. 오후 3:01  ...   노컷뉴스\n",
              "4       2017.01.01. 오전 6:07  ...    뉴시스\n",
              "...                     ...  ...    ...\n",
              "26565  2019.12.31. 오전 10:41  ...  헤럴드경제\n",
              "26566  2019.12.31. 오전 11:09  ...   매일경제\n",
              "26567   2019.12.31. 오전 9:02  ...  헤럴드경제\n",
              "26568   2019.12.31. 오전 9:59  ...   매일경제\n",
              "26569   2019.12.31. 오후 4:35  ...   매일경제\n",
              "\n",
              "[26570 rows x 4 columns]"
            ]
          },
          "metadata": {
            "tags": []
          },
          "execution_count": 130
        }
      ]
    },
    {
      "cell_type": "markdown",
      "metadata": {
        "id": "a7M-e4fbrly4"
      },
      "source": [
        "### 15시 이후 기사는 내일 주가에 반영"
      ]
    },
    {
      "cell_type": "code",
      "metadata": {
        "id": "CudN3h5jnuok"
      },
      "source": [
        "news['text'] = news['title']+news['content']"
      ],
      "execution_count": null,
      "outputs": []
    },
    {
      "cell_type": "code",
      "metadata": {
        "id": "PeH0UrJ-tpuT"
      },
      "source": [
        "for i in range(len(news)):\r\n",
        "    try:\r\n",
        "        news['title'][i] = news['text'][i].replace('[',' ').replace(']',' ').replace('기자',' ').replace('△',' ').replace('<',' ').replace('>',' ').replace('\"',' ').replace('(',' ').replace('(',' ').replace('◆',' ')\r\n",
        "    except:\r\n",
        "        continue"
      ],
      "execution_count": null,
      "outputs": []
    },
    {
      "cell_type": "code",
      "metadata": {
        "id": "8irgZTNJnv1H"
      },
      "source": [
        "for i in range(len(news)):\r\n",
        "    try:\r\n",
        "        news['text'][i] = news['text'][i].replace('[',' ').replace(']',' ').replace('기자',' ').replace('△',' ').replace('<',' ').replace('>',' ').replace('\"',' ').replace('(',' ').replace('(',' ').replace('◆',' ')\r\n",
        "    except:\r\n",
        "        continue"
      ],
      "execution_count": null,
      "outputs": []
    },
    {
      "cell_type": "code",
      "metadata": {
        "id": "6D6uFK20nxJd"
      },
      "source": [
        "news = news.dropna()\r\n",
        "news = news.reset_index(drop=True)"
      ],
      "execution_count": null,
      "outputs": []
    },
    {
      "cell_type": "code",
      "metadata": {
        "id": "gp_6rFibnyPl"
      },
      "source": [
        "news['time']=''\r\n",
        "\r\n",
        "for i in range(len(news)):\r\n",
        "    news['time'][i] = news['date'][i][12:]\r\n",
        "    news['date'][i] = news['date'][i][:10]"
      ],
      "execution_count": null,
      "outputs": []
    },
    {
      "cell_type": "code",
      "metadata": {
        "id": "iiUjs9uJnzg_"
      },
      "source": [
        "for i in range(len(news)):\r\n",
        "    news['date'][i] = news['date'][i].replace('.','-')"
      ],
      "execution_count": null,
      "outputs": []
    },
    {
      "cell_type": "code",
      "metadata": {
        "id": "HklaOc78n09l"
      },
      "source": [
        "news['timing']=''\r\n",
        "\r\n",
        "# 15시 이후 뉴스는 내일 주가에 반영\r\n",
        "for i in range(len(news)):\r\n",
        "    if news['time'][i][1:2] =='후':\r\n",
        "        if news['time'][i][3:5] =='12':\r\n",
        "            pass\r\n",
        "        elif news['time'][i][3:5] =='1:':\r\n",
        "            pass\r\n",
        "        elif news['time'][i][3:5] =='2:':\r\n",
        "            pass\r\n",
        "        else:\r\n",
        "            news['timing'][i] = '내일'\r\n",
        "    else:\r\n",
        "        pass\r\n",
        "\r\n",
        "news['date'] = pd.to_datetime(news['date'])"
      ],
      "execution_count": null,
      "outputs": []
    },
    {
      "cell_type": "code",
      "metadata": {
        "colab": {
          "base_uri": "https://localhost:8080/"
        },
        "id": "W3sOpo7bn2Qa",
        "outputId": "9e1beefb-0d23-4bab-eef0-5004aa5ecbac"
      },
      "source": [
        "from datetime import datetime, timedelta\r\n",
        "\r\n",
        "news['new_date']=''\r\n",
        "\r\n",
        "for i in range(len(news)):\r\n",
        "    if news['timing'][i] =='내일':\r\n",
        "        news['new_date'][i] = news['date'][i] + timedelta(days=1)\r\n",
        "    else:\r\n",
        "        news['new_date'][i] = news['date'][i]\r\n",
        "\r\n",
        "for i in range(len(news)):\r\n",
        "    news['new_date'][i] = news['new_date'][i].strftime('%Y-%m-%d')"
      ],
      "execution_count": null,
      "outputs": [
        {
          "output_type": "stream",
          "text": [
            "/usr/local/lib/python3.7/dist-packages/ipykernel_launcher.py:7: SettingWithCopyWarning: \n",
            "A value is trying to be set on a copy of a slice from a DataFrame\n",
            "\n",
            "See the caveats in the documentation: https://pandas.pydata.org/pandas-docs/stable/user_guide/indexing.html#returning-a-view-versus-a-copy\n",
            "  import sys\n",
            "/usr/local/lib/python3.7/dist-packages/ipykernel_launcher.py:9: SettingWithCopyWarning: \n",
            "A value is trying to be set on a copy of a slice from a DataFrame\n",
            "\n",
            "See the caveats in the documentation: https://pandas.pydata.org/pandas-docs/stable/user_guide/indexing.html#returning-a-view-versus-a-copy\n",
            "  if __name__ == '__main__':\n",
            "/usr/local/lib/python3.7/dist-packages/ipykernel_launcher.py:12: SettingWithCopyWarning: \n",
            "A value is trying to be set on a copy of a slice from a DataFrame\n",
            "\n",
            "See the caveats in the documentation: https://pandas.pydata.org/pandas-docs/stable/user_guide/indexing.html#returning-a-view-versus-a-copy\n",
            "  if sys.path[0] == '':\n"
          ],
          "name": "stderr"
        }
      ]
    },
    {
      "cell_type": "code",
      "metadata": {
        "id": "QYIps9Ern3Yw"
      },
      "source": [
        "news = news.sort_values(by='date')"
      ],
      "execution_count": null,
      "outputs": []
    },
    {
      "cell_type": "code",
      "metadata": {
        "colab": {
          "base_uri": "https://localhost:8080/",
          "height": 589
        },
        "id": "T6w0ywJHn40P",
        "outputId": "6d0635c4-4f81-4e31-ed0c-cb907792e678"
      },
      "source": [
        "news"
      ],
      "execution_count": null,
      "outputs": [
        {
          "output_type": "execute_result",
          "data": {
            "text/html": [
              "<div>\n",
              "<style scoped>\n",
              "    .dataframe tbody tr th:only-of-type {\n",
              "        vertical-align: middle;\n",
              "    }\n",
              "\n",
              "    .dataframe tbody tr th {\n",
              "        vertical-align: top;\n",
              "    }\n",
              "\n",
              "    .dataframe thead th {\n",
              "        text-align: right;\n",
              "    }\n",
              "</style>\n",
              "<table border=\"1\" class=\"dataframe\">\n",
              "  <thead>\n",
              "    <tr style=\"text-align: right;\">\n",
              "      <th></th>\n",
              "      <th>date</th>\n",
              "      <th>title</th>\n",
              "      <th>content</th>\n",
              "      <th>media</th>\n",
              "      <th>text</th>\n",
              "      <th>time</th>\n",
              "      <th>timing</th>\n",
              "      <th>new_date</th>\n",
              "    </tr>\n",
              "  </thead>\n",
              "  <tbody>\n",
              "    <tr>\n",
              "      <th>0</th>\n",
              "      <td>2017-01-01</td>\n",
              "      <td>中, 한국산 배터리 탑재차 보조금 제외…LG화학·삼성SDI '날벼락' 중국 정부가 ...</td>\n",
              "      <td>중국 정부가 한국산 배터리를 장착한 전기차만 보조금 대상에서 제외했다.1일 배터리...</td>\n",
              "      <td>뉴스1</td>\n",
              "      <td>中, 한국산 배터리 탑재차 보조금 제외…LG화학·삼성SDI '날벼락' 중국 정부가 ...</td>\n",
              "      <td>오후 6:57</td>\n",
              "      <td>내일</td>\n",
              "      <td>2017-01-02</td>\n",
              "    </tr>\n",
              "    <tr>\n",
              "      <th>10</th>\n",
              "      <td>2017-01-01</td>\n",
              "      <td>핫이슈  정유년 그룹별 경영 키워드는··· 삼성 '지주사 전환' 현대차는 '820...</td>\n",
              "      <td>SK '젊은 CEO' 세대교체 안착LG 전장사업부문 본궤도 진입롯데 호텔 상장···...</td>\n",
              "      <td>서울경제</td>\n",
              "      <td>핫이슈  정유년 그룹별 경영 키워드는··· 삼성 '지주사 전환' 현대차는 '820...</td>\n",
              "      <td>오후 6:05</td>\n",
              "      <td>내일</td>\n",
              "      <td>2017-01-02</td>\n",
              "    </tr>\n",
              "    <tr>\n",
              "      <th>9</th>\n",
              "      <td>2017-01-01</td>\n",
              "      <td>재계, 정유년도 '산너머 산'…위기극복 DNA로 재도약 다짐  삼성 LG 현대차 등...</td>\n",
              "      <td>[삼성 LG 현대차 등 電車군단 내수와 수출 회복 혼신…화학 정유 철강 등도 신성...</td>\n",
              "      <td>머니투데이</td>\n",
              "      <td>재계, 정유년도 '산너머 산'…위기극복 DNA로 재도약 다짐  삼성 LG 현대차 등...</td>\n",
              "      <td>오전 5:00</td>\n",
              "      <td></td>\n",
              "      <td>2017-01-01</td>\n",
              "    </tr>\n",
              "    <tr>\n",
              "      <th>7</th>\n",
              "      <td>2017-01-01</td>\n",
              "      <td>정유년 건설 CEO 닭띠는?…건설경기 침체 속 활로찾기 과제 진희정  ,올해 건설사...</td>\n",
              "      <td>진희정 기자,올해 건설사들의 경영환경이 녹록지 않다. 해외건설 시장 수주 악화와 ...</td>\n",
              "      <td>뉴스1</td>\n",
              "      <td>정유년 건설 CEO 닭띠는?…건설경기 침체 속 활로찾기 과제 진희정  ,올해 건설사...</td>\n",
              "      <td>오전 6:30</td>\n",
              "      <td></td>\n",
              "      <td>2017-01-01</td>\n",
              "    </tr>\n",
              "    <tr>\n",
              "      <th>6</th>\n",
              "      <td>2017-01-01</td>\n",
              "      <td>신년기획 1회 충전 300㎞ 쌩쌩…2세대차 전기차새해 글로벌 배터리 전기차 BEV...</td>\n",
              "      <td>새해 글로벌 배터리 전기차(BEV) 시장은 2세대 전기차 모델 출시로 지금보다 가파...</td>\n",
              "      <td>전자신문</td>\n",
              "      <td>신년기획 1회 충전 300㎞ 쌩쌩…2세대차 전기차새해 글로벌 배터리 전기차 BEV...</td>\n",
              "      <td>오전 12:06</td>\n",
              "      <td></td>\n",
              "      <td>2017-01-01</td>\n",
              "    </tr>\n",
              "    <tr>\n",
              "      <th>...</th>\n",
              "      <td>...</td>\n",
              "      <td>...</td>\n",
              "      <td>...</td>\n",
              "      <td>...</td>\n",
              "      <td>...</td>\n",
              "      <td>...</td>\n",
              "      <td>...</td>\n",
              "      <td>...</td>\n",
              "    </tr>\n",
              "    <tr>\n",
              "      <th>26560</th>\n",
              "      <td>2019-12-31</td>\n",
              "      <td>안 되는 사업 접고 부동산 팔고…미래 사업엔 조 단위 투자 사진) 리츠에 매각한 롯...</td>\n",
              "      <td>(사진) 리츠에 매각한 롯데백화점 강남점/한국경제신문 대기업들은 2019년 그 어느...</td>\n",
              "      <td>한경비즈니스</td>\n",
              "      <td>안 되는 사업 접고 부동산 팔고…미래 사업엔 조 단위 투자 사진) 리츠에 매각한 롯...</td>\n",
              "      <td>오전 10:01</td>\n",
              "      <td></td>\n",
              "      <td>2019-12-31</td>\n",
              "    </tr>\n",
              "    <tr>\n",
              "      <th>26559</th>\n",
              "      <td>2019-12-31</td>\n",
              "      <td>대우건설·금호타이어 등 '안전불감' 기업 1420곳 공개 올해 중대·사망재해가 일어...</td>\n",
              "      <td>올해 중대·사망재해가 일어나는 등 안전보건 관리에 소홀했던 사업장 1420곳의 명...</td>\n",
              "      <td>뉴스1</td>\n",
              "      <td>대우건설·금호타이어 등 '안전불감' 기업 1420곳 공개 올해 중대·사망재해가 일어...</td>\n",
              "      <td>오전 6:00</td>\n",
              "      <td></td>\n",
              "      <td>2019-12-31</td>\n",
              "    </tr>\n",
              "    <tr>\n",
              "      <th>26558</th>\n",
              "      <td>2019-12-31</td>\n",
              "      <td>구인회 LG 창업주 50주기…공식행사 없이 조용히  기업은 사람이 사람을 위해서 하...</td>\n",
              "      <td>\"기업은 사람이 사람을 위해서 하는 활동이다. 기업을 하는 데는 내부의 인화(人和...</td>\n",
              "      <td>뉴스1</td>\n",
              "      <td>구인회 LG 창업주 50주기…공식행사 없이 조용히  기업은 사람이 사람을 위해서 하...</td>\n",
              "      <td>오전 6:10</td>\n",
              "      <td></td>\n",
              "      <td>2019-12-31</td>\n",
              "    </tr>\n",
              "    <tr>\n",
              "      <th>26562</th>\n",
              "      <td>2019-12-31</td>\n",
              "      <td>순매수 상위 10개중 8개↑… 올해도 外人은 웃었다올해 주식시장에서도 외국인 투자자...</td>\n",
              "      <td>올해 주식시장에서도 외국인 투자자의 ‘독식’이 이어졌다. 기관투자자도 나쁘지 않은 ...</td>\n",
              "      <td>문화일보</td>\n",
              "      <td>순매수 상위 10개중 8개↑… 올해도 外人은 웃었다올해 주식시장에서도 외국인 투자자...</td>\n",
              "      <td>오후 1:51</td>\n",
              "      <td></td>\n",
              "      <td>2019-12-31</td>\n",
              "    </tr>\n",
              "    <tr>\n",
              "      <th>26569</th>\n",
              "      <td>2019-12-31</td>\n",
              "      <td>바이오가 일자리창출 효자…고용 증가율 제조업의 8배한국 경제가 저 低)성장 늪에 빠...</td>\n",
              "      <td>한국 경제가 저(低)성장 늪에 빠져 허우적대는 가운데 의약품 산업이 수출 견인과 국...</td>\n",
              "      <td>매일경제</td>\n",
              "      <td>바이오가 일자리창출 효자…고용 증가율 제조업의 8배한국 경제가 저 低)성장 늪에 빠...</td>\n",
              "      <td>오후 4:35</td>\n",
              "      <td>내일</td>\n",
              "      <td>2020-01-01</td>\n",
              "    </tr>\n",
              "  </tbody>\n",
              "</table>\n",
              "<p>26570 rows × 8 columns</p>\n",
              "</div>"
            ],
            "text/plain": [
              "            date  ...    new_date\n",
              "0     2017-01-01  ...  2017-01-02\n",
              "10    2017-01-01  ...  2017-01-02\n",
              "9     2017-01-01  ...  2017-01-01\n",
              "7     2017-01-01  ...  2017-01-01\n",
              "6     2017-01-01  ...  2017-01-01\n",
              "...          ...  ...         ...\n",
              "26560 2019-12-31  ...  2019-12-31\n",
              "26559 2019-12-31  ...  2019-12-31\n",
              "26558 2019-12-31  ...  2019-12-31\n",
              "26562 2019-12-31  ...  2019-12-31\n",
              "26569 2019-12-31  ...  2020-01-01\n",
              "\n",
              "[26570 rows x 8 columns]"
            ]
          },
          "metadata": {
            "tags": []
          },
          "execution_count": 140
        }
      ]
    },
    {
      "cell_type": "code",
      "metadata": {
        "id": "_wBTO1KlolNn"
      },
      "source": [
        "news = news[['new_date','title','text','media']]"
      ],
      "execution_count": null,
      "outputs": []
    },
    {
      "cell_type": "code",
      "metadata": {
        "id": "z4laNNFSoxsw"
      },
      "source": [
        "news.columns=['date','title','text','media']"
      ],
      "execution_count": null,
      "outputs": []
    },
    {
      "cell_type": "code",
      "metadata": {
        "colab": {
          "base_uri": "https://localhost:8080/"
        },
        "id": "PKH_DUSTo1dP",
        "outputId": "4cc55372-c7a3-4b9b-c1ee-202a73bf9c97"
      },
      "source": [
        "news['date'] = pd.to_datetime(news['date'])"
      ],
      "execution_count": null,
      "outputs": [
        {
          "output_type": "stream",
          "text": [
            "/usr/local/lib/python3.7/dist-packages/ipykernel_launcher.py:1: SettingWithCopyWarning: \n",
            "A value is trying to be set on a copy of a slice from a DataFrame.\n",
            "Try using .loc[row_indexer,col_indexer] = value instead\n",
            "\n",
            "See the caveats in the documentation: https://pandas.pydata.org/pandas-docs/stable/user_guide/indexing.html#returning-a-view-versus-a-copy\n",
            "  \"\"\"Entry point for launching an IPython kernel.\n"
          ],
          "name": "stderr"
        }
      ]
    },
    {
      "cell_type": "markdown",
      "metadata": {
        "id": "cJfPbuCTo4V3"
      },
      "source": [
        "### 휴장날 기사는 다음 주가에 반영"
      ]
    },
    {
      "cell_type": "code",
      "metadata": {
        "colab": {
          "base_uri": "https://localhost:8080/",
          "height": 419
        },
        "id": "G-1dyNoCo9kx",
        "outputId": "3e53bff0-728b-4474-fb96-f722a59c06f2"
      },
      "source": [
        "stock = pd.read_csv('/content/drive/MyDrive/DB_Finance/data/lg_chemical_stock.csv')\r\n",
        "stock"
      ],
      "execution_count": null,
      "outputs": [
        {
          "output_type": "execute_result",
          "data": {
            "text/html": [
              "<div>\n",
              "<style scoped>\n",
              "    .dataframe tbody tr th:only-of-type {\n",
              "        vertical-align: middle;\n",
              "    }\n",
              "\n",
              "    .dataframe tbody tr th {\n",
              "        vertical-align: top;\n",
              "    }\n",
              "\n",
              "    .dataframe thead th {\n",
              "        text-align: right;\n",
              "    }\n",
              "</style>\n",
              "<table border=\"1\" class=\"dataframe\">\n",
              "  <thead>\n",
              "    <tr style=\"text-align: right;\">\n",
              "      <th></th>\n",
              "      <th>date</th>\n",
              "      <th>price</th>\n",
              "      <th>volume</th>\n",
              "      <th>change</th>\n",
              "    </tr>\n",
              "  </thead>\n",
              "  <tbody>\n",
              "    <tr>\n",
              "      <th>0</th>\n",
              "      <td>2019-12-30</td>\n",
              "      <td>317500</td>\n",
              "      <td>168990</td>\n",
              "      <td>2.25</td>\n",
              "    </tr>\n",
              "    <tr>\n",
              "      <th>1</th>\n",
              "      <td>2019-12-27</td>\n",
              "      <td>310500</td>\n",
              "      <td>149622</td>\n",
              "      <td>0.81</td>\n",
              "    </tr>\n",
              "    <tr>\n",
              "      <th>2</th>\n",
              "      <td>2019-12-26</td>\n",
              "      <td>308000</td>\n",
              "      <td>166208</td>\n",
              "      <td>-1.44</td>\n",
              "    </tr>\n",
              "    <tr>\n",
              "      <th>3</th>\n",
              "      <td>2019-12-24</td>\n",
              "      <td>312500</td>\n",
              "      <td>224260</td>\n",
              "      <td>-0.16</td>\n",
              "    </tr>\n",
              "    <tr>\n",
              "      <th>4</th>\n",
              "      <td>2019-12-23</td>\n",
              "      <td>313000</td>\n",
              "      <td>121761</td>\n",
              "      <td>-0.48</td>\n",
              "    </tr>\n",
              "    <tr>\n",
              "      <th>...</th>\n",
              "      <td>...</td>\n",
              "      <td>...</td>\n",
              "      <td>...</td>\n",
              "      <td>...</td>\n",
              "    </tr>\n",
              "    <tr>\n",
              "      <th>728</th>\n",
              "      <td>2017-01-06</td>\n",
              "      <td>266000</td>\n",
              "      <td>84524</td>\n",
              "      <td>-0.56</td>\n",
              "    </tr>\n",
              "    <tr>\n",
              "      <th>729</th>\n",
              "      <td>2017-01-05</td>\n",
              "      <td>267500</td>\n",
              "      <td>148537</td>\n",
              "      <td>-0.37</td>\n",
              "    </tr>\n",
              "    <tr>\n",
              "      <th>730</th>\n",
              "      <td>2017-01-04</td>\n",
              "      <td>268500</td>\n",
              "      <td>255597</td>\n",
              "      <td>2.48</td>\n",
              "    </tr>\n",
              "    <tr>\n",
              "      <th>731</th>\n",
              "      <td>2017-01-03</td>\n",
              "      <td>262000</td>\n",
              "      <td>253540</td>\n",
              "      <td>3.56</td>\n",
              "    </tr>\n",
              "    <tr>\n",
              "      <th>732</th>\n",
              "      <td>2017-01-02</td>\n",
              "      <td>253000</td>\n",
              "      <td>294947</td>\n",
              "      <td>-3.07</td>\n",
              "    </tr>\n",
              "  </tbody>\n",
              "</table>\n",
              "<p>733 rows × 4 columns</p>\n",
              "</div>"
            ],
            "text/plain": [
              "           date   price  volume  change\n",
              "0    2019-12-30  317500  168990    2.25\n",
              "1    2019-12-27  310500  149622    0.81\n",
              "2    2019-12-26  308000  166208   -1.44\n",
              "3    2019-12-24  312500  224260   -0.16\n",
              "4    2019-12-23  313000  121761   -0.48\n",
              "..          ...     ...     ...     ...\n",
              "728  2017-01-06  266000   84524   -0.56\n",
              "729  2017-01-05  267500  148537   -0.37\n",
              "730  2017-01-04  268500  255597    2.48\n",
              "731  2017-01-03  262000  253540    3.56\n",
              "732  2017-01-02  253000  294947   -3.07\n",
              "\n",
              "[733 rows x 4 columns]"
            ]
          },
          "metadata": {
            "tags": []
          },
          "execution_count": 144
        }
      ]
    },
    {
      "cell_type": "code",
      "metadata": {
        "id": "UvrJVOPlpBKG"
      },
      "source": [
        "stock['date'] = pd.to_datetime(stock['date'])"
      ],
      "execution_count": null,
      "outputs": []
    },
    {
      "cell_type": "code",
      "metadata": {
        "id": "WMu7-YB6pJy9"
      },
      "source": [
        "news_stock = pd.merge(news,stock, how='outer',on='date')"
      ],
      "execution_count": null,
      "outputs": []
    },
    {
      "cell_type": "code",
      "metadata": {
        "colab": {
          "base_uri": "https://localhost:8080/",
          "height": 419
        },
        "id": "nnZR8qbxpOuV",
        "outputId": "ef11a1c1-03e5-4b33-ed13-ceb15a6cfc2e"
      },
      "source": [
        "news_stock"
      ],
      "execution_count": null,
      "outputs": [
        {
          "output_type": "execute_result",
          "data": {
            "text/html": [
              "<div>\n",
              "<style scoped>\n",
              "    .dataframe tbody tr th:only-of-type {\n",
              "        vertical-align: middle;\n",
              "    }\n",
              "\n",
              "    .dataframe tbody tr th {\n",
              "        vertical-align: top;\n",
              "    }\n",
              "\n",
              "    .dataframe thead th {\n",
              "        text-align: right;\n",
              "    }\n",
              "</style>\n",
              "<table border=\"1\" class=\"dataframe\">\n",
              "  <thead>\n",
              "    <tr style=\"text-align: right;\">\n",
              "      <th></th>\n",
              "      <th>date</th>\n",
              "      <th>title</th>\n",
              "      <th>text</th>\n",
              "      <th>media</th>\n",
              "      <th>price</th>\n",
              "      <th>volume</th>\n",
              "      <th>change</th>\n",
              "    </tr>\n",
              "  </thead>\n",
              "  <tbody>\n",
              "    <tr>\n",
              "      <th>0</th>\n",
              "      <td>2017-01-02</td>\n",
              "      <td>中, 한국산 배터리 탑재차 보조금 제외…LG화학·삼성SDI '날벼락' 중국 정부가 ...</td>\n",
              "      <td>中, 한국산 배터리 탑재차 보조금 제외…LG화학·삼성SDI '날벼락' 중국 정부가 ...</td>\n",
              "      <td>뉴스1</td>\n",
              "      <td>253000.0</td>\n",
              "      <td>294947.0</td>\n",
              "      <td>-3.07</td>\n",
              "    </tr>\n",
              "    <tr>\n",
              "      <th>1</th>\n",
              "      <td>2017-01-02</td>\n",
              "      <td>핫이슈  정유년 그룹별 경영 키워드는··· 삼성 '지주사 전환' 현대차는 '820...</td>\n",
              "      <td>핫이슈  정유년 그룹별 경영 키워드는··· 삼성 '지주사 전환' 현대차는 '820...</td>\n",
              "      <td>서울경제</td>\n",
              "      <td>253000.0</td>\n",
              "      <td>294947.0</td>\n",
              "      <td>-3.07</td>\n",
              "    </tr>\n",
              "    <tr>\n",
              "      <th>2</th>\n",
              "      <td>2017-01-02</td>\n",
              "      <td>리더십 4.0시대-경제  4차 산업혁명 하면 '팀 쿡' 떠올려...국내CEO 오픈...</td>\n",
              "      <td>리더십 4.0시대-경제  4차 산업혁명 하면 '팀 쿡' 떠올려...국내CEO 오픈...</td>\n",
              "      <td>서울경제</td>\n",
              "      <td>253000.0</td>\n",
              "      <td>294947.0</td>\n",
              "      <td>-3.07</td>\n",
              "    </tr>\n",
              "    <tr>\n",
              "      <th>3</th>\n",
              "      <td>2017-01-02</td>\n",
              "      <td>코스피 '톱10' 격변… 네이버·SK하이닉스↑, 아모레·LG화학↓지난 한 해 유가증...</td>\n",
              "      <td>코스피 '톱10' 격변… 네이버·SK하이닉스↑, 아모레·LG화학↓지난 한 해 유가증...</td>\n",
              "      <td>노컷뉴스</td>\n",
              "      <td>253000.0</td>\n",
              "      <td>294947.0</td>\n",
              "      <td>-3.07</td>\n",
              "    </tr>\n",
              "    <tr>\n",
              "      <th>4</th>\n",
              "      <td>2017-01-02</td>\n",
              "      <td>대창모터스, 美에 실버용 저속 전기차 첫 수출동차가 미국 시장에 수출된다. 미국 내...</td>\n",
              "      <td>대창모터스, 美에 실버용 저속 전기차 첫 수출동차가 미국 시장에 수출된다. 미국 내...</td>\n",
              "      <td>전자신문</td>\n",
              "      <td>253000.0</td>\n",
              "      <td>294947.0</td>\n",
              "      <td>-3.07</td>\n",
              "    </tr>\n",
              "    <tr>\n",
              "      <th>...</th>\n",
              "      <td>...</td>\n",
              "      <td>...</td>\n",
              "      <td>...</td>\n",
              "      <td>...</td>\n",
              "      <td>...</td>\n",
              "      <td>...</td>\n",
              "      <td>...</td>\n",
              "    </tr>\n",
              "    <tr>\n",
              "      <th>26565</th>\n",
              "      <td>2019-12-31</td>\n",
              "      <td>대우건설·금호타이어 등 '안전불감' 기업 1420곳 공개 올해 중대·사망재해가 일어...</td>\n",
              "      <td>대우건설·금호타이어 등 '안전불감' 기업 1420곳 공개 올해 중대·사망재해가 일어...</td>\n",
              "      <td>뉴스1</td>\n",
              "      <td>NaN</td>\n",
              "      <td>NaN</td>\n",
              "      <td>NaN</td>\n",
              "    </tr>\n",
              "    <tr>\n",
              "      <th>26566</th>\n",
              "      <td>2019-12-31</td>\n",
              "      <td>구인회 LG 창업주 50주기…공식행사 없이 조용히  기업은 사람이 사람을 위해서 하...</td>\n",
              "      <td>구인회 LG 창업주 50주기…공식행사 없이 조용히  기업은 사람이 사람을 위해서 하...</td>\n",
              "      <td>뉴스1</td>\n",
              "      <td>NaN</td>\n",
              "      <td>NaN</td>\n",
              "      <td>NaN</td>\n",
              "    </tr>\n",
              "    <tr>\n",
              "      <th>26567</th>\n",
              "      <td>2019-12-31</td>\n",
              "      <td>순매수 상위 10개중 8개↑… 올해도 外人은 웃었다올해 주식시장에서도 외국인 투자자...</td>\n",
              "      <td>순매수 상위 10개중 8개↑… 올해도 外人은 웃었다올해 주식시장에서도 외국인 투자자...</td>\n",
              "      <td>문화일보</td>\n",
              "      <td>NaN</td>\n",
              "      <td>NaN</td>\n",
              "      <td>NaN</td>\n",
              "    </tr>\n",
              "    <tr>\n",
              "      <th>26568</th>\n",
              "      <td>2020-01-01</td>\n",
              "      <td>2019년 서울 전셋값 상승률 1위는… '강서구' 정부의 강도 높은 부동산대책에 서...</td>\n",
              "      <td>2019년 서울 전셋값 상승률 1위는… '강서구' 정부의 강도 높은 부동산대책에 서...</td>\n",
              "      <td>이데일리</td>\n",
              "      <td>NaN</td>\n",
              "      <td>NaN</td>\n",
              "      <td>NaN</td>\n",
              "    </tr>\n",
              "    <tr>\n",
              "      <th>26569</th>\n",
              "      <td>2020-01-01</td>\n",
              "      <td>바이오가 일자리창출 효자…고용 증가율 제조업의 8배한국 경제가 저 低)성장 늪에 빠...</td>\n",
              "      <td>바이오가 일자리창출 효자…고용 증가율 제조업의 8배한국 경제가 저 低)성장 늪에 빠...</td>\n",
              "      <td>매일경제</td>\n",
              "      <td>NaN</td>\n",
              "      <td>NaN</td>\n",
              "      <td>NaN</td>\n",
              "    </tr>\n",
              "  </tbody>\n",
              "</table>\n",
              "<p>26570 rows × 7 columns</p>\n",
              "</div>"
            ],
            "text/plain": [
              "            date  ... change\n",
              "0     2017-01-02  ...  -3.07\n",
              "1     2017-01-02  ...  -3.07\n",
              "2     2017-01-02  ...  -3.07\n",
              "3     2017-01-02  ...  -3.07\n",
              "4     2017-01-02  ...  -3.07\n",
              "...          ...  ...    ...\n",
              "26565 2019-12-31  ...    NaN\n",
              "26566 2019-12-31  ...    NaN\n",
              "26567 2019-12-31  ...    NaN\n",
              "26568 2020-01-01  ...    NaN\n",
              "26569 2020-01-01  ...    NaN\n",
              "\n",
              "[26570 rows x 7 columns]"
            ]
          },
          "metadata": {
            "tags": []
          },
          "execution_count": 147
        }
      ]
    },
    {
      "cell_type": "code",
      "metadata": {
        "colab": {
          "base_uri": "https://localhost:8080/"
        },
        "id": "JDwBisrerOjI",
        "outputId": "38bd312d-90f5-41de-df10-20c2cd7099ce"
      },
      "source": [
        "from math import isnan\r\n",
        "for i in range(len(news_stock)):\r\n",
        "    if isnan(news_stock['price'][i]):\r\n",
        "        for j in range(i+1,len(news_stock)):\r\n",
        "            if isnan(news_stock['price'][j]):\r\n",
        "                continue\r\n",
        "            else:\r\n",
        "                news_stock['price'][i]=news_stock['price'][j]\r\n",
        "                news_stock['volume'][i]=news_stock['volume'][j]\r\n",
        "                news_stock['change'][i]=news_stock['change'][j]\r\n",
        "                news_stock['date'][i]=news_stock['date'][j]\r\n",
        "                break"
      ],
      "execution_count": null,
      "outputs": [
        {
          "output_type": "stream",
          "text": [
            "/usr/local/lib/python3.7/dist-packages/ipykernel_launcher.py:8: SettingWithCopyWarning: \n",
            "A value is trying to be set on a copy of a slice from a DataFrame\n",
            "\n",
            "See the caveats in the documentation: https://pandas.pydata.org/pandas-docs/stable/user_guide/indexing.html#returning-a-view-versus-a-copy\n",
            "  \n",
            "/usr/local/lib/python3.7/dist-packages/ipykernel_launcher.py:9: SettingWithCopyWarning: \n",
            "A value is trying to be set on a copy of a slice from a DataFrame\n",
            "\n",
            "See the caveats in the documentation: https://pandas.pydata.org/pandas-docs/stable/user_guide/indexing.html#returning-a-view-versus-a-copy\n",
            "  if __name__ == '__main__':\n",
            "/usr/local/lib/python3.7/dist-packages/ipykernel_launcher.py:10: SettingWithCopyWarning: \n",
            "A value is trying to be set on a copy of a slice from a DataFrame\n",
            "\n",
            "See the caveats in the documentation: https://pandas.pydata.org/pandas-docs/stable/user_guide/indexing.html#returning-a-view-versus-a-copy\n",
            "  # Remove the CWD from sys.path while we load stuff.\n",
            "/usr/local/lib/python3.7/dist-packages/ipykernel_launcher.py:11: SettingWithCopyWarning: \n",
            "A value is trying to be set on a copy of a slice from a DataFrame\n",
            "\n",
            "See the caveats in the documentation: https://pandas.pydata.org/pandas-docs/stable/user_guide/indexing.html#returning-a-view-versus-a-copy\n",
            "  # This is added back by InteractiveShellApp.init_path()\n"
          ],
          "name": "stderr"
        }
      ]
    },
    {
      "cell_type": "code",
      "metadata": {
        "id": "kfagKqE0rVlx"
      },
      "source": [
        "news_stock.dropna(inplace=True)"
      ],
      "execution_count": null,
      "outputs": []
    },
    {
      "cell_type": "code",
      "metadata": {
        "id": "JzH7Q-8prYXj"
      },
      "source": [
        "news_stock.reset_index(drop=True,inplace=True)"
      ],
      "execution_count": null,
      "outputs": []
    },
    {
      "cell_type": "code",
      "metadata": {
        "colab": {
          "base_uri": "https://localhost:8080/",
          "height": 419
        },
        "id": "FNW1REPVrcJO",
        "outputId": "9d296ce9-e4da-4851-c0a0-eef2a5014c3b"
      },
      "source": [
        "news_stock"
      ],
      "execution_count": null,
      "outputs": [
        {
          "output_type": "execute_result",
          "data": {
            "text/html": [
              "<div>\n",
              "<style scoped>\n",
              "    .dataframe tbody tr th:only-of-type {\n",
              "        vertical-align: middle;\n",
              "    }\n",
              "\n",
              "    .dataframe tbody tr th {\n",
              "        vertical-align: top;\n",
              "    }\n",
              "\n",
              "    .dataframe thead th {\n",
              "        text-align: right;\n",
              "    }\n",
              "</style>\n",
              "<table border=\"1\" class=\"dataframe\">\n",
              "  <thead>\n",
              "    <tr style=\"text-align: right;\">\n",
              "      <th></th>\n",
              "      <th>date</th>\n",
              "      <th>title</th>\n",
              "      <th>text</th>\n",
              "      <th>media</th>\n",
              "      <th>price</th>\n",
              "      <th>volume</th>\n",
              "      <th>change</th>\n",
              "    </tr>\n",
              "  </thead>\n",
              "  <tbody>\n",
              "    <tr>\n",
              "      <th>0</th>\n",
              "      <td>2017-01-02</td>\n",
              "      <td>中, 한국산 배터리 탑재차 보조금 제외…LG화학·삼성SDI '날벼락' 중국 정부가 ...</td>\n",
              "      <td>中, 한국산 배터리 탑재차 보조금 제외…LG화학·삼성SDI '날벼락' 중국 정부가 ...</td>\n",
              "      <td>뉴스1</td>\n",
              "      <td>253000.0</td>\n",
              "      <td>294947.0</td>\n",
              "      <td>-3.07</td>\n",
              "    </tr>\n",
              "    <tr>\n",
              "      <th>1</th>\n",
              "      <td>2017-01-02</td>\n",
              "      <td>핫이슈  정유년 그룹별 경영 키워드는··· 삼성 '지주사 전환' 현대차는 '820...</td>\n",
              "      <td>핫이슈  정유년 그룹별 경영 키워드는··· 삼성 '지주사 전환' 현대차는 '820...</td>\n",
              "      <td>서울경제</td>\n",
              "      <td>253000.0</td>\n",
              "      <td>294947.0</td>\n",
              "      <td>-3.07</td>\n",
              "    </tr>\n",
              "    <tr>\n",
              "      <th>2</th>\n",
              "      <td>2017-01-02</td>\n",
              "      <td>리더십 4.0시대-경제  4차 산업혁명 하면 '팀 쿡' 떠올려...국내CEO 오픈...</td>\n",
              "      <td>리더십 4.0시대-경제  4차 산업혁명 하면 '팀 쿡' 떠올려...국내CEO 오픈...</td>\n",
              "      <td>서울경제</td>\n",
              "      <td>253000.0</td>\n",
              "      <td>294947.0</td>\n",
              "      <td>-3.07</td>\n",
              "    </tr>\n",
              "    <tr>\n",
              "      <th>3</th>\n",
              "      <td>2017-01-02</td>\n",
              "      <td>코스피 '톱10' 격변… 네이버·SK하이닉스↑, 아모레·LG화학↓지난 한 해 유가증...</td>\n",
              "      <td>코스피 '톱10' 격변… 네이버·SK하이닉스↑, 아모레·LG화학↓지난 한 해 유가증...</td>\n",
              "      <td>노컷뉴스</td>\n",
              "      <td>253000.0</td>\n",
              "      <td>294947.0</td>\n",
              "      <td>-3.07</td>\n",
              "    </tr>\n",
              "    <tr>\n",
              "      <th>4</th>\n",
              "      <td>2017-01-02</td>\n",
              "      <td>대창모터스, 美에 실버용 저속 전기차 첫 수출동차가 미국 시장에 수출된다. 미국 내...</td>\n",
              "      <td>대창모터스, 美에 실버용 저속 전기차 첫 수출동차가 미국 시장에 수출된다. 미국 내...</td>\n",
              "      <td>전자신문</td>\n",
              "      <td>253000.0</td>\n",
              "      <td>294947.0</td>\n",
              "      <td>-3.07</td>\n",
              "    </tr>\n",
              "    <tr>\n",
              "      <th>...</th>\n",
              "      <td>...</td>\n",
              "      <td>...</td>\n",
              "      <td>...</td>\n",
              "      <td>...</td>\n",
              "      <td>...</td>\n",
              "      <td>...</td>\n",
              "      <td>...</td>\n",
              "    </tr>\n",
              "    <tr>\n",
              "      <th>26536</th>\n",
              "      <td>2019-12-30</td>\n",
              "      <td>코스피, 거래 마지막날 수급 약해져..보합권 등락 코스피 지수가 보합권에서 등락하고...</td>\n",
              "      <td>코스피, 거래 마지막날 수급 약해져..보합권 등락 코스피 지수가 보합권에서 등락하고...</td>\n",
              "      <td>이데일리</td>\n",
              "      <td>317500.0</td>\n",
              "      <td>168990.0</td>\n",
              "      <td>2.25</td>\n",
              "    </tr>\n",
              "    <tr>\n",
              "      <th>26537</th>\n",
              "      <td>2019-12-30</td>\n",
              "      <td>외국계 순매수 금액 상위 20선 - 코스피오전 09시 31분 현재 코스피 시장에서 ...</td>\n",
              "      <td>외국계 순매수 금액 상위 20선 - 코스피오전 09시 31분 현재 코스피 시장에서 ...</td>\n",
              "      <td>조선비즈</td>\n",
              "      <td>317500.0</td>\n",
              "      <td>168990.0</td>\n",
              "      <td>2.25</td>\n",
              "    </tr>\n",
              "    <tr>\n",
              "      <th>26538</th>\n",
              "      <td>2019-12-30</td>\n",
              "      <td>굿바이2019 '도련님→회장님'…재계는 세대교체 중 올해는 유난히 한국 경제의 기...</td>\n",
              "      <td>굿바이2019 '도련님→회장님'…재계는 세대교체 중 올해는 유난히 한국 경제의 기...</td>\n",
              "      <td>이데일리</td>\n",
              "      <td>317500.0</td>\n",
              "      <td>168990.0</td>\n",
              "      <td>2.25</td>\n",
              "    </tr>\n",
              "    <tr>\n",
              "      <th>26539</th>\n",
              "      <td>2019-12-30</td>\n",
              "      <td>'中 배터리 1위' CATL, 시가총액 38조원 돌파세계 최대 배터리 제조사인 중국...</td>\n",
              "      <td>'中 배터리 1위' CATL, 시가총액 38조원 돌파세계 최대 배터리 제조사인 중국...</td>\n",
              "      <td>전자신문</td>\n",
              "      <td>317500.0</td>\n",
              "      <td>168990.0</td>\n",
              "      <td>2.25</td>\n",
              "    </tr>\n",
              "    <tr>\n",
              "      <th>26540</th>\n",
              "      <td>2019-12-30</td>\n",
              "      <td>오전시황  마지막 거래일 코스피 2,200선에서 등락 올해 마지막 거래일인 30일...</td>\n",
              "      <td>오전시황  마지막 거래일 코스피 2,200선에서 등락 올해 마지막 거래일인 30일...</td>\n",
              "      <td>서울경제</td>\n",
              "      <td>317500.0</td>\n",
              "      <td>168990.0</td>\n",
              "      <td>2.25</td>\n",
              "    </tr>\n",
              "  </tbody>\n",
              "</table>\n",
              "<p>26541 rows × 7 columns</p>\n",
              "</div>"
            ],
            "text/plain": [
              "            date  ... change\n",
              "0     2017-01-02  ...  -3.07\n",
              "1     2017-01-02  ...  -3.07\n",
              "2     2017-01-02  ...  -3.07\n",
              "3     2017-01-02  ...  -3.07\n",
              "4     2017-01-02  ...  -3.07\n",
              "...          ...  ...    ...\n",
              "26536 2019-12-30  ...   2.25\n",
              "26537 2019-12-30  ...   2.25\n",
              "26538 2019-12-30  ...   2.25\n",
              "26539 2019-12-30  ...   2.25\n",
              "26540 2019-12-30  ...   2.25\n",
              "\n",
              "[26541 rows x 7 columns]"
            ]
          },
          "metadata": {
            "tags": []
          },
          "execution_count": 151
        }
      ]
    },
    {
      "cell_type": "code",
      "metadata": {
        "id": "q5h208LLsBSh"
      },
      "source": [
        "news_stock.to_csv('/content/drive/MyDrive/DB_Finance/data/lg_chemical.csv', index=False)"
      ],
      "execution_count": null,
      "outputs": []
    }
  ]
}