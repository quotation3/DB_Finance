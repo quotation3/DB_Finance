{
  "nbformat": 4,
  "nbformat_minor": 0,
  "metadata": {
    "colab": {
      "name": "4.피크변화량_뉴스_추출.ipynb",
      "provenance": [],
      "collapsed_sections": [],
      "include_colab_link": true
    },
    "kernelspec": {
      "name": "python3",
      "display_name": "Python 3"
    }
  },
  "cells": [
    {
      "cell_type": "markdown",
      "metadata": {
        "id": "view-in-github",
        "colab_type": "text"
      },
      "source": [
        "<a href=\"https://colab.research.google.com/github/quotation3/DB_Finance/blob/main/Data_Preprocessing/4_%ED%94%BC%ED%81%AC%EB%B3%80%ED%99%94%EB%9F%89_%EB%89%B4%EC%8A%A4_%EC%B6%94%EC%B6%9C.ipynb\" target=\"_parent\"><img src=\"https://colab.research.google.com/assets/colab-badge.svg\" alt=\"Open In Colab\"/></a>"
      ]
    },
    {
      "cell_type": "markdown",
      "metadata": {
        "id": "M-eER2FElVQC"
      },
      "source": [
        "### ±2 이상인 날짜만 추출"
      ]
    },
    {
      "cell_type": "code",
      "metadata": {
        "colab": {
          "base_uri": "https://localhost:8080/"
        },
        "id": "Sqi5-rEmJhm5",
        "outputId": "8b575093-aacf-4459-dbfd-df712a7c082d"
      },
      "source": [
        "from google.colab import drive\n",
        "drive.mount('/content/drive')"
      ],
      "execution_count": null,
      "outputs": [
        {
          "output_type": "stream",
          "text": [
            "Mounted at /content/drive\n"
          ],
          "name": "stdout"
        }
      ]
    },
    {
      "cell_type": "code",
      "metadata": {
        "id": "O6s-f4NGqejz"
      },
      "source": [
        "import pandas as pd\r\n",
        "from datetime import datetime, timedelta"
      ],
      "execution_count": null,
      "outputs": []
    },
    {
      "cell_type": "code",
      "metadata": {
        "id": "KYVhQueGoOfJ",
        "colab": {
          "base_uri": "https://localhost:8080/",
          "height": 402
        },
        "outputId": "e7880ae6-4a27-416c-c153-6d9950443af1"
      },
      "source": [
        "stock = pd.read_csv('/content/drive/MyDrive/DB_Finance/data/lg_chemical_stock.csv')\r\n",
        "stock"
      ],
      "execution_count": null,
      "outputs": [
        {
          "output_type": "execute_result",
          "data": {
            "text/html": [
              "<div>\n",
              "<style scoped>\n",
              "    .dataframe tbody tr th:only-of-type {\n",
              "        vertical-align: middle;\n",
              "    }\n",
              "\n",
              "    .dataframe tbody tr th {\n",
              "        vertical-align: top;\n",
              "    }\n",
              "\n",
              "    .dataframe thead th {\n",
              "        text-align: right;\n",
              "    }\n",
              "</style>\n",
              "<table border=\"1\" class=\"dataframe\">\n",
              "  <thead>\n",
              "    <tr style=\"text-align: right;\">\n",
              "      <th></th>\n",
              "      <th>date</th>\n",
              "      <th>price</th>\n",
              "      <th>volume</th>\n",
              "      <th>change</th>\n",
              "    </tr>\n",
              "  </thead>\n",
              "  <tbody>\n",
              "    <tr>\n",
              "      <th>0</th>\n",
              "      <td>2019-12-30</td>\n",
              "      <td>317500</td>\n",
              "      <td>168990</td>\n",
              "      <td>2.25</td>\n",
              "    </tr>\n",
              "    <tr>\n",
              "      <th>1</th>\n",
              "      <td>2019-12-27</td>\n",
              "      <td>310500</td>\n",
              "      <td>149622</td>\n",
              "      <td>0.81</td>\n",
              "    </tr>\n",
              "    <tr>\n",
              "      <th>2</th>\n",
              "      <td>2019-12-26</td>\n",
              "      <td>308000</td>\n",
              "      <td>166208</td>\n",
              "      <td>-1.44</td>\n",
              "    </tr>\n",
              "    <tr>\n",
              "      <th>3</th>\n",
              "      <td>2019-12-24</td>\n",
              "      <td>312500</td>\n",
              "      <td>224260</td>\n",
              "      <td>-0.16</td>\n",
              "    </tr>\n",
              "    <tr>\n",
              "      <th>4</th>\n",
              "      <td>2019-12-23</td>\n",
              "      <td>313000</td>\n",
              "      <td>121761</td>\n",
              "      <td>-0.48</td>\n",
              "    </tr>\n",
              "    <tr>\n",
              "      <th>...</th>\n",
              "      <td>...</td>\n",
              "      <td>...</td>\n",
              "      <td>...</td>\n",
              "      <td>...</td>\n",
              "    </tr>\n",
              "    <tr>\n",
              "      <th>728</th>\n",
              "      <td>2017-01-06</td>\n",
              "      <td>266000</td>\n",
              "      <td>84524</td>\n",
              "      <td>-0.56</td>\n",
              "    </tr>\n",
              "    <tr>\n",
              "      <th>729</th>\n",
              "      <td>2017-01-05</td>\n",
              "      <td>267500</td>\n",
              "      <td>148537</td>\n",
              "      <td>-0.37</td>\n",
              "    </tr>\n",
              "    <tr>\n",
              "      <th>730</th>\n",
              "      <td>2017-01-04</td>\n",
              "      <td>268500</td>\n",
              "      <td>255597</td>\n",
              "      <td>2.48</td>\n",
              "    </tr>\n",
              "    <tr>\n",
              "      <th>731</th>\n",
              "      <td>2017-01-03</td>\n",
              "      <td>262000</td>\n",
              "      <td>253540</td>\n",
              "      <td>3.56</td>\n",
              "    </tr>\n",
              "    <tr>\n",
              "      <th>732</th>\n",
              "      <td>2017-01-02</td>\n",
              "      <td>253000</td>\n",
              "      <td>294947</td>\n",
              "      <td>-3.07</td>\n",
              "    </tr>\n",
              "  </tbody>\n",
              "</table>\n",
              "<p>733 rows × 4 columns</p>\n",
              "</div>"
            ],
            "text/plain": [
              "           date   price  volume  change\n",
              "0    2019-12-30  317500  168990    2.25\n",
              "1    2019-12-27  310500  149622    0.81\n",
              "2    2019-12-26  308000  166208   -1.44\n",
              "3    2019-12-24  312500  224260   -0.16\n",
              "4    2019-12-23  313000  121761   -0.48\n",
              "..          ...     ...     ...     ...\n",
              "728  2017-01-06  266000   84524   -0.56\n",
              "729  2017-01-05  267500  148537   -0.37\n",
              "730  2017-01-04  268500  255597    2.48\n",
              "731  2017-01-03  262000  253540    3.56\n",
              "732  2017-01-02  253000  294947   -3.07\n",
              "\n",
              "[733 rows x 4 columns]"
            ]
          },
          "metadata": {
            "tags": []
          },
          "execution_count": 4
        }
      ]
    },
    {
      "cell_type": "code",
      "metadata": {
        "id": "TgprBBCTEN4o"
      },
      "source": [
        "stock = stock[(stock['change']>=2)|(stock['change']<=-2)]"
      ],
      "execution_count": null,
      "outputs": []
    },
    {
      "cell_type": "code",
      "metadata": {
        "colab": {
          "base_uri": "https://localhost:8080/"
        },
        "id": "7nD3iWQvaklE",
        "outputId": "e284bd16-49fb-4a36-f3e4-dc7bc38c2a60"
      },
      "source": [
        "stock.dtypes"
      ],
      "execution_count": null,
      "outputs": [
        {
          "output_type": "execute_result",
          "data": {
            "text/plain": [
              "date       object\n",
              "price       int64\n",
              "volume      int64\n",
              "change    float64\n",
              "dtype: object"
            ]
          },
          "metadata": {
            "tags": []
          },
          "execution_count": 6
        }
      ]
    },
    {
      "cell_type": "code",
      "metadata": {
        "id": "TIaWzWQEb3k0",
        "colab": {
          "base_uri": "https://localhost:8080/"
        },
        "outputId": "84227d27-0260-4463-c247-850f52d15ebc"
      },
      "source": [
        "stock['date'] = pd.to_datetime(stock['date'])"
      ],
      "execution_count": null,
      "outputs": [
        {
          "output_type": "stream",
          "text": [
            "/usr/local/lib/python3.7/dist-packages/ipykernel_launcher.py:1: SettingWithCopyWarning: \n",
            "A value is trying to be set on a copy of a slice from a DataFrame.\n",
            "Try using .loc[row_indexer,col_indexer] = value instead\n",
            "\n",
            "See the caveats in the documentation: https://pandas.pydata.org/pandas-docs/stable/user_guide/indexing.html#returning-a-view-versus-a-copy\n",
            "  \"\"\"Entry point for launching an IPython kernel.\n"
          ],
          "name": "stderr"
        }
      ]
    },
    {
      "cell_type": "code",
      "metadata": {
        "colab": {
          "base_uri": "https://localhost:8080/"
        },
        "id": "Ohu2XsMXcV68",
        "outputId": "4f959faf-2ee7-4673-c894-a8aa76e3a3ba"
      },
      "source": [
        "stock.dtypes"
      ],
      "execution_count": null,
      "outputs": [
        {
          "output_type": "execute_result",
          "data": {
            "text/plain": [
              "date      datetime64[ns]\n",
              "price              int64\n",
              "volume             int64\n",
              "change           float64\n",
              "dtype: object"
            ]
          },
          "metadata": {
            "tags": []
          },
          "execution_count": 8
        }
      ]
    },
    {
      "cell_type": "code",
      "metadata": {
        "id": "OnywYU2eJOa4"
      },
      "source": [
        "stock = stock.sort_values(by=\"date\")\r\n",
        "stock.reset_index(drop=True,inplace=True)"
      ],
      "execution_count": null,
      "outputs": []
    },
    {
      "cell_type": "code",
      "metadata": {
        "colab": {
          "base_uri": "https://localhost:8080/",
          "height": 402
        },
        "id": "uSnq89pbJU9n",
        "outputId": "31a1c6b2-fee3-43fb-edf4-fae29e2a4b02"
      },
      "source": [
        "stock"
      ],
      "execution_count": null,
      "outputs": [
        {
          "output_type": "execute_result",
          "data": {
            "text/html": [
              "<div>\n",
              "<style scoped>\n",
              "    .dataframe tbody tr th:only-of-type {\n",
              "        vertical-align: middle;\n",
              "    }\n",
              "\n",
              "    .dataframe tbody tr th {\n",
              "        vertical-align: top;\n",
              "    }\n",
              "\n",
              "    .dataframe thead th {\n",
              "        text-align: right;\n",
              "    }\n",
              "</style>\n",
              "<table border=\"1\" class=\"dataframe\">\n",
              "  <thead>\n",
              "    <tr style=\"text-align: right;\">\n",
              "      <th></th>\n",
              "      <th>date</th>\n",
              "      <th>price</th>\n",
              "      <th>volume</th>\n",
              "      <th>change</th>\n",
              "    </tr>\n",
              "  </thead>\n",
              "  <tbody>\n",
              "    <tr>\n",
              "      <th>0</th>\n",
              "      <td>2017-01-02</td>\n",
              "      <td>253000</td>\n",
              "      <td>294947</td>\n",
              "      <td>-3.07</td>\n",
              "    </tr>\n",
              "    <tr>\n",
              "      <th>1</th>\n",
              "      <td>2017-01-03</td>\n",
              "      <td>262000</td>\n",
              "      <td>253540</td>\n",
              "      <td>3.56</td>\n",
              "    </tr>\n",
              "    <tr>\n",
              "      <th>2</th>\n",
              "      <td>2017-01-04</td>\n",
              "      <td>268500</td>\n",
              "      <td>255597</td>\n",
              "      <td>2.48</td>\n",
              "    </tr>\n",
              "    <tr>\n",
              "      <th>3</th>\n",
              "      <td>2017-01-11</td>\n",
              "      <td>280000</td>\n",
              "      <td>559100</td>\n",
              "      <td>4.67</td>\n",
              "    </tr>\n",
              "    <tr>\n",
              "      <th>4</th>\n",
              "      <td>2017-01-18</td>\n",
              "      <td>271500</td>\n",
              "      <td>305022</td>\n",
              "      <td>-2.51</td>\n",
              "    </tr>\n",
              "    <tr>\n",
              "      <th>...</th>\n",
              "      <td>...</td>\n",
              "      <td>...</td>\n",
              "      <td>...</td>\n",
              "      <td>...</td>\n",
              "    </tr>\n",
              "    <tr>\n",
              "      <th>169</th>\n",
              "      <td>2019-11-08</td>\n",
              "      <td>323000</td>\n",
              "      <td>173853</td>\n",
              "      <td>2.05</td>\n",
              "    </tr>\n",
              "    <tr>\n",
              "      <th>170</th>\n",
              "      <td>2019-11-20</td>\n",
              "      <td>309500</td>\n",
              "      <td>188995</td>\n",
              "      <td>-2.52</td>\n",
              "    </tr>\n",
              "    <tr>\n",
              "      <th>171</th>\n",
              "      <td>2019-11-25</td>\n",
              "      <td>308500</td>\n",
              "      <td>300005</td>\n",
              "      <td>2.49</td>\n",
              "    </tr>\n",
              "    <tr>\n",
              "      <th>172</th>\n",
              "      <td>2019-12-04</td>\n",
              "      <td>296500</td>\n",
              "      <td>316394</td>\n",
              "      <td>-4.20</td>\n",
              "    </tr>\n",
              "    <tr>\n",
              "      <th>173</th>\n",
              "      <td>2019-12-30</td>\n",
              "      <td>317500</td>\n",
              "      <td>168990</td>\n",
              "      <td>2.25</td>\n",
              "    </tr>\n",
              "  </tbody>\n",
              "</table>\n",
              "<p>174 rows × 4 columns</p>\n",
              "</div>"
            ],
            "text/plain": [
              "          date   price  volume  change\n",
              "0   2017-01-02  253000  294947   -3.07\n",
              "1   2017-01-03  262000  253540    3.56\n",
              "2   2017-01-04  268500  255597    2.48\n",
              "3   2017-01-11  280000  559100    4.67\n",
              "4   2017-01-18  271500  305022   -2.51\n",
              "..         ...     ...     ...     ...\n",
              "169 2019-11-08  323000  173853    2.05\n",
              "170 2019-11-20  309500  188995   -2.52\n",
              "171 2019-11-25  308500  300005    2.49\n",
              "172 2019-12-04  296500  316394   -4.20\n",
              "173 2019-12-30  317500  168990    2.25\n",
              "\n",
              "[174 rows x 4 columns]"
            ]
          },
          "metadata": {
            "tags": []
          },
          "execution_count": 10
        }
      ]
    },
    {
      "cell_type": "markdown",
      "metadata": {
        "id": "6pyNjXJjowUl"
      },
      "source": [
        "### 15시 이후 기사는 내일 주가에 반영"
      ]
    },
    {
      "cell_type": "code",
      "metadata": {
        "id": "1AVxRiMujVHY"
      },
      "source": [
        "news_2019 = pd.read_json('/content/drive/MyDrive/DB_Finance/data/lg_chemical.json')\r\n",
        "news_2018 = pd.read_json('/content/drive/MyDrive/DB_Finance/data/lg_chemical_2018.json')"
      ],
      "execution_count": null,
      "outputs": []
    },
    {
      "cell_type": "code",
      "metadata": {
        "colab": {
          "base_uri": "https://localhost:8080/",
          "height": 570
        },
        "id": "FSjzSECuQQEE",
        "outputId": "d0a988aa-6d11-44ef-dc14-9e928f8c7f98"
      },
      "source": [
        "news = pd.concat([news_2018,news_2019], axis=0)\r\n",
        "news"
      ],
      "execution_count": null,
      "outputs": [
        {
          "output_type": "execute_result",
          "data": {
            "text/html": [
              "<div>\n",
              "<style scoped>\n",
              "    .dataframe tbody tr th:only-of-type {\n",
              "        vertical-align: middle;\n",
              "    }\n",
              "\n",
              "    .dataframe tbody tr th {\n",
              "        vertical-align: top;\n",
              "    }\n",
              "\n",
              "    .dataframe thead th {\n",
              "        text-align: right;\n",
              "    }\n",
              "</style>\n",
              "<table border=\"1\" class=\"dataframe\">\n",
              "  <thead>\n",
              "    <tr style=\"text-align: right;\">\n",
              "      <th></th>\n",
              "      <th>url</th>\n",
              "      <th>title</th>\n",
              "      <th>media</th>\n",
              "      <th>date</th>\n",
              "      <th>content</th>\n",
              "    </tr>\n",
              "  </thead>\n",
              "  <tbody>\n",
              "    <tr>\n",
              "      <th>0</th>\n",
              "      <td>https://news.naver.com/main/read.nhn?mode=LSD&amp;...</td>\n",
              "      <td>中, 한국산 배터리 탑재차 보조금 제외…LG화학·삼성SDI '날벼락'</td>\n",
              "      <td>뉴스1</td>\n",
              "      <td>2017.01.01. 오후 6:57</td>\n",
              "      <td>(서울=뉴스1) 강현창 기자 = 중국 정부가 한국산 배터리를 장착한 전기차만 보조금...</td>\n",
              "    </tr>\n",
              "    <tr>\n",
              "      <th>1</th>\n",
              "      <td>https://news.naver.com/main/read.nhn?mode=LSD&amp;...</td>\n",
              "      <td>LG “AI 로봇 공개” 신성장 사업에 출사표</td>\n",
              "      <td>한국일보</td>\n",
              "      <td>2017.01.01. 오후 8:03</td>\n",
              "      <td>에너지솔루션 등 실질 성과 목표LG그룹은 올해를 인공지능(AI) 로봇과 친환경 자동...</td>\n",
              "    </tr>\n",
              "    <tr>\n",
              "      <th>2</th>\n",
              "      <td>https://news.naver.com/main/read.nhn?mode=LSD&amp;...</td>\n",
              "      <td>LG '올데이그램' 한 번 충전으로 24시간 거뜬</td>\n",
              "      <td>서울경제</td>\n",
              "      <td>2017.01.01. 오후 12:02</td>\n",
              "      <td>무게에 이어 배터리 혁신으로 휴대의 혁신 완성배터리 용량 1.7배 늘리면서도 무게는...</td>\n",
              "    </tr>\n",
              "    <tr>\n",
              "      <th>3</th>\n",
              "      <td>https://news.naver.com/main/read.nhn?mode=LSD&amp;...</td>\n",
              "      <td>CES서 삼성·LG 악수를 보고 싶다</td>\n",
              "      <td>한국경제</td>\n",
              "      <td>2017.01.01. 오후 8:45</td>\n",
              "      <td>[ 김현석 기자  ] 지난해 11월 찾은 베이징에서 한국 기업의 간판은 찾기 힘들었...</td>\n",
              "    </tr>\n",
              "    <tr>\n",
              "      <th>4</th>\n",
              "      <td>https://news.naver.com/main/read.nhn?mode=LSD&amp;...</td>\n",
              "      <td>대창모터스, 美에 실버용 저속 전기차 첫 수출</td>\n",
              "      <td>전자신문</td>\n",
              "      <td>2017.01.01. 오후 6:03</td>\n",
              "      <td>중소기업이 만든 저속 전기자동차가 미국 시장에 수출된다. 미국 내 실버 수요자가 늘...</td>\n",
              "    </tr>\n",
              "    <tr>\n",
              "      <th>...</th>\n",
              "      <td>...</td>\n",
              "      <td>...</td>\n",
              "      <td>...</td>\n",
              "      <td>...</td>\n",
              "      <td>...</td>\n",
              "    </tr>\n",
              "    <tr>\n",
              "      <th>11583</th>\n",
              "      <td>https://news.naver.com/main/read.nhn?mode=LSD&amp;...</td>\n",
              "      <td>올해 10대그룹 시총 136조 늘었다…삼성은 30%↑, 롯데는 22%↓</td>\n",
              "      <td>헤럴드경제</td>\n",
              "      <td>2019.12.31. 오전 10:41</td>\n",
              "      <td>[헤럴드경제=김현경 기자] 올해 국내 증시에서 10대그룹의 시가총액은 지난해 대비 ...</td>\n",
              "    </tr>\n",
              "    <tr>\n",
              "      <th>11584</th>\n",
              "      <td>https://news.naver.com/main/read.nhn?mode=LSD&amp;...</td>\n",
              "      <td>연말·연시 재계 인사 트렌드 들여다보니… 세대교체·쇄신 바람, 안정보다 변화 선택</td>\n",
              "      <td>매일경제</td>\n",
              "      <td>2019.12.31. 오전 11:09</td>\n",
              "      <td>안정보다는 변화와 혁신이었다. 2020년 재계의 임원 인사를 관통하는 트렌드는 ‘변...</td>\n",
              "    </tr>\n",
              "    <tr>\n",
              "      <th>11585</th>\n",
              "      <td>https://news.naver.com/main/read.nhn?mode=LSD&amp;...</td>\n",
              "      <td>HDC현대산업개발 ‘청주 가경 아이파크 4단지’ 내달 7일부터 계약 시작</td>\n",
              "      <td>헤럴드경제</td>\n",
              "      <td>2019.12.31. 오전 9:02</td>\n",
              "      <td>[헤럴드경제] 많은 수요자들에게 선택을 받으며 뜨거운 인기를 보였던 HDC현대산업개...</td>\n",
              "    </tr>\n",
              "    <tr>\n",
              "      <th>11586</th>\n",
              "      <td>https://news.naver.com/main/read.nhn?mode=LSD&amp;...</td>\n",
              "      <td>[특징주 2019] 삼성·NAVER는 웃고 SK는 씁쓸…시총 서열 `희비교차`</td>\n",
              "      <td>매일경제</td>\n",
              "      <td>2019.12.31. 오전 9:59</td>\n",
              "      <td>올해 국내 증시는 글로벌 변수에 따라 불안정성이 크게 대두된 한 해 였지만 유가증권...</td>\n",
              "    </tr>\n",
              "    <tr>\n",
              "      <th>11587</th>\n",
              "      <td>https://news.naver.com/main/read.nhn?mode=LSD&amp;...</td>\n",
              "      <td>바이오가 일자리창출 효자…고용 증가율 제조업의 8배</td>\n",
              "      <td>매일경제</td>\n",
              "      <td>2019.12.31. 오후 4:35</td>\n",
              "      <td>한국 경제가 저(低)성장 늪에 빠져 허우적대는 가운데 의약품 산업이 수출 견인과 국...</td>\n",
              "    </tr>\n",
              "  </tbody>\n",
              "</table>\n",
              "<p>30791 rows × 5 columns</p>\n",
              "</div>"
            ],
            "text/plain": [
              "                                                     url  ...                                            content\n",
              "0      https://news.naver.com/main/read.nhn?mode=LSD&...  ...  (서울=뉴스1) 강현창 기자 = 중국 정부가 한국산 배터리를 장착한 전기차만 보조금...\n",
              "1      https://news.naver.com/main/read.nhn?mode=LSD&...  ...  에너지솔루션 등 실질 성과 목표LG그룹은 올해를 인공지능(AI) 로봇과 친환경 자동...\n",
              "2      https://news.naver.com/main/read.nhn?mode=LSD&...  ...  무게에 이어 배터리 혁신으로 휴대의 혁신 완성배터리 용량 1.7배 늘리면서도 무게는...\n",
              "3      https://news.naver.com/main/read.nhn?mode=LSD&...  ...  [ 김현석 기자  ] 지난해 11월 찾은 베이징에서 한국 기업의 간판은 찾기 힘들었...\n",
              "4      https://news.naver.com/main/read.nhn?mode=LSD&...  ...  중소기업이 만든 저속 전기자동차가 미국 시장에 수출된다. 미국 내 실버 수요자가 늘...\n",
              "...                                                  ...  ...                                                ...\n",
              "11583  https://news.naver.com/main/read.nhn?mode=LSD&...  ...  [헤럴드경제=김현경 기자] 올해 국내 증시에서 10대그룹의 시가총액은 지난해 대비 ...\n",
              "11584  https://news.naver.com/main/read.nhn?mode=LSD&...  ...  안정보다는 변화와 혁신이었다. 2020년 재계의 임원 인사를 관통하는 트렌드는 ‘변...\n",
              "11585  https://news.naver.com/main/read.nhn?mode=LSD&...  ...  [헤럴드경제] 많은 수요자들에게 선택을 받으며 뜨거운 인기를 보였던 HDC현대산업개...\n",
              "11586  https://news.naver.com/main/read.nhn?mode=LSD&...  ...  올해 국내 증시는 글로벌 변수에 따라 불안정성이 크게 대두된 한 해 였지만 유가증권...\n",
              "11587  https://news.naver.com/main/read.nhn?mode=LSD&...  ...  한국 경제가 저(低)성장 늪에 빠져 허우적대는 가운데 의약품 산업이 수출 견인과 국...\n",
              "\n",
              "[30791 rows x 5 columns]"
            ]
          },
          "metadata": {
            "tags": []
          },
          "execution_count": 12
        }
      ]
    },
    {
      "cell_type": "code",
      "metadata": {
        "id": "7Eyt2PZ8nT_k"
      },
      "source": [
        "news = news[['date','title','content','media']]"
      ],
      "execution_count": null,
      "outputs": []
    },
    {
      "cell_type": "code",
      "metadata": {
        "id": "fBlf1l47o9TJ"
      },
      "source": [
        "news['text'] = news['title']+news['content']"
      ],
      "execution_count": null,
      "outputs": []
    },
    {
      "cell_type": "code",
      "metadata": {
        "id": "4WRJyL1UQCSy"
      },
      "source": [
        "for i in range(len(news)):\r\n",
        "    try:\r\n",
        "        news['text'][i] = news['text'][i].replace('[',' ').replace(']',' ').replace('기자',' ').replace('△',' ').replace('◆',' ').replace('<',' ').replace('>',' ')\r\n",
        "    except:\r\n",
        "        continue"
      ],
      "execution_count": null,
      "outputs": []
    },
    {
      "cell_type": "code",
      "metadata": {
        "id": "4JxkgrDNSMNg"
      },
      "source": [
        "news = news.dropna()\r\n",
        "news = news.reset_index(drop=True)"
      ],
      "execution_count": null,
      "outputs": []
    },
    {
      "cell_type": "code",
      "metadata": {
        "id": "vt0AjWfVSHwD"
      },
      "source": [
        "news['time']=''\r\n",
        "\r\n",
        "for i in range(len(news)):\r\n",
        "    news['time'][i] = news['date'][i][12:]\r\n",
        "    news['date'][i] = news['date'][i][:10]"
      ],
      "execution_count": null,
      "outputs": []
    },
    {
      "cell_type": "code",
      "metadata": {
        "id": "JvPM_Ph2StTw"
      },
      "source": [
        "for i in range(len(news)):\r\n",
        "    news['date'][i] = news['date'][i].replace('.','-')"
      ],
      "execution_count": null,
      "outputs": []
    },
    {
      "cell_type": "code",
      "metadata": {
        "id": "Eq_zq-sURTGg"
      },
      "source": [
        "news['timing']=''\r\n",
        "\r\n",
        "# train- 15시 이후 뉴스는 내일 주가에 반영\r\n",
        "for i in range(len(news)):\r\n",
        "    if news['time'][i][1:2] =='후':\r\n",
        "        if news['time'][i][3:5] =='12':\r\n",
        "            pass\r\n",
        "        elif news['time'][i][3:5] =='1:':\r\n",
        "            pass\r\n",
        "        elif news['time'][i][3:5] =='2:':\r\n",
        "            pass\r\n",
        "        else:\r\n",
        "            news['timing'][i] = '내일'\r\n",
        "    else:\r\n",
        "        pass\r\n",
        "\r\n",
        "news['date'] = pd.to_datetime(news['date'])"
      ],
      "execution_count": null,
      "outputs": []
    },
    {
      "cell_type": "code",
      "metadata": {
        "colab": {
          "base_uri": "https://localhost:8080/"
        },
        "id": "W0E5XF4bSzR5",
        "outputId": "a91438cf-c841-47a3-946c-22ea33356624"
      },
      "source": [
        "from datetime import datetime, timedelta\r\n",
        "\r\n",
        "news['new_date']=''\r\n",
        "\r\n",
        "for i in range(len(news)):\r\n",
        "    if news['timing'][i] =='내일':\r\n",
        "        news['new_date'][i] = news['date'][i] + timedelta(days=1)\r\n",
        "    else:\r\n",
        "        news['new_date'][i] = news['date'][i]\r\n",
        "\r\n",
        "for i in range(len(news)):\r\n",
        "    news['new_date'][i] = news['new_date'][i].strftime('%Y-%m-%d')"
      ],
      "execution_count": null,
      "outputs": [
        {
          "output_type": "stream",
          "text": [
            "/usr/local/lib/python3.7/dist-packages/ipykernel_launcher.py:7: SettingWithCopyWarning: \n",
            "A value is trying to be set on a copy of a slice from a DataFrame\n",
            "\n",
            "See the caveats in the documentation: https://pandas.pydata.org/pandas-docs/stable/user_guide/indexing.html#returning-a-view-versus-a-copy\n",
            "  import sys\n",
            "/usr/local/lib/python3.7/dist-packages/ipykernel_launcher.py:9: SettingWithCopyWarning: \n",
            "A value is trying to be set on a copy of a slice from a DataFrame\n",
            "\n",
            "See the caveats in the documentation: https://pandas.pydata.org/pandas-docs/stable/user_guide/indexing.html#returning-a-view-versus-a-copy\n",
            "  if __name__ == '__main__':\n",
            "/usr/local/lib/python3.7/dist-packages/ipykernel_launcher.py:12: SettingWithCopyWarning: \n",
            "A value is trying to be set on a copy of a slice from a DataFrame\n",
            "\n",
            "See the caveats in the documentation: https://pandas.pydata.org/pandas-docs/stable/user_guide/indexing.html#returning-a-view-versus-a-copy\n",
            "  if sys.path[0] == '':\n"
          ],
          "name": "stderr"
        }
      ]
    },
    {
      "cell_type": "code",
      "metadata": {
        "id": "BYDm4io6S0wT"
      },
      "source": [
        "news = news.sort_values(by='date')"
      ],
      "execution_count": null,
      "outputs": []
    },
    {
      "cell_type": "code",
      "metadata": {
        "colab": {
          "base_uri": "https://localhost:8080/",
          "height": 570
        },
        "id": "N3ftGkXhS41y",
        "outputId": "d8c5e51b-0be8-4e76-9b8c-1f45887e1c37"
      },
      "source": [
        "news"
      ],
      "execution_count": null,
      "outputs": [
        {
          "output_type": "execute_result",
          "data": {
            "text/html": [
              "<div>\n",
              "<style scoped>\n",
              "    .dataframe tbody tr th:only-of-type {\n",
              "        vertical-align: middle;\n",
              "    }\n",
              "\n",
              "    .dataframe tbody tr th {\n",
              "        vertical-align: top;\n",
              "    }\n",
              "\n",
              "    .dataframe thead th {\n",
              "        text-align: right;\n",
              "    }\n",
              "</style>\n",
              "<table border=\"1\" class=\"dataframe\">\n",
              "  <thead>\n",
              "    <tr style=\"text-align: right;\">\n",
              "      <th></th>\n",
              "      <th>date</th>\n",
              "      <th>title</th>\n",
              "      <th>content</th>\n",
              "      <th>media</th>\n",
              "      <th>text</th>\n",
              "      <th>time</th>\n",
              "      <th>timing</th>\n",
              "      <th>new_date</th>\n",
              "    </tr>\n",
              "  </thead>\n",
              "  <tbody>\n",
              "    <tr>\n",
              "      <th>0</th>\n",
              "      <td>2017-01-01</td>\n",
              "      <td>中, 한국산 배터리 탑재차 보조금 제외…LG화학·삼성SDI '날벼락'</td>\n",
              "      <td>(서울=뉴스1) 강현창 기자 = 중국 정부가 한국산 배터리를 장착한 전기차만 보조금...</td>\n",
              "      <td>뉴스1</td>\n",
              "      <td>中, 한국산 배터리 탑재차 보조금 제외…LG화학·삼성SDI '날벼락'(서울=뉴스1)...</td>\n",
              "      <td>오후 6:57</td>\n",
              "      <td>내일</td>\n",
              "      <td>2017-01-02</td>\n",
              "    </tr>\n",
              "    <tr>\n",
              "      <th>14</th>\n",
              "      <td>2017-01-01</td>\n",
              "      <td>늘어가는 중국 '사드 몽니'…커지는 경제타격 우려</td>\n",
              "      <td>늘어가는 중국 '사드 몽니'…커지는 경제타격 우려[앵커] 수출품 통관지연, 한류 차...</td>\n",
              "      <td>연합뉴스TV</td>\n",
              "      <td>늘어가는 중국 '사드 몽니'…커지는 경제타격 우려늘어가는 중국 '사드 몽니'…커지는...</td>\n",
              "      <td>오전 11:05</td>\n",
              "      <td></td>\n",
              "      <td>2017-01-01</td>\n",
              "    </tr>\n",
              "    <tr>\n",
              "      <th>13</th>\n",
              "      <td>2017-01-01</td>\n",
              "      <td>[핫이슈] 정유년 그룹별 경영 키워드는··· 삼성 '지주사 전환' 현대차는 '820...</td>\n",
              "      <td>SK '젊은 CEO' 세대교체 안착LG 전장사업부문 본궤도 진입롯데 호텔 상장···...</td>\n",
              "      <td>서울경제</td>\n",
              "      <td>[핫이슈] 정유년 그룹별 경영 키워드는··· 삼성 '지주사 전환' 현대차는 '820...</td>\n",
              "      <td>오후 6:05</td>\n",
              "      <td>내일</td>\n",
              "      <td>2017-01-02</td>\n",
              "    </tr>\n",
              "    <tr>\n",
              "      <th>12</th>\n",
              "      <td>2017-01-01</td>\n",
              "      <td>재계, 정유년도 '산너머 산'…위기극복 DNA로 재도약 다짐</td>\n",
              "      <td>[머니투데이 오동희 기자, 홍정표 기자] [삼성 LG 현대차 등 電車군단 내수와 수...</td>\n",
              "      <td>머니투데이</td>\n",
              "      <td>재계, 정유년도 '산너머 산'…위기극복 DNA로 재도약 다짐[머니투데이 오동희 기자...</td>\n",
              "      <td>오전 5:00</td>\n",
              "      <td></td>\n",
              "      <td>2017-01-01</td>\n",
              "    </tr>\n",
              "    <tr>\n",
              "      <th>10</th>\n",
              "      <td>2017-01-01</td>\n",
              "      <td>정유년 건설 CEO 닭띠는?…건설경기 침체 속 활로찾기 과제</td>\n",
              "      <td>(서울=뉴스1) 진희정 기자,오경묵 기자 = 올해 건설사들의 경영환경이 녹록지 않다...</td>\n",
              "      <td>뉴스1</td>\n",
              "      <td>정유년 건설 CEO 닭띠는?…건설경기 침체 속 활로찾기 과제(서울=뉴스1) 진희정 ...</td>\n",
              "      <td>오전 6:30</td>\n",
              "      <td></td>\n",
              "      <td>2017-01-01</td>\n",
              "    </tr>\n",
              "    <tr>\n",
              "      <th>...</th>\n",
              "      <td>...</td>\n",
              "      <td>...</td>\n",
              "      <td>...</td>\n",
              "      <td>...</td>\n",
              "      <td>...</td>\n",
              "      <td>...</td>\n",
              "      <td>...</td>\n",
              "      <td>...</td>\n",
              "    </tr>\n",
              "    <tr>\n",
              "      <th>30745</th>\n",
              "      <td>2019-12-31</td>\n",
              "      <td>대우건설·금호타이어 등 '안전불감' 기업 1420곳 공개</td>\n",
              "      <td>(세종=뉴스1) 김혜지 기자 = 올해 중대·사망재해가 일어나는 등 안전보건 관리에 ...</td>\n",
              "      <td>뉴스1</td>\n",
              "      <td>대우건설·금호타이어 등 '안전불감' 기업 1420곳 공개(세종=뉴스1) 김혜지 기자...</td>\n",
              "      <td>오전 6:00</td>\n",
              "      <td></td>\n",
              "      <td>2019-12-31</td>\n",
              "    </tr>\n",
              "    <tr>\n",
              "      <th>30744</th>\n",
              "      <td>2019-12-31</td>\n",
              "      <td>구인회 LG 창업주 50주기…공식행사 없이 조용히</td>\n",
              "      <td>(서울=뉴스1) 박동해 기자 = \"기업은 사람이 사람을 위해서 하는 활동이다. 기업...</td>\n",
              "      <td>뉴스1</td>\n",
              "      <td>구인회 LG 창업주 50주기…공식행사 없이 조용히(서울=뉴스1) 박동해 기자 = \"...</td>\n",
              "      <td>오전 6:10</td>\n",
              "      <td></td>\n",
              "      <td>2019-12-31</td>\n",
              "    </tr>\n",
              "    <tr>\n",
              "      <th>30756</th>\n",
              "      <td>2019-12-31</td>\n",
              "      <td>[특징주 2019] 삼성·NAVER는 웃고 SK는 씁쓸…시총 서열 `희비교차`</td>\n",
              "      <td>올해 국내 증시는 글로벌 변수에 따라 불안정성이 크게 대두된 한 해 였지만 유가증권...</td>\n",
              "      <td>매일경제</td>\n",
              "      <td>[특징주 2019] 삼성·NAVER는 웃고 SK는 씁쓸…시총 서열 `희비교차`올해 ...</td>\n",
              "      <td>오전 9:59</td>\n",
              "      <td></td>\n",
              "      <td>2019-12-31</td>\n",
              "    </tr>\n",
              "    <tr>\n",
              "      <th>30749</th>\n",
              "      <td>2019-12-31</td>\n",
              "      <td>순매수 상위 10개중 8개↑… 올해도 外人은 웃었다</td>\n",
              "      <td>올해 주식시장에서도 외국인 투자자의 ‘독식’이 이어졌다. 기관투자자도 나쁘지 않은 ...</td>\n",
              "      <td>문화일보</td>\n",
              "      <td>순매수 상위 10개중 8개↑… 올해도 外人은 웃었다올해 주식시장에서도 외국인 투자자...</td>\n",
              "      <td>오후 1:51</td>\n",
              "      <td></td>\n",
              "      <td>2019-12-31</td>\n",
              "    </tr>\n",
              "    <tr>\n",
              "      <th>30757</th>\n",
              "      <td>2019-12-31</td>\n",
              "      <td>바이오가 일자리창출 효자…고용 증가율 제조업의 8배</td>\n",
              "      <td>한국 경제가 저(低)성장 늪에 빠져 허우적대는 가운데 의약품 산업이 수출 견인과 국...</td>\n",
              "      <td>매일경제</td>\n",
              "      <td>바이오가 일자리창출 효자…고용 증가율 제조업의 8배한국 경제가 저(低)성장 늪에 빠...</td>\n",
              "      <td>오후 4:35</td>\n",
              "      <td>내일</td>\n",
              "      <td>2020-01-01</td>\n",
              "    </tr>\n",
              "  </tbody>\n",
              "</table>\n",
              "<p>30758 rows × 8 columns</p>\n",
              "</div>"
            ],
            "text/plain": [
              "            date  ...    new_date\n",
              "0     2017-01-01  ...  2017-01-02\n",
              "14    2017-01-01  ...  2017-01-01\n",
              "13    2017-01-01  ...  2017-01-02\n",
              "12    2017-01-01  ...  2017-01-01\n",
              "10    2017-01-01  ...  2017-01-01\n",
              "...          ...  ...         ...\n",
              "30745 2019-12-31  ...  2019-12-31\n",
              "30744 2019-12-31  ...  2019-12-31\n",
              "30756 2019-12-31  ...  2019-12-31\n",
              "30749 2019-12-31  ...  2019-12-31\n",
              "30757 2019-12-31  ...  2020-01-01\n",
              "\n",
              "[30758 rows x 8 columns]"
            ]
          },
          "metadata": {
            "tags": []
          },
          "execution_count": 22
        }
      ]
    },
    {
      "cell_type": "code",
      "metadata": {
        "id": "IGU2-SpKTWmy"
      },
      "source": [
        "news =news[['new_date','text','media']]"
      ],
      "execution_count": null,
      "outputs": []
    },
    {
      "cell_type": "code",
      "metadata": {
        "id": "9eXgxclKT2GZ"
      },
      "source": [
        "news.columns=['date','text','media']"
      ],
      "execution_count": null,
      "outputs": []
    },
    {
      "cell_type": "code",
      "metadata": {
        "id": "hRui3iOVQQLz",
        "colab": {
          "base_uri": "https://localhost:8080/"
        },
        "outputId": "b9231097-b909-4892-ef0b-483c17ca9f48"
      },
      "source": [
        "news['date'] = pd.to_datetime(news['date'])"
      ],
      "execution_count": null,
      "outputs": [
        {
          "output_type": "stream",
          "text": [
            "/usr/local/lib/python3.7/dist-packages/ipykernel_launcher.py:1: SettingWithCopyWarning: \n",
            "A value is trying to be set on a copy of a slice from a DataFrame.\n",
            "Try using .loc[row_indexer,col_indexer] = value instead\n",
            "\n",
            "See the caveats in the documentation: https://pandas.pydata.org/pandas-docs/stable/user_guide/indexing.html#returning-a-view-versus-a-copy\n",
            "  \"\"\"Entry point for launching an IPython kernel.\n"
          ],
          "name": "stderr"
        }
      ]
    },
    {
      "cell_type": "code",
      "metadata": {
        "id": "p37kauQ7QnIs"
      },
      "source": [
        "# 전체 뉴스 (나중에 감성파악하기 위함)\r\n",
        "# news.to_csv('/content/drive/MyDrive/DB_Finance/data/news_for_2017.csv')"
      ],
      "execution_count": null,
      "outputs": []
    },
    {
      "cell_type": "code",
      "metadata": {
        "id": "iLABlyG2pegK"
      },
      "source": [
        "peak_change = pd.merge(news,stock, how='inner',on='date')"
      ],
      "execution_count": null,
      "outputs": []
    },
    {
      "cell_type": "code",
      "metadata": {
        "id": "_D1ZNeZxSTHY"
      },
      "source": [
        "peak_change = peak_change.sort_values(by=\"date\")"
      ],
      "execution_count": null,
      "outputs": []
    },
    {
      "cell_type": "code",
      "metadata": {
        "colab": {
          "base_uri": "https://localhost:8080/",
          "height": 402
        },
        "id": "l2EzuALc1iaa",
        "outputId": "7b52fe88-965f-4675-d7a9-1159cd13b58f"
      },
      "source": [
        "peak_change"
      ],
      "execution_count": null,
      "outputs": [
        {
          "output_type": "execute_result",
          "data": {
            "text/html": [
              "<div>\n",
              "<style scoped>\n",
              "    .dataframe tbody tr th:only-of-type {\n",
              "        vertical-align: middle;\n",
              "    }\n",
              "\n",
              "    .dataframe tbody tr th {\n",
              "        vertical-align: top;\n",
              "    }\n",
              "\n",
              "    .dataframe thead th {\n",
              "        text-align: right;\n",
              "    }\n",
              "</style>\n",
              "<table border=\"1\" class=\"dataframe\">\n",
              "  <thead>\n",
              "    <tr style=\"text-align: right;\">\n",
              "      <th></th>\n",
              "      <th>date</th>\n",
              "      <th>text</th>\n",
              "      <th>media</th>\n",
              "      <th>price</th>\n",
              "      <th>volume</th>\n",
              "      <th>change</th>\n",
              "    </tr>\n",
              "  </thead>\n",
              "  <tbody>\n",
              "    <tr>\n",
              "      <th>0</th>\n",
              "      <td>2017-01-02</td>\n",
              "      <td>中, 한국산 배터리 탑재차 보조금 제외…LG화학·삼성SDI '날벼락'(서울=뉴스1)...</td>\n",
              "      <td>뉴스1</td>\n",
              "      <td>253000</td>\n",
              "      <td>294947</td>\n",
              "      <td>-3.07</td>\n",
              "    </tr>\n",
              "    <tr>\n",
              "      <th>30</th>\n",
              "      <td>2017-01-02</td>\n",
              "      <td>[리더십 4.0시대]2016년 1년간 분석한 '4차 산업혁명' 리더 경영인은 누굴까...</td>\n",
              "      <td>서울경제</td>\n",
              "      <td>253000</td>\n",
              "      <td>294947</td>\n",
              "      <td>-3.07</td>\n",
              "    </tr>\n",
              "    <tr>\n",
              "      <th>31</th>\n",
              "      <td>2017-01-02</td>\n",
              "      <td>구본무 회장, \"창립 70년 맞은 올해 새롭게 시작하자\"[머니투데이 오동희 기자] ...</td>\n",
              "      <td>머니투데이</td>\n",
              "      <td>253000</td>\n",
              "      <td>294947</td>\n",
              "      <td>-3.07</td>\n",
              "    </tr>\n",
              "    <tr>\n",
              "      <th>32</th>\n",
              "      <td>2017-01-02</td>\n",
              "      <td>개미들 한미약품 몰빵했다 '쪽박'…손실 무려 -57.75%코스피 개인 순매수 상위 ...</td>\n",
              "      <td>연합뉴스</td>\n",
              "      <td>253000</td>\n",
              "      <td>294947</td>\n",
              "      <td>-3.07</td>\n",
              "    </tr>\n",
              "    <tr>\n",
              "      <th>33</th>\n",
              "      <td>2017-01-02</td>\n",
              "      <td>[로봇뉴스]아모레퍼시픽_주요 매물구간인 354,000원선이 저항대로 작용</td>\n",
              "      <td>전자신문</td>\n",
              "      <td>253000</td>\n",
              "      <td>294947</td>\n",
              "      <td>-3.07</td>\n",
              "    </tr>\n",
              "    <tr>\n",
              "      <th>...</th>\n",
              "      <td>...</td>\n",
              "      <td>...</td>\n",
              "      <td>...</td>\n",
              "      <td>...</td>\n",
              "      <td>...</td>\n",
              "      <td>...</td>\n",
              "    </tr>\n",
              "    <tr>\n",
              "      <th>7031</th>\n",
              "      <td>2019-12-30</td>\n",
              "      <td>수출지표 개선에 코스피 상승..엔터 등 중형성장주 매수 기회[주간 증시 전망]이번주...</td>\n",
              "      <td>파이낸셜뉴스</td>\n",
              "      <td>317500</td>\n",
              "      <td>168990</td>\n",
              "      <td>2.25</td>\n",
              "    </tr>\n",
              "    <tr>\n",
              "      <th>7030</th>\n",
              "      <td>2019-12-30</td>\n",
              "      <td>‘어떻게 살 것인가’ 남은 이들에게 메시지 남기고 떠나다올 한 해 국내 정치권에선 ...</td>\n",
              "      <td>경향신문</td>\n",
              "      <td>317500</td>\n",
              "      <td>168990</td>\n",
              "      <td>2.25</td>\n",
              "    </tr>\n",
              "    <tr>\n",
              "      <th>7054</th>\n",
              "      <td>2019-12-30</td>\n",
              "      <td>'中 배터리 1위' CATL, 시가총액 38조원 돌파세계 최대 배터리 제조사인 중국...</td>\n",
              "      <td>전자신문</td>\n",
              "      <td>317500</td>\n",
              "      <td>168990</td>\n",
              "      <td>2.25</td>\n",
              "    </tr>\n",
              "    <tr>\n",
              "      <th>7041</th>\n",
              "      <td>2019-12-30</td>\n",
              "      <td>[개장] 코스피, 2200선 혼조세… 외인·기관 동반매도코스피가 2200선에서 혼조...</td>\n",
              "      <td>머니S</td>\n",
              "      <td>317500</td>\n",
              "      <td>168990</td>\n",
              "      <td>2.25</td>\n",
              "    </tr>\n",
              "    <tr>\n",
              "      <th>7055</th>\n",
              "      <td>2019-12-30</td>\n",
              "      <td>[오후 시황] 코스피 외국인 매도 속 소폭 하락세[서울경제] 코스피가 올해 마지막 ...</td>\n",
              "      <td>서울경제</td>\n",
              "      <td>317500</td>\n",
              "      <td>168990</td>\n",
              "      <td>2.25</td>\n",
              "    </tr>\n",
              "  </tbody>\n",
              "</table>\n",
              "<p>7056 rows × 6 columns</p>\n",
              "</div>"
            ],
            "text/plain": [
              "           date  ... change\n",
              "0    2017-01-02  ...  -3.07\n",
              "30   2017-01-02  ...  -3.07\n",
              "31   2017-01-02  ...  -3.07\n",
              "32   2017-01-02  ...  -3.07\n",
              "33   2017-01-02  ...  -3.07\n",
              "...         ...  ...    ...\n",
              "7031 2019-12-30  ...   2.25\n",
              "7030 2019-12-30  ...   2.25\n",
              "7054 2019-12-30  ...   2.25\n",
              "7041 2019-12-30  ...   2.25\n",
              "7055 2019-12-30  ...   2.25\n",
              "\n",
              "[7056 rows x 6 columns]"
            ]
          },
          "metadata": {
            "tags": []
          },
          "execution_count": 28
        }
      ]
    },
    {
      "cell_type": "code",
      "metadata": {
        "id": "FqcNG1D5ZtQp"
      },
      "source": [
        "peak_change.to_csv('/content/drive/MyDrive/DB_Finance/data/peak_change.csv', index=False)"
      ],
      "execution_count": null,
      "outputs": []
    }
  ]
}